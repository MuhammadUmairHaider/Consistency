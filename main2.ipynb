{
 "cells": [
  {
   "cell_type": "code",
   "execution_count": 1,
   "metadata": {},
   "outputs": [
    {
     "name": "stderr",
     "output_type": "stream",
     "text": [
      "/mounts/u-amo-d1/grad/mha361/work/probless/Sentiment/utilities.py:116: FutureWarning: You are using `torch.load` with `weights_only=False` (the current default value), which uses the default pickle module implicitly. It is possible to construct malicious pickle data which will execute arbitrary code during unpickling (See https://github.com/pytorch/pytorch/blob/main/SECURITY.md#untrusted-models for more details). In a future release, the default value for `weights_only` will be flipped to `True`. This limits the functions that could be executed during unpickling. Arbitrary objects will no longer be allowed to be loaded via this mode unless they are explicitly allowlisted by the user via `torch.serialization.add_safe_globals`. We recommend you start setting `weights_only=True` for any use case where you don't have full control of the loaded file. Please open an issue on GitHub for any issues related to this experimental feature.\n",
      "  model.load_state_dict(torch.load(weights_path))\n"
     ]
    },
    {
     "name": "stdout",
     "output_type": "stream",
     "text": [
      "Recording activations...\n"
     ]
    },
    {
     "name": "stderr",
     "output_type": "stream",
     "text": [
      "  0%|          | 0/4666 [00:00<?, ?it/s]"
     ]
    },
    {
     "data": {
      "application/vnd.jupyter.widget-view+json": {
       "model_id": "94d5f5d92f7a494eb500075686b5c0ee",
       "version_major": 2,
       "version_minor": 0
      },
      "text/plain": [
       "  0%|          | 0/4666 [00:00<?, ?it/s]"
      ]
     },
     "metadata": {},
     "output_type": "display_data"
    },
    {
     "name": "stdout",
     "output_type": "stream",
     "text": [
      "Recording activations...\n"
     ]
    },
    {
     "name": "stderr",
     "output_type": "stream",
     "text": [
      "  0%|          | 0/4666 [00:11<?, ?it/s]\n"
     ]
    },
    {
     "data": {
      "application/vnd.jupyter.widget-view+json": {
       "model_id": "6820fb73de364365a8dc84b4e84b9441",
       "version_major": 2,
       "version_minor": 0
      },
      "text/plain": [
       "  0%|          | 0/5362 [00:00<?, ?it/s]"
      ]
     },
     "metadata": {},
     "output_type": "display_data"
    },
    {
     "name": "stdout",
     "output_type": "stream",
     "text": [
      "Recording activations...\n"
     ]
    },
    {
     "name": "stderr",
     "output_type": "stream",
     "text": [
      "  0%|          | 0/5362 [00:13<?, ?it/s]\n"
     ]
    },
    {
     "data": {
      "application/vnd.jupyter.widget-view+json": {
       "model_id": "fd74154371ed4808b529ebe312bbba31",
       "version_major": 2,
       "version_minor": 0
      },
      "text/plain": [
       "  0%|          | 0/1304 [00:00<?, ?it/s]"
      ]
     },
     "metadata": {},
     "output_type": "display_data"
    },
    {
     "name": "stdout",
     "output_type": "stream",
     "text": [
      "Recording activations...\n"
     ]
    },
    {
     "name": "stderr",
     "output_type": "stream",
     "text": [
      "  0%|          | 0/1304 [00:09<?, ?it/s]\n"
     ]
    },
    {
     "data": {
      "application/vnd.jupyter.widget-view+json": {
       "model_id": "44d1a4e70469431da2502b517addd0e0",
       "version_major": 2,
       "version_minor": 0
      },
      "text/plain": [
       "  0%|          | 0/2159 [00:00<?, ?it/s]"
      ]
     },
     "metadata": {},
     "output_type": "display_data"
    },
    {
     "name": "stdout",
     "output_type": "stream",
     "text": [
      "Recording activations...\n"
     ]
    },
    {
     "name": "stderr",
     "output_type": "stream",
     "text": [
      "  0%|          | 0/2159 [00:10<?, ?it/s]\n"
     ]
    },
    {
     "data": {
      "application/vnd.jupyter.widget-view+json": {
       "model_id": "df16e1d02b3840bb8e59a7a333cc2977",
       "version_major": 2,
       "version_minor": 0
      },
      "text/plain": [
       "  0%|          | 0/1937 [00:00<?, ?it/s]"
      ]
     },
     "metadata": {},
     "output_type": "display_data"
    },
    {
     "name": "stdout",
     "output_type": "stream",
     "text": [
      "Recording activations...\n"
     ]
    },
    {
     "name": "stderr",
     "output_type": "stream",
     "text": [
      "  0%|          | 0/1937 [00:09<?, ?it/s]\n"
     ]
    },
    {
     "data": {
      "application/vnd.jupyter.widget-view+json": {
       "model_id": "d281e0fc54c540a7b8a1c5efb35372df",
       "version_major": 2,
       "version_minor": 0
      },
      "text/plain": [
       "  0%|          | 0/572 [00:00<?, ?it/s]"
      ]
     },
     "metadata": {},
     "output_type": "display_data"
    }
   ],
   "source": [
    "from transformers import AutoTokenizer\n",
    "from datasets import load_dataset\n",
    "from tqdm import tqdm\n",
    "import torch\n",
    "from prettytable import PrettyTable\n",
    "# from model_distill_bert import getmodel\n",
    "from utilities import compute_accuracy, compute_masks, mask_distillbert, get_model_distilbert, record_activations, mask_range_distilbert\n",
    "\n",
    "\n",
    "\n",
    "tokenizer = AutoTokenizer.from_pretrained(\"esuriddick/distilbert-base-uncased-finetuned-emotion\")\n",
    "# Check if a GPU is available and use it\n",
    "device = torch.device('cuda' if torch.cuda.is_available() else 'cpu')\n",
    "\n",
    "\n",
    "# Load the dataset\n",
    "dataset_all = load_dataset(\"dair-ai/emotion\")\n",
    "# Select the train split\n",
    "dataset_all = dataset_all['train']\n",
    "all_fc_vals = []\n",
    "for j in range(0,6):\n",
    "    model = get_model_distilbert(\"2O24dpower2024/distilbert-base-uncased-finetuned-emotion\",5)\n",
    "    dataset = dataset_all.filter(lambda x: x['label'] in [j])\n",
    "    dataset_complement = dataset_all.filter(lambda x: x['label'] not in [j])\n",
    "    print(\"Recording activations...\")\n",
    "    progress_bar = tqdm(total=len(dataset))\n",
    "    model.to(device)\n",
    "    model.eval()\n",
    "    fc_vals = []\n",
    "    all_fc_vals.append(record_activations(dataset, model, tokenizer, text_tag='text', mask_layer=5, batch_size=256))"
   ]
  },
  {
   "cell_type": "code",
   "execution_count": null,
   "metadata": {},
   "outputs": [],
   "source": [
    "import plotly.graph_objects as go\n",
    "from plotly.subplots import make_subplots\n",
    "import numpy as np\n",
    "from ipywidgets import VBox, Output\n",
    "from utilities import compute_masks\n",
    "from IPython.display import display\n",
    "\n",
    "output_widgets = []\n",
    "\n",
    "for i, fc1 in enumerate(all_fc_vals):\n",
    "    fc1 = np.array(fc1)\n",
    "    mask_max, mask_std, mask_intersection, mask_max_low_std, mask_max_high_std, mask_std_high_max = compute_masks(fc1, 0.5)\n",
    "    # mask_std = mask_max_low_std\n",
    "    \n",
    "    m = np.mean(np.abs(fc1), axis=0)\n",
    "    s = np.std(fc1, axis=0)\n",
    "    min_val = np.min(fc1, axis=0)\n",
    "    max_val = np.max(fc1, axis=0)\n",
    "    \n",
    "    # Normalize std and mean\n",
    "    s_norm = (s - min_val) / (max_val - min_val)\n",
    "    m_norm = m#(m - min_val) / (max_val - min_val)\n",
    "    \n",
    "    # Create indices for different masks\n",
    "    indices_max = np.where(mask_max == 0)[0]\n",
    "    indices_std = np.where(mask_std == 0)[0]\n",
    "    indices_intersection = np.intersect1d(indices_max, indices_std)\n",
    "    indices_max_minus_std = np.setdiff1d(indices_max, indices_std)\n",
    "    indices_std_minus_max = np.setdiff1d(indices_std, indices_max)\n",
    "    \n",
    "    # Count the indices in each set\n",
    "    count_all = len(m_norm)\n",
    "    count_max = len(indices_max)\n",
    "    count_std = len(indices_std)\n",
    "    count_intersection = len(indices_intersection)\n",
    "    count_max_minus_std = len(indices_max_minus_std)\n",
    "    count_std_minus_max = len(indices_std_minus_max)\n",
    "    \n",
    "    out = Output()\n",
    "    with out:\n",
    "        # Create subplots with counts in titles\n",
    "        fig = make_subplots(rows=2, cols=3, \n",
    "                            subplot_titles=(f\"All Activations (Count: {count_all})\",\n",
    "                                            f\"Max Mask (Count: {count_max})\", \n",
    "                                            f\"Std Mask (Count: {count_std})\", \n",
    "                                            f\"Intersection (Count: {count_intersection})\",\n",
    "                                            f\"Max - Std (Count: {count_max_minus_std})\", \n",
    "                                            f\"Std - Max (Count: {count_std_minus_max})\"))\n",
    "        \n",
    "        # Helper function to add traces\n",
    "        def add_traces(indices, row, col):\n",
    "            indices_list = list(indices)  # Convert range or numpy array to list\n",
    "            fig.add_trace(\n",
    "                go.Scatter(\n",
    "                    x=indices_list,\n",
    "                    y=m_norm[indices_list],\n",
    "                    mode='markers',\n",
    "                    name='Mean',\n",
    "                    marker=dict(size=3, color='blue'),\n",
    "                    showlegend=(row == 1 and col == 1)\n",
    "                ),\n",
    "                row=row, col=col\n",
    "            )\n",
    "            fig.add_trace(\n",
    "                go.Scatter(\n",
    "                    x=indices_list,\n",
    "                    y=s_norm[indices_list],\n",
    "                    mode='markers',\n",
    "                    name='Std Dev',\n",
    "                    marker=dict(size=3, color='red'),\n",
    "                    showlegend=(row == 1 and col == 1)\n",
    "                ),\n",
    "                row=row, col=col\n",
    "            )\n",
    "            for j in indices_list:\n",
    "                fig.add_trace(\n",
    "                    go.Scatter(\n",
    "                        x=[j, j],\n",
    "                        y=[m_norm[j], s_norm[j]],\n",
    "                        mode='lines',\n",
    "                        line=dict(color='gray', width=0.5),\n",
    "                        showlegend=False\n",
    "                    ),\n",
    "                    row=row, col=col\n",
    "                )\n",
    "        \n",
    "        # Add traces for all activations\n",
    "        add_traces(range(len(m_norm)), 1, 1)\n",
    "        \n",
    "        # Add traces for other plots\n",
    "        add_traces(indices_max, 1, 2)\n",
    "        add_traces(indices_std, 1, 3)\n",
    "        add_traces(indices_intersection, 2, 1)\n",
    "        add_traces(indices_max_minus_std, 2, 2)\n",
    "        add_traces(indices_std_minus_max, 2, 3)\n",
    "        \n",
    "        # Update layout\n",
    "        fig.update_layout(\n",
    "            title=f'Mean and Standard Deviation of Activations - Class {i+1}',\n",
    "            height=1200,\n",
    "            width=1800,\n",
    "            hovermode='closest'\n",
    "        )\n",
    "        \n",
    "        # Update x and y axis labels for all subplots\n",
    "        for row in range(1, 3):\n",
    "            for col in range(1, 4):\n",
    "                fig.update_xaxes(title_text=\"Activation Index\", row=row, col=col)\n",
    "                fig.update_yaxes(title_text=\"Normalized Value\", row=row, col=col)\n",
    "        \n",
    "        display(fig)\n",
    "    \n",
    "    output_widgets.append(out)\n",
    "\n",
    "# Display all figures in a vertical box\n",
    "# display(VBox(output_widgets))"
   ]
  },
  {
   "cell_type": "code",
   "execution_count": null,
   "metadata": {},
   "outputs": [],
   "source": [
    "import plotly.graph_objects as go\n",
    "import plotly.express as px\n",
    "import numpy as np\n",
    "from ipywidgets import VBox, Output\n",
    "from utilities import compute_masks\n",
    "from IPython.display import display\n",
    "\n",
    "def create_index_tracking_plot(indices_per_class, title):\n",
    "    num_classes = len(indices_per_class)\n",
    "    all_indices = sorted(set.union(*[set(indices) for indices in indices_per_class]))\n",
    "    \n",
    "    fig = go.Figure()\n",
    "    \n",
    "    # Create a color scale\n",
    "    color_scale = px.colors.diverging.RdYlGn_r  # Red to Yellow to Green color scale\n",
    "\n",
    "    # Add edges for indices present in multiple classes\n",
    "    for idx in all_indices:\n",
    "        classes_with_idx = [i for i, indices in enumerate(indices_per_class) if idx in indices]\n",
    "        if len(classes_with_idx) > 1:\n",
    "            x = [idx] * len(classes_with_idx)\n",
    "            y = classes_with_idx\n",
    "            color_index = (len(classes_with_idx) - 1) / (num_classes - 1)  # Normalize to [0, 1]\n",
    "            edge_color = px.colors.sample_colorscale(color_scale, [color_index])[0]\n",
    "            \n",
    "            fig.add_trace(go.Scatter(\n",
    "                x=x,\n",
    "                y=y,\n",
    "                mode='lines',\n",
    "                line=dict(color=edge_color, width=2),\n",
    "                hoverinfo='text',\n",
    "                hovertext=f'Index: {idx}<br>Present in {len(classes_with_idx)} classes',\n",
    "                showlegend=False\n",
    "            ))\n",
    "    \n",
    "    # Add scatter plots for each class\n",
    "    for class_idx, indices in enumerate(indices_per_class):\n",
    "        fig.add_trace(go.Scatter(\n",
    "            x=indices,\n",
    "            y=[class_idx] * len(indices),\n",
    "            mode='markers',\n",
    "            name=f'Class {class_idx + 1}',\n",
    "            marker=dict(size=4, symbol='circle', color='black'),\n",
    "            hoverinfo='text',\n",
    "            hovertext=[f'Index: {idx}<br>Class: {class_idx + 1}' for idx in indices]\n",
    "        ))\n",
    "    \n",
    "    fig.update_layout(\n",
    "        title=title,\n",
    "        xaxis_title='Activation Index',\n",
    "        yaxis_title='Class',\n",
    "        yaxis=dict(\n",
    "            tickmode='array',\n",
    "            tickvals=list(range(num_classes)),\n",
    "            ticktext=[f'Class {i+1}' for i in range(num_classes)]\n",
    "        ),\n",
    "        hovermode='closest',\n",
    "        width=1500,\n",
    "        height=800,\n",
    "        plot_bgcolor='white',\n",
    "        showlegend=False\n",
    "    )\n",
    "    \n",
    "    fig.update_xaxes(showgrid=True, gridwidth=1, gridcolor='LightGrey')\n",
    "    fig.update_yaxes(showgrid=True, gridwidth=1, gridcolor='LightGrey')\n",
    "    \n",
    "    # Add color bar\n",
    "    fig.add_trace(go.Scatter(\n",
    "        x=[None],\n",
    "        y=[None],\n",
    "        mode='markers',\n",
    "        marker=dict(\n",
    "            colorscale=color_scale,\n",
    "            showscale=True,\n",
    "            cmin=1,\n",
    "            cmax=num_classes,\n",
    "            colorbar=dict(\n",
    "                title='Number of Classes',\n",
    "                tickvals=list(range(1, num_classes+1)),\n",
    "                ticktext=list(range(1, num_classes+1))\n",
    "            )\n",
    "        ),\n",
    "        hoverinfo='none',\n",
    "        showlegend=False\n",
    "    ))\n",
    "    \n",
    "    return fig\n",
    "\n",
    "# Collect indices for each class\n",
    "max_indices_per_class = []\n",
    "std_indices_per_class = []\n",
    "\n",
    "for fc1 in all_fc_vals:\n",
    "    mask_max, mask_std, mask_intersection, mask_max_low_std, mask_max_high_std, mask_std_high_max= compute_masks(fc1, 0.2)\n",
    "    max_indices_per_class.append(np.where(mask_max == 0)[0])\n",
    "    std_indices_per_class.append(np.where(mask_std == 0)[0])\n",
    "\n",
    "# Create and display visualizations\n",
    "output_widgets = []\n",
    "\n",
    "out = Output()\n",
    "with out:\n",
    "    fig_max = create_index_tracking_plot(max_indices_per_class, 'Max Mask Indices Across Classes')\n",
    "    display(fig_max)\n",
    "output_widgets.append(out)\n",
    "\n",
    "out = Output()\n",
    "with out:\n",
    "    fig_std = create_index_tracking_plot(std_indices_per_class, 'Std Mask Indices Across Classes')\n",
    "    display(fig_std)\n",
    "output_widgets.append(out)\n",
    "\n",
    "# Display all visualizations\n",
    "# display(VBox(output_widgets))"
   ]
  },
  {
   "cell_type": "code",
   "execution_count": null,
   "metadata": {},
   "outputs": [],
   "source": [
    "import torch\n",
    "import numpy as np\n",
    "import plotly.graph_objects as go\n",
    "from ipywidgets import VBox, Output\n",
    "from IPython.display import display\n",
    "\n",
    "def find_common_masked_neurons(masks_per_class):\n",
    "    \"\"\"\n",
    "    Find neurons that are masked (inactive) in all classes\n",
    "    \"\"\"\n",
    "    # Convert all masks to numpy boolean arrays\n",
    "    bool_masks = []\n",
    "    for mask in masks_per_class:\n",
    "        if torch.is_tensor(mask):\n",
    "            mask = mask.cpu().numpy()\n",
    "        bool_masks.append(mask.astype(np.bool_))\n",
    "    \n",
    "    # Find neurons that are masked (True) in all classes\n",
    "    common_masked = bool_masks[0]  # Start with first mask\n",
    "    for mask in bool_masks[1:]:\n",
    "        common_masked = common_masked & mask\n",
    "    \n",
    "    return common_masked\n",
    "\n",
    "def compute_activation_stats(fc_vals, tao=0.2):\n",
    "    \"\"\"\n",
    "    Compute activation statistics for neurons\n",
    "    \"\"\"\n",
    "    if torch.is_tensor(fc_vals):\n",
    "        fc_vals = fc_vals.cpu().numpy()\n",
    "    \n",
    "    mean = np.mean(fc_vals, axis=0)\n",
    "    std = np.std(fc_vals, axis=0)\n",
    "    \n",
    "    lower_bound = mean - tao * std\n",
    "    upper_bound = mean + tao * std\n",
    "    \n",
    "    return mean, std, lower_bound, upper_bound\n",
    "\n",
    "def create_common_masked_plot(fc_vals_per_class, masks_per_class, tao=0.2, title=\"Common Masked Neurons Across Classes\"):\n",
    "    \"\"\"\n",
    "    Create a visualization of activation ranges for neurons that are commonly masked across all classes.\n",
    "    \"\"\"\n",
    "    # Find common masked neurons\n",
    "    common_masked = find_common_masked_neurons(masks_per_class)\n",
    "    masked_indices = np.where(common_masked)[0]\n",
    "    \n",
    "    if len(masked_indices) == 0:\n",
    "        print(\"No common masked neurons found across all classes!\")\n",
    "        return None\n",
    "        \n",
    "    print(f\"Found {len(masked_indices)} neurons masked across all classes\")\n",
    "    print(f\"Indices of commonly masked neurons: {masked_indices}\")\n",
    "    \n",
    "    # Colors for different classes\n",
    "    colors = [f'rgb({r}, {g}, {b})' for r, g, b in [\n",
    "        (31, 119, 180),  # blue\n",
    "        (255, 127, 14),  # orange\n",
    "        (44, 160, 44),   # green\n",
    "        (214, 39, 40),   # red\n",
    "        (148, 103, 189), # purple\n",
    "        (140, 86, 75),   # brown\n",
    "        (227, 119, 194), # pink\n",
    "        (127, 127, 127), # gray\n",
    "    ]]\n",
    "    \n",
    "    fig = go.Figure()\n",
    "    \n",
    "    # Process each class\n",
    "    for class_idx, fc_vals in enumerate(fc_vals_per_class):\n",
    "        if torch.is_tensor(fc_vals):\n",
    "            fc_vals = fc_vals.cpu().numpy()\n",
    "            \n",
    "        # Compute statistics for masked neurons only\n",
    "        mean, std, lower_bound, upper_bound = compute_activation_stats(fc_vals, tao)\n",
    "        \n",
    "        color = colors[class_idx % len(colors)]\n",
    "        fill_color = color.replace('rgb', 'rgba').replace(')', ', 0.2)')\n",
    "        \n",
    "        # Add range area\n",
    "        fig.add_trace(go.Scatter(\n",
    "            x=np.concatenate([masked_indices, masked_indices[::-1]]),\n",
    "            y=np.concatenate([upper_bound[common_masked], lower_bound[common_masked][::-1]]),\n",
    "            fill='toself',\n",
    "            fillcolor=fill_color,\n",
    "            line=dict(color='rgba(0,0,0,0)'),\n",
    "            name=f'Range Class {class_idx + 1}',\n",
    "            showlegend=False,\n",
    "            hoverinfo='skip'\n",
    "        ))\n",
    "        \n",
    "        # Add mean points\n",
    "        fig.add_trace(go.Scatter(\n",
    "            x=masked_indices,\n",
    "            y=mean[common_masked],\n",
    "            mode='markers',\n",
    "            marker=dict(\n",
    "                size=6,\n",
    "                color=color,\n",
    "                symbol='circle'\n",
    "            ),\n",
    "            name=f'Class {class_idx + 1}',\n",
    "            hovertemplate=(\n",
    "                \"Neuron: %{x}<br>\" +\n",
    "                \"Mean: %{y:.3f}<br>\" +\n",
    "                f\"Range: %{{customdata[0]:.3f}} to %{{customdata[1]:.3f}}<br>\" +\n",
    "                f\"Class: {class_idx + 1}\"\n",
    "            ),\n",
    "            customdata=np.column_stack((\n",
    "                lower_bound[common_masked],\n",
    "                upper_bound[common_masked]\n",
    "            ))\n",
    "        ))\n",
    "\n",
    "    # Add vertical lines for better visualization of neuron positions\n",
    "    for idx in masked_indices:\n",
    "        fig.add_shape(\n",
    "            type=\"line\",\n",
    "            x0=idx,\n",
    "            x1=idx,\n",
    "            y0=fig.layout.yaxis.range[0] if fig.layout.yaxis.range else min(lower_bound[common_masked]),\n",
    "            y1=fig.layout.yaxis.range[1] if fig.layout.yaxis.range else max(upper_bound[common_masked]),\n",
    "            line=dict(color=\"lightgray\", width=1, dash=\"dot\")\n",
    "        )\n",
    "\n",
    "    fig.update_layout(\n",
    "        title=title,\n",
    "        xaxis_title='Neuron Index',\n",
    "        yaxis_title='Activation Value',\n",
    "        width=1500,\n",
    "        height=800,\n",
    "        plot_bgcolor='white',\n",
    "        showlegend=True,\n",
    "        legend=dict(\n",
    "            yanchor=\"top\",\n",
    "            y=0.99,\n",
    "            xanchor=\"right\",\n",
    "            x=0.99\n",
    "        )\n",
    "    )\n",
    "    \n",
    "    fig.update_xaxes(showgrid=True, gridwidth=1, gridcolor='LightGrey')\n",
    "    fig.update_yaxes(showgrid=True, gridwidth=1, gridcolor='LightGrey')\n",
    "    \n",
    "    return fig\n",
    "\n",
    "def visualize_common_masked(all_fc_vals, all_masks, tao=0.2):\n",
    "    \"\"\"\n",
    "    Create and display visualization for common masked neurons\n",
    "    \"\"\"\n",
    "    out = Output()\n",
    "    with out:\n",
    "        fig = create_common_masked_plot(\n",
    "            all_fc_vals,\n",
    "            all_masks,\n",
    "            tao=tao,\n",
    "            title='Common Masked Neurons Across Classes'\n",
    "        )\n",
    "        if fig is not None:\n",
    "            display(fig)\n",
    "    \n",
    "    display(out)\n",
    "\n",
    "\n",
    "# Example usage:\n",
    "\n",
    "# Assuming you have your data ready:\n",
    "# all_fc_vals: list of activation values for each class\n",
    "# all_masks: list of masks computed from compute_masks function\n",
    "\n",
    "# First, compute the masks if you haven't already\n",
    "all_masks = []\n",
    "for fc1 in all_fc_vals:\n",
    "    mask_max, mask_std, mask_intersection, mask_max_low_std, mask_max_high_std, mask_std_high_max = compute_masks(fc1, 0.5)\n",
    "    all_masks.append(mask_max)  # or whichever mask type you want to visualize\n",
    "\n",
    "# Then create the visualization\n",
    "visualize_common_masked(all_fc_vals, all_masks, tao=2)"
   ]
  },
  {
   "cell_type": "code",
   "execution_count": null,
   "metadata": {},
   "outputs": [],
   "source": [
    "import torch\n",
    "import numpy as np\n",
    "import plotly.graph_objects as go\n",
    "from ipywidgets import VBox, Output\n",
    "from IPython.display import display\n",
    "\n",
    "def find_common_masked_neurons(masks_per_class):\n",
    "    \"\"\"\n",
    "    Find neurons that are masked (inactive) in all classes\n",
    "    \"\"\"\n",
    "    bool_masks = []\n",
    "    for mask in masks_per_class:\n",
    "        if torch.is_tensor(mask):\n",
    "            mask = mask.cpu().numpy()\n",
    "        bool_masks.append(mask.astype(np.bool_))\n",
    "    \n",
    "    common_masked = bool_masks[0]\n",
    "    for mask in bool_masks[1:]:\n",
    "        common_masked = common_masked & mask\n",
    "    \n",
    "    return common_masked\n",
    "\n",
    "def create_common_masked_boxplot(fc_vals_per_class, masks_per_class, title=\"Common Masked Neurons Box Plot\"):\n",
    "    \"\"\"\n",
    "    Create a box plot visualization of activation distributions for commonly masked neurons across classes.\n",
    "    \"\"\"\n",
    "    # Find common masked neurons\n",
    "    common_masked = find_common_masked_neurons(masks_per_class)\n",
    "    masked_indices = np.where(common_masked)[0]\n",
    "    \n",
    "    if len(masked_indices) == 0:\n",
    "        print(\"No common masked neurons found across all classes!\")\n",
    "        return None\n",
    "        \n",
    "    print(f\"Found {len(masked_indices)} neurons masked across all classes\")\n",
    "    print(f\"Indices of commonly masked neurons: {masked_indices}\")\n",
    "    \n",
    "    # Colors for different classes\n",
    "    colors = [\n",
    "        'rgb(31, 119, 180)',   # blue\n",
    "        'rgb(255, 127, 14)',   # orange\n",
    "        'rgb(44, 160, 44)',    # green\n",
    "        'rgb(214, 39, 40)',    # red\n",
    "        'rgb(148, 103, 189)',  # purple\n",
    "        'rgb(140, 86, 75)',    # brown\n",
    "        'rgb(227, 119, 194)',  # pink\n",
    "        'rgb(127, 127, 127)'   # gray\n",
    "    ]\n",
    "    \n",
    "    fig = go.Figure()\n",
    "    \n",
    "    # Process each neuron\n",
    "    for i, neuron_idx in enumerate(masked_indices):\n",
    "        # Collect activation values for this neuron across all classes\n",
    "        for class_idx, fc_vals in enumerate(fc_vals_per_class):\n",
    "            if torch.is_tensor(fc_vals):\n",
    "                fc_vals = fc_vals.cpu().numpy()\n",
    "            \n",
    "            # Convert fc_vals to numpy array if it's a list\n",
    "            if isinstance(fc_vals, list):\n",
    "                fc_vals = np.array(fc_vals)\n",
    "            \n",
    "            # Check if fc_vals is 1D or 2D\n",
    "            if len(fc_vals.shape) == 1:\n",
    "                neuron_activations = fc_vals\n",
    "            else:\n",
    "                neuron_activations = fc_vals[:, neuron_idx]\n",
    "            \n",
    "            fig.add_trace(go.Box(\n",
    "                y=neuron_activations,\n",
    "                x=[f\"Neuron {neuron_idx}\"] * len(neuron_activations),\n",
    "                name=f\"Class {class_idx + 1}\",\n",
    "                boxpoints='outliers',\n",
    "                marker_color=colors[class_idx % len(colors)],\n",
    "                showlegend=True if i == 0 else False,  # Show legend only for first neuron\n",
    "                hovertemplate=(\n",
    "                    \"Neuron: %{x}<br>\" +\n",
    "                    \"Q1: %{q1:.3f}<br>\" +\n",
    "                    \"Median: %{median:.3f}<br>\" +\n",
    "                    \"Q3: %{q3:.3f}<br>\" +\n",
    "                    \"Min: %{lowerfence:.3f}<br>\" +\n",
    "                    \"Max: %{upperfence:.3f}<br>\" +\n",
    "                    f\"Class: {class_idx + 1}\"\n",
    "                )\n",
    "            ))\n",
    "\n",
    "    # Update layout\n",
    "    fig.update_layout(\n",
    "        title=title,\n",
    "        xaxis_title='Neuron Index',\n",
    "        yaxis_title='Activation Value',\n",
    "        width=1500,\n",
    "        height=800,\n",
    "        plot_bgcolor='white',\n",
    "        showlegend=True,\n",
    "        legend=dict(\n",
    "            yanchor=\"top\",\n",
    "            y=0.99,\n",
    "            xanchor=\"right\",\n",
    "            x=0.99\n",
    "        ),\n",
    "        boxmode='group'  # Group boxes for each neuron\n",
    "    )\n",
    "    \n",
    "    fig.update_xaxes(showgrid=True, gridwidth=1, gridcolor='LightGrey')\n",
    "    fig.update_yaxes(showgrid=True, gridwidth=1, gridcolor='LightGrey')\n",
    "    \n",
    "    return fig\n",
    "\n",
    "def visualize_common_masked_boxplot(all_fc_vals, all_masks):\n",
    "    \"\"\"\n",
    "    Create and display box plot visualization for common masked neurons\n",
    "    \"\"\"\n",
    "    out = Output()\n",
    "    with out:\n",
    "        fig = create_common_masked_boxplot(\n",
    "            all_fc_vals,\n",
    "            all_masks,\n",
    "            title='Common Masked Neurons Distribution Across Classes'\n",
    "        )\n",
    "        if fig is not None:\n",
    "            display(fig)\n",
    "    \n",
    "    display(out)\n",
    "\n",
    "# Example usage:\n",
    "# all_fc_vals: list of activation values for each class\n",
    "# all_masks: list of masks computed from compute_masks function\n",
    "\n",
    "# First, compute the masks if you haven't already\n",
    "all_masks = []\n",
    "for fc1 in all_fc_vals:\n",
    "    mask_max, mask_std, mask_intersection, mask_max_low_std, mask_max_high_std, mask_std_high_max = compute_masks(fc1, 0.5)\n",
    "    all_masks.append(mask_max)  # or whichever mask type you want to visualize\n",
    "\n",
    "# Then create the visualization\n",
    "visualize_common_masked_boxplot(all_fc_vals, all_masks)"
   ]
  },
  {
   "cell_type": "code",
   "execution_count": null,
   "metadata": {},
   "outputs": [],
   "source": [
    "import torch\n",
    "import numpy as np\n",
    "import plotly.graph_objects as go\n",
    "from itertools import combinations\n",
    "from ipywidgets import VBox, Output\n",
    "from IPython.display import display\n",
    "\n",
    "def find_common_masked_neurons(masks_per_class):\n",
    "    \"\"\"Find neurons that are masked in all classes\"\"\"\n",
    "    bool_masks = [mask.cpu().numpy().astype(np.bool_) if torch.is_tensor(mask) \n",
    "                 else mask.astype(np.bool_) for mask in masks_per_class]\n",
    "    common_masked = bool_masks[0]\n",
    "    for mask in bool_masks[1:]:\n",
    "        common_masked = common_masked & mask\n",
    "    return common_masked\n",
    "\n",
    "def compute_ranges(fc_vals_per_class, common_masked, tao=0.2):\n",
    "    \"\"\"Compute activation ranges for each class\"\"\"\n",
    "    ranges = []\n",
    "    for fc_vals in fc_vals_per_class:\n",
    "        if torch.is_tensor(fc_vals):\n",
    "            fc_vals = fc_vals.cpu().numpy()\n",
    "        mean = np.mean(fc_vals, axis=0)[common_masked]\n",
    "        std = np.std(fc_vals, axis=0)[common_masked]\n",
    "        ranges.append({\n",
    "            'lower': mean - tao * std,\n",
    "            'upper': mean + tao * std\n",
    "        })\n",
    "    return ranges\n",
    "\n",
    "def compute_overlap_percentage(range1, range2):\n",
    "    \"\"\"Compute overlap percentage between two ranges\"\"\"\n",
    "    overlap_percentages = []\n",
    "    for i in range(len(range1['lower'])):\n",
    "        lower = max(range1['lower'][i], range2['lower'][i])\n",
    "        upper = min(range1['upper'][i], range2['upper'][i])\n",
    "        \n",
    "        if lower > upper:\n",
    "            overlap_percentages.append(0)\n",
    "        else:\n",
    "            total_range = max(range1['upper'][i], range2['upper'][i]) - min(range1['lower'][i], range2['lower'][i])\n",
    "            overlap = upper - lower\n",
    "            overlap_percentages.append((overlap / total_range) * 100)\n",
    "    \n",
    "    return np.mean(overlap_percentages)\n",
    "\n",
    "def create_overlap_heatmap(fc_vals_per_class, masks_per_class, tao=0.2):\n",
    "    \"\"\"Create a heatmap showing range overlaps between all class combinations\"\"\"\n",
    "    common_masked = find_common_masked_neurons(masks_per_class)\n",
    "    masked_indices = np.where(common_masked)[0]\n",
    "    \n",
    "    if len(masked_indices) == 0:\n",
    "        print(\"No common masked neurons found!\")\n",
    "        return None\n",
    "        \n",
    "    print(f\"Analyzing {len(masked_indices)} commonly masked neurons\")\n",
    "    \n",
    "    # Compute ranges for each class\n",
    "    ranges = compute_ranges(fc_vals_per_class, common_masked, tao)\n",
    "    num_classes = len(fc_vals_per_class)\n",
    "    \n",
    "    # Initialize overlap matrix\n",
    "    overlap_matrix = np.zeros((num_classes, num_classes))\n",
    "    \n",
    "    # Compute overlaps for all class pairs\n",
    "    for i in range(num_classes):\n",
    "        for j in range(num_classes):\n",
    "            if i == j:\n",
    "                overlap_matrix[i, j] = 100\n",
    "            else:\n",
    "                overlap_matrix[i, j] = compute_overlap_percentage(ranges[i], ranges[j])\n",
    "    \n",
    "    # Create heatmap\n",
    "    fig = go.Figure(data=go.Heatmap(\n",
    "        z=overlap_matrix,\n",
    "        x=[f'Class {i+1}' for i in range(num_classes)],\n",
    "        y=[f'Class {i+1}' for i in range(num_classes)],\n",
    "        colorscale='RdYlBu',\n",
    "        colorbar=dict(title='Overlap %'),\n",
    "        text=np.round(overlap_matrix, 1),\n",
    "        texttemplate='%{text}%',\n",
    "        textfont={\"size\": 12},\n",
    "        hoverongaps=False,\n",
    "    ))\n",
    "    \n",
    "    fig.update_layout(\n",
    "        title='Range Overlap Percentage Between Classes (Common Masked Neurons)',\n",
    "        width=800,\n",
    "        height=800,\n",
    "    )\n",
    "    \n",
    "    # Create bar plot for average overlap per class combination\n",
    "    combinations_data = []\n",
    "    for k in range(2, num_classes + 1):\n",
    "        for combo in combinations(range(num_classes), k):\n",
    "            overlap_sum = 0\n",
    "            count = 0\n",
    "            neuron_count = 0\n",
    "            \n",
    "            # For each neuron, check if it overlaps in all classes in the combination\n",
    "            for neuron_idx in range(len(masked_indices)):\n",
    "                overlaps = True\n",
    "                min_upper = float('inf')\n",
    "                max_lower = float('-inf')\n",
    "                \n",
    "                for class_idx in combo:\n",
    "                    min_upper = min(min_upper, ranges[class_idx]['upper'][neuron_idx])\n",
    "                    max_lower = max(max_lower, ranges[class_idx]['lower'][neuron_idx])\n",
    "                \n",
    "                if max_lower <= min_upper:\n",
    "                    neuron_count += 1\n",
    "            \n",
    "            combo_classes = [f'Class {i+1}' for i in combo]\n",
    "            combinations_data.append({\n",
    "                'classes': ' + '.join(combo_classes),\n",
    "                'num_classes': len(combo),\n",
    "                'overlapping_neurons': neuron_count,\n",
    "                'total_neurons': len(masked_indices),\n",
    "                'percentage': (neuron_count / len(masked_indices)) * 100\n",
    "            })\n",
    "    \n",
    "    # Create bar plot\n",
    "    fig2 = go.Figure()\n",
    "    \n",
    "    # Sort combinations by number of classes and percentage\n",
    "    combinations_data.sort(key=lambda x: (x['num_classes'], -x['percentage']))\n",
    "    \n",
    "    # Add bars\n",
    "    fig2.add_trace(go.Bar(\n",
    "        x=[d['classes'] for d in combinations_data],\n",
    "        y=[d['percentage'] for d in combinations_data],\n",
    "        text=[f\"{d['percentage']:.1f}%<br>({d['overlapping_neurons']}/{d['total_neurons']})\" \n",
    "              for d in combinations_data],\n",
    "        textposition='auto',\n",
    "        hovertemplate=(\n",
    "            \"Classes: %{x}<br>\" +\n",
    "            \"Overlap: %{text}<br>\" +\n",
    "            \"<extra></extra>\"\n",
    "        )\n",
    "    ))\n",
    "    \n",
    "    fig2.update_layout(\n",
    "        title='Percentage of Neurons with Overlapping Ranges by Class Combination',\n",
    "        xaxis_title='Class Combinations',\n",
    "        yaxis_title='Percentage of Neurons with Overlapping Ranges',\n",
    "        width=1500,\n",
    "        height=800,\n",
    "        showlegend=False,\n",
    "        xaxis_tickangle=45\n",
    "    )\n",
    "    \n",
    "    return fig, fig2\n",
    "\n",
    "def visualize_range_overlaps(all_fc_vals, all_masks, tao=0.2):\n",
    "    \"\"\"Create and display overlap visualizations\"\"\"\n",
    "    out = Output()\n",
    "    with out:\n",
    "        figs = create_overlap_heatmap(all_fc_vals, all_masks, tao)\n",
    "        if figs is not None:\n",
    "            fig1, fig2 = figs\n",
    "            print(\"\\nHeatmap of pairwise range overlaps:\")\n",
    "            display(fig1)\n",
    "            print(\"\\nOverlap analysis for different class combinations:\")\n",
    "            display(fig2)\n",
    "    \n",
    "    display(out)\n",
    "    \n",
    "all_masks = []\n",
    "for fc1 in all_fc_vals:\n",
    "    mask_max, mask_std, mask_intersection, mask_max_low_std, mask_max_high_std, mask_std_high_max = compute_masks(fc1, 0.5)\n",
    "    all_masks.append(mask_max)\n",
    "    \n",
    "    \n",
    "visualize_range_overlaps(all_fc_vals, all_masks, tao=2)\n"
   ]
  },
  {
   "cell_type": "code",
   "execution_count": 3,
   "metadata": {},
   "outputs": [
    {
     "name": "stdout",
     "output_type": "stream",
     "text": [
      "Starting visualization...\n"
     ]
    },
    {
     "data": {
      "application/vnd.plotly.v1+json": {
       "config": {
        "plotlyServerURL": "https://plot.ly"
       },
       "data": [
        {
         "fill": "toself",
         "fillcolor": "rgba(255, 200, 200, 0.2)",
         "hoverinfo": "skip",
         "line": {
          "width": 0
         },
         "name": "2-Class Overlap",
         "showlegend": true,
         "type": "scatter",
         "x": [
          23.5,
          47.5,
          51.5,
          112.5,
          123.5,
          178.5,
          190.5,
          221.5,
          241.5,
          249.5,
          280.5,
          296.5,
          326.5,
          333.5,
          385.5,
          406.5,
          474.5,
          491.5,
          548.5,
          556.5,
          562.5,
          564.5,
          593.5,
          608.5,
          614.5,
          695.5,
          730.5,
          736.5,
          24.5,
          48.5,
          52.5,
          113.5,
          124.5,
          179.5,
          191.5,
          222.5,
          242.5,
          250.5,
          281.5,
          297.5,
          327.5,
          334.5,
          386.5,
          407.5,
          475.5,
          492.5,
          549.5,
          557.5,
          563.5,
          565.5,
          594.5,
          609.5,
          615.5,
          696.5,
          731.5,
          737.5,
          737.5,
          23.5
         ],
         "y": [
          -1,
          -1,
          -1,
          -1,
          -1,
          -1,
          -1,
          -1,
          -1,
          -1,
          -1,
          -1,
          -1,
          -1,
          -1,
          -1,
          -1,
          -1,
          -1,
          -1,
          -1,
          -1,
          -1,
          -1,
          -1,
          -1,
          -1,
          -1,
          -1,
          -1,
          -1,
          -1,
          -1,
          -1,
          -1,
          -1,
          -1,
          -1,
          -1,
          -1,
          -1,
          -1,
          -1,
          -1,
          -1,
          -1,
          -1,
          -1,
          -1,
          -1,
          -1,
          -1,
          -1,
          -1,
          -1,
          -1,
          -1,
          -1
         ]
        },
        {
         "fill": "toself",
         "fillcolor": "rgba(255, 150, 150, 0.2)",
         "hoverinfo": "skip",
         "line": {
          "width": 0
         },
         "name": "3-Class Overlap",
         "showlegend": true,
         "type": "scatter",
         "x": [
          245.5,
          246.5,
          246.5,
          245.5
         ],
         "y": [
          -1,
          -1,
          -1,
          -1
         ]
        },
        {
         "fill": "toself",
         "fillcolor": "rgba(31, 119, 180, 0.2)",
         "hoverinfo": "skip",
         "line": {
          "color": "rgba(0,0,0,0)"
         },
         "name": "Range Class 1",
         "showlegend": true,
         "type": "scatter",
         "x": [
          52,
          139,
          176,
          191,
          192,
          196,
          217,
          218,
          242,
          246,
          271,
          276,
          281,
          298,
          333,
          334,
          347,
          354,
          366,
          374,
          391,
          407,
          408,
          421,
          425,
          545,
          563,
          565,
          572,
          595,
          603,
          611,
          675,
          683,
          687,
          696,
          712,
          721,
          721,
          712,
          696,
          687,
          683,
          675,
          611,
          603,
          595,
          572,
          565,
          563,
          545,
          425,
          421,
          408,
          407,
          391,
          374,
          366,
          354,
          347,
          334,
          333,
          298,
          281,
          276,
          271,
          246,
          242,
          218,
          217,
          196,
          192,
          191,
          176,
          139,
          52
         ],
         "y": [
          1.706308364868164,
          -0.6723605394363403,
          1.9223237037658691,
          -0.7138022184371948,
          -0.6539334058761597,
          -0.7307934165000916,
          -0.6186510920524597,
          -0.8582398295402527,
          2.3740084171295166,
          1.5553765296936035,
          -0.7634427547454834,
          1.9361162185668945,
          1.8685177564620972,
          2.620084285736084,
          1.598246455192566,
          1.844525933265686,
          -0.6162558794021606,
          -0.6545500159263611,
          -0.7191042900085449,
          1.4999470710754395,
          -0.6597909927368164,
          1.542588710784912,
          -0.7204772233963013,
          -1.0030148029327393,
          1.7348233461380005,
          -0.9281806945800781,
          -0.6048283576965332,
          -0.6962600946426392,
          1.8709877729415894,
          1.6443812847137451,
          -0.4770919680595398,
          1.6494622230529785,
          -0.6746145486831665,
          1.89566969871521,
          2.0971598625183105,
          2.3260958194732666,
          -0.4725557565689087,
          1.6189687252044678,
          0.5819575786590576,
          -1.6928926706314087,
          1.0268700122833252,
          0.712243378162384,
          0.8108540177345276,
          -1.6676546335220337,
          0.5826950669288635,
          -1.7423524856567383,
          0.564579963684082,
          0.7105120420455933,
          -1.5290690660476685,
          -1.810819149017334,
          -1.9529352188110352,
          0.639320969581604,
          -2.0330841541290283,
          -1.6594747304916382,
          0.6818326115608215,
          -1.631051778793335,
          0.7121374011039734,
          -1.5646553039550781,
          -1.9530563354492188,
          -1.5633741617202759,
          0.8587304353713989,
          0.6350694894790649,
          1.54646635055542,
          1.0996710062026978,
          0.3297436833381653,
          -1.8363115787506104,
          0.7221086025238037,
          1.1907882690429688,
          -1.887826919555664,
          -2.064547061920166,
          -1.713775396347046,
          -1.7007075548171997,
          -1.5795139074325562,
          0.9735859036445618,
          -1.5211929082870483,
          0.4886196255683899
         ]
        },
        {
         "customdata": [
          [
           "0.48861963",
           "1.7063084",
           "Class 1, Class 3"
          ],
          [
           "-1.5211929",
           "-0.67236054",
           "None"
          ],
          [
           "0.9735859",
           "1.9223237",
           "None"
          ],
          [
           "-1.5795139",
           "-0.7138022",
           "Class 1, Class 5"
          ],
          [
           "-1.7007076",
           "-0.6539334",
           "None"
          ],
          [
           "-1.7137754",
           "-0.7307934",
           "None"
          ],
          [
           "-2.064547",
           "-0.6186511",
           "None"
          ],
          [
           "-1.8878269",
           "-0.8582398",
           "None"
          ],
          [
           "1.1907883",
           "2.3740084",
           "Class 1, Class 5"
          ],
          [
           "0.7221086",
           "1.5553765",
           "Class 1, Class 5, Class 6"
          ],
          [
           "-1.8363116",
           "-0.76344275",
           "None"
          ],
          [
           "0.32974368",
           "1.9361162",
           "None"
          ],
          [
           "1.099671",
           "1.8685178",
           "Class 1, Class 4"
          ],
          [
           "1.5464664",
           "2.6200843",
           "None"
          ],
          [
           "0.6350695",
           "1.5982465",
           "None"
          ],
          [
           "0.85873044",
           "1.8445259",
           "Class 1, Class 4"
          ],
          [
           "-1.5633742",
           "-0.6162559",
           "None"
          ],
          [
           "-1.9530563",
           "-0.65455",
           "None"
          ],
          [
           "-1.5646553",
           "-0.7191043",
           "None"
          ],
          [
           "0.7121374",
           "1.4999471",
           "None"
          ],
          [
           "-1.6310518",
           "-0.659791",
           "None"
          ],
          [
           "0.6818326",
           "1.5425887",
           "Class 1, Class 4"
          ],
          [
           "-1.6594747",
           "-0.7204772",
           "None"
          ],
          [
           "-2.0330842",
           "-1.0030148",
           "None"
          ],
          [
           "0.63932097",
           "1.7348233",
           "None"
          ],
          [
           "-1.9529352",
           "-0.9281807",
           "None"
          ],
          [
           "-1.8108191",
           "-0.60482836",
           "Class 1, Class 4"
          ],
          [
           "-1.5290691",
           "-0.6962601",
           "Class 1, Class 4"
          ],
          [
           "0.71051204",
           "1.8709878",
           "None"
          ],
          [
           "0.56457996",
           "1.6443813",
           "None"
          ],
          [
           "-1.7423525",
           "-0.47709197",
           "None"
          ],
          [
           "0.58269507",
           "1.6494622",
           "None"
          ],
          [
           "-1.6676546",
           "-0.67461455",
           "None"
          ],
          [
           "0.810854",
           "1.8956697",
           "None"
          ],
          [
           "0.7122434",
           "2.0971599",
           "None"
          ],
          [
           "1.02687",
           "2.3260958",
           "Class 1, Class 3"
          ],
          [
           "-1.6928927",
           "-0.47255576",
           "None"
          ],
          [
           "0.5819576",
           "1.6189687",
           "None"
          ]
         ],
         "hovertemplate": "Neuron: %{x}<br>Mean: %{y:.3f}<br>Range: %{customdata[0]:.3f} to %{customdata[1]:.3f}<br>Class: 1<br>Overlapping Classes: %{customdata[2]}",
         "marker": {
          "color": "rgb(31, 119, 180)",
          "size": 6,
          "symbol": "circle"
         },
         "mode": "markers",
         "name": "Mean Class 1",
         "type": "scatter",
         "x": [
          52,
          139,
          176,
          191,
          192,
          196,
          217,
          218,
          242,
          246,
          271,
          276,
          281,
          298,
          333,
          334,
          347,
          354,
          366,
          374,
          391,
          407,
          408,
          421,
          425,
          545,
          563,
          565,
          572,
          595,
          603,
          611,
          675,
          683,
          687,
          696,
          712,
          721
         ],
         "y": [
          1.0974639654159546,
          -1.0967767238616943,
          1.447954773902893,
          -1.1466580629348755,
          -1.1773204803466797,
          -1.2222844362258911,
          -1.3415991067886353,
          -1.3730334043502808,
          1.7823983430862427,
          1.1387425661087036,
          -1.2998771667480469,
          1.1329299211502075,
          1.4840943813323975,
          2.083275318145752,
          1.1166579723358154,
          1.3516281843185425,
          -1.0898150205612183,
          -1.3038032054901123,
          -1.1418797969818115,
          1.1060422658920288,
          -1.1454213857650757,
          1.1122106313705444,
          -1.1899759769439697,
          -1.5180494785308838,
          1.1870721578598022,
          -1.4405579566955566,
          -1.2078237533569336,
          -1.1126645803451538,
          1.2907499074935913,
          1.1044806241989136,
          -1.1097222566604614,
          1.1160786151885986,
          -1.1711345911026,
          1.3532618284225464,
          1.404701590538025,
          1.676482915878296,
          -1.0827242136001587,
          1.1004631519317627
         ]
        },
        {
         "fill": "toself",
         "fillcolor": "rgba(255, 127, 14, 0.2)",
         "hoverinfo": "skip",
         "line": {
          "color": "rgba(0,0,0,0)"
         },
         "name": "Range Class 2",
         "showlegend": true,
         "type": "scatter",
         "x": [
          45,
          48,
          51,
          67,
          72,
          89,
          90,
          133,
          237,
          244,
          250,
          319,
          393,
          409,
          424,
          468,
          478,
          484,
          513,
          557,
          564,
          570,
          594,
          609,
          622,
          623,
          629,
          653,
          661,
          688,
          692,
          712,
          736,
          737,
          739,
          743,
          750,
          762,
          762,
          750,
          743,
          739,
          737,
          736,
          712,
          692,
          688,
          661,
          653,
          629,
          623,
          622,
          609,
          594,
          570,
          564,
          557,
          513,
          484,
          478,
          468,
          424,
          409,
          393,
          319,
          250,
          244,
          237,
          133,
          90,
          89,
          72,
          67,
          51,
          48,
          45
         ],
         "y": [
          -0.8281523585319519,
          -0.8763608336448669,
          -0.6533904075622559,
          -0.6863129734992981,
          1.7291041612625122,
          2.474123954772949,
          1.737103819847107,
          1.7623872756958008,
          -0.36729055643081665,
          -0.7759752869606018,
          -0.5610564947128296,
          1.787961721420288,
          1.91654372215271,
          1.5987269878387451,
          -0.6903496384620667,
          2.1369292736053467,
          2.174194574356079,
          1.5583059787750244,
          -0.7520260810852051,
          1.7419646978378296,
          -0.6474982500076294,
          -0.5964872241020203,
          -0.5203254818916321,
          2.690236806869507,
          -0.7376977205276489,
          -0.576948344707489,
          -0.9481109976768494,
          -0.701015055179596,
          -0.49672985076904297,
          1.6515705585479736,
          1.6883628368377686,
          1.8262593746185303,
          -0.8239738941192627,
          -0.4344555139541626,
          1.8219032287597656,
          -0.154491126537323,
          1.7971949577331543,
          1.876536250114441,
          0.4993346929550171,
          0.49560827016830444,
          -2.0604231357574463,
          0.6788120865821838,
          -1.7063299417495728,
          -2.0625061988830566,
          0.6358392238616943,
          0.46189427375793457,
          0.7966268062591553,
          -1.799959421157837,
          -1.9339933395385742,
          -2.3436574935913086,
          -1.5621466636657715,
          -2.0224995613098145,
          0.9929781556129456,
          -1.6755995750427246,
          -1.7214326858520508,
          -1.6412752866744995,
          0.6636446714401245,
          -2.132652759552002,
          0.5952229499816895,
          0.8424435257911682,
          -0.16398072242736816,
          -1.6919951438903809,
          0.5437113642692566,
          0.6782799363136292,
          0.5845145583152771,
          -1.5375155210494995,
          -1.8570005893707275,
          -2.1775927543640137,
          0.5109720230102539,
          0.5727075338363647,
          0.5047076940536499,
          0.7058302164077759,
          -1.8655340671539307,
          -1.7046277523040771,
          -1.870365858078003,
          -2.106041669845581
         ]
        },
        {
         "customdata": [
          [
           "-2.1060417",
           "-0.82815236",
           "None"
          ],
          [
           "-1.8703659",
           "-0.87636083",
           "Class 2, Class 3"
          ],
          [
           "-1.7046278",
           "-0.6533904",
           "None"
          ],
          [
           "-1.8655341",
           "-0.686313",
           "None"
          ],
          [
           "0.7058302",
           "1.7291042",
           "None"
          ],
          [
           "0.5047077",
           "2.474124",
           "None"
          ],
          [
           "0.57270753",
           "1.7371038",
           "None"
          ],
          [
           "0.510972",
           "1.7623873",
           "None"
          ],
          [
           "-2.1775928",
           "-0.36729056",
           "None"
          ],
          [
           "-1.8570006",
           "-0.7759753",
           "None"
          ],
          [
           "-1.5375155",
           "-0.5610565",
           "Class 2, Class 3"
          ],
          [
           "0.58451456",
           "1.7879617",
           "None"
          ],
          [
           "0.67827994",
           "1.9165437",
           "None"
          ],
          [
           "0.54371136",
           "1.598727",
           "None"
          ],
          [
           "-1.6919951",
           "-0.69034964",
           "None"
          ],
          [
           "-0.16398072",
           "2.1369293",
           "None"
          ],
          [
           "0.8424435",
           "2.1741946",
           "None"
          ],
          [
           "0.59522295",
           "1.558306",
           "None"
          ],
          [
           "-2.1326528",
           "-0.7520261",
           "None"
          ],
          [
           "0.6636447",
           "1.7419647",
           "Class 2, Class 5"
          ],
          [
           "-1.6412753",
           "-0.64749825",
           "None"
          ],
          [
           "-1.7214327",
           "-0.5964872",
           "None"
          ],
          [
           "-1.6755996",
           "-0.5203255",
           "Class 2, Class 3"
          ],
          [
           "0.99297816",
           "2.6902368",
           "Class 2, Class 3"
          ],
          [
           "-2.0224996",
           "-0.7376977",
           "None"
          ],
          [
           "-1.5621467",
           "-0.57694834",
           "None"
          ],
          [
           "-2.3436575",
           "-0.948111",
           "None"
          ],
          [
           "-1.9339933",
           "-0.70101506",
           "None"
          ],
          [
           "-1.7999594",
           "-0.49672985",
           "None"
          ],
          [
           "0.7966268",
           "1.6515706",
           "None"
          ],
          [
           "0.46189427",
           "1.6883628",
           "None"
          ],
          [
           "0.6358392",
           "1.8262594",
           "None"
          ],
          [
           "-2.0625062",
           "-0.8239739",
           "None"
          ],
          [
           "-1.70633",
           "-0.4344555",
           "Class 2, Class 3"
          ],
          [
           "0.6788121",
           "1.8219032",
           "None"
          ],
          [
           "-2.0604231",
           "-0.15449113",
           "None"
          ],
          [
           "0.49560827",
           "1.797195",
           "None"
          ],
          [
           "0.4993347",
           "1.8765363",
           "None"
          ]
         ],
         "hovertemplate": "Neuron: %{x}<br>Mean: %{y:.3f}<br>Range: %{customdata[0]:.3f} to %{customdata[1]:.3f}<br>Class: 2<br>Overlapping Classes: %{customdata[2]}",
         "marker": {
          "color": "rgb(255, 127, 14)",
          "size": 6,
          "symbol": "circle"
         },
         "mode": "markers",
         "name": "Mean Class 2",
         "type": "scatter",
         "x": [
          45,
          48,
          51,
          67,
          72,
          89,
          90,
          133,
          237,
          244,
          250,
          319,
          393,
          409,
          424,
          468,
          478,
          484,
          513,
          557,
          564,
          570,
          594,
          609,
          622,
          623,
          629,
          653,
          661,
          688,
          692,
          712,
          736,
          737,
          739,
          743,
          750,
          762
         ],
         "y": [
          -1.4670970439910889,
          -1.3733633756637573,
          -1.1790090799331665,
          -1.275923490524292,
          1.217467188835144,
          1.4894157648086548,
          1.1549056768417358,
          1.1366796493530273,
          -1.2724416255950928,
          -1.3164879083633423,
          -1.0492860078811646,
          1.186238169670105,
          1.2974117994308472,
          1.0712192058563232,
          -1.1911723613739014,
          0.9864742755889893,
          1.5083190202713013,
          1.076764464378357,
          -1.4423394203186035,
          1.202804684638977,
          -1.1443867683410645,
          -1.158959984779358,
          -1.097962498664856,
          1.8416074514389038,
          -1.380098581314087,
          -1.0695475339889526,
          -1.6458842754364014,
          -1.3175041675567627,
          -1.14834463596344,
          1.2240986824035645,
          1.0751285552978516,
          1.2310492992401123,
          -1.4432400465011597,
          -1.0703927278518677,
          1.2503576278686523,
          -1.107457160949707,
          1.1464016437530518,
          1.187935471534729
         ]
        },
        {
         "fill": "toself",
         "fillcolor": "rgba(44, 160, 44, 0.2)",
         "hoverinfo": "skip",
         "line": {
          "color": "rgba(0,0,0,0)"
         },
         "name": "Range Class 3",
         "showlegend": true,
         "type": "scatter",
         "x": [
          4,
          48,
          50,
          52,
          69,
          117,
          123,
          204,
          250,
          258,
          314,
          342,
          359,
          362,
          379,
          380,
          395,
          403,
          436,
          446,
          497,
          507,
          577,
          590,
          594,
          605,
          609,
          615,
          634,
          646,
          665,
          677,
          687,
          690,
          696,
          731,
          737,
          759,
          759,
          737,
          731,
          696,
          690,
          687,
          677,
          665,
          646,
          634,
          615,
          609,
          605,
          594,
          590,
          577,
          507,
          497,
          446,
          436,
          403,
          395,
          380,
          379,
          362,
          359,
          342,
          314,
          258,
          250,
          204,
          123,
          117,
          69,
          52,
          50,
          48,
          4
         ],
         "y": [
          -0.34585386514663696,
          -0.5295396447181702,
          1.886337161064148,
          1.9199352264404297,
          -0.43150973320007324,
          -0.776447057723999,
          -0.5196609497070312,
          2.1171765327453613,
          -0.7512431144714355,
          1.6443109512329102,
          1.6911559104919434,
          1.7728424072265625,
          2.125070571899414,
          1.698624610900879,
          1.983351707458496,
          1.3837060928344727,
          -0.4957340359687805,
          -0.6134672164916992,
          -0.41801172494888306,
          1.6154648065567017,
          1.626584768295288,
          -0.7708148956298828,
          -0.5484346747398376,
          -0.8936257362365723,
          -0.43567508459091187,
          -0.2740645408630371,
          2.3859450817108154,
          -0.59078449010849,
          -0.6604297161102295,
          -0.7517518401145935,
          -0.8080345392227173,
          1.6031606197357178,
          -0.5477389097213745,
          -0.5362178087234497,
          2.422008514404297,
          1.9085938930511475,
          -0.6265040040016174,
          -0.45278167724609375,
          -1.682234287261963,
          -1.9732942581176758,
          0.6715251803398132,
          0.8268359303474426,
          -1.8247426748275757,
          -1.7531365156173706,
          0.5298557281494141,
          -2.1705942153930664,
          -2.060694456100464,
          -1.6014273166656494,
          -1.6159467697143555,
          0.1702418327331543,
          -1.8581292629241943,
          -1.9634675979614258,
          -2.0561320781707764,
          -1.8672480583190918,
          -2.042369842529297,
          0.5459144711494446,
          0.6408628225326538,
          -1.8805797100067139,
          -1.8496532440185547,
          -1.6463334560394287,
          0.7383875846862793,
          0.5885297656059265,
          0.45445680618286133,
          0.22353112697601318,
          0.5224911570549011,
          0.6794245839118958,
          0.5796666145324707,
          -1.6343328952789307,
          0.5423116087913513,
          -2.395419120788574,
          -2.193040132522583,
          -1.7519299983978271,
          0.18343502283096313,
          0.5886217355728149,
          -1.6907551288604736,
          -1.8843626976013184
         ]
        },
        {
         "customdata": [
          [
           "-1.8843627",
           "-0.34585387",
           "None"
          ],
          [
           "-1.6907551",
           "-0.52953964",
           "Class 2, Class 3"
          ],
          [
           "0.58862174",
           "1.8863372",
           "None"
          ],
          [
           "0.18343502",
           "1.9199352",
           "Class 1, Class 3"
          ],
          [
           "-1.75193",
           "-0.43150973",
           "None"
          ],
          [
           "-2.1930401",
           "-0.77644706",
           "None"
          ],
          [
           "-2.3954191",
           "-0.51966095",
           "None"
          ],
          [
           "0.5423116",
           "2.1171765",
           "None"
          ],
          [
           "-1.6343329",
           "-0.7512431",
           "Class 2, Class 3"
          ],
          [
           "0.5796666",
           "1.644311",
           "None"
          ],
          [
           "0.6794246",
           "1.6911559",
           "None"
          ],
          [
           "0.52249116",
           "1.7728424",
           "None"
          ],
          [
           "0.22353113",
           "2.1250706",
           "None"
          ],
          [
           "0.4544568",
           "1.6986246",
           "None"
          ],
          [
           "0.58852977",
           "1.9833517",
           "None"
          ],
          [
           "0.7383876",
           "1.3837061",
           "None"
          ],
          [
           "-1.6463335",
           "-0.49573404",
           "None"
          ],
          [
           "-1.8496532",
           "-0.6134672",
           "None"
          ],
          [
           "-1.8805797",
           "-0.41801172",
           "None"
          ],
          [
           "0.6408628",
           "1.6154648",
           "None"
          ],
          [
           "0.5459145",
           "1.6265848",
           "None"
          ],
          [
           "-2.0423698",
           "-0.7708149",
           "None"
          ],
          [
           "-1.867248",
           "-0.5484347",
           "None"
          ],
          [
           "-2.056132",
           "-0.89362574",
           "None"
          ],
          [
           "-1.9634676",
           "-0.43567508",
           "Class 2, Class 3"
          ],
          [
           "-1.8581293",
           "-0.27406454",
           "None"
          ],
          [
           "0.17024183",
           "2.385945",
           "Class 2, Class 3"
          ],
          [
           "-1.6159468",
           "-0.5907845",
           "Class 3, Class 5"
          ],
          [
           "-1.6014273",
           "-0.6604297",
           "None"
          ],
          [
           "-2.0606945",
           "-0.75175184",
           "None"
          ],
          [
           "-2.1705942",
           "-0.80803454",
           "None"
          ],
          [
           "0.5298557",
           "1.6031606",
           "None"
          ],
          [
           "-1.7531365",
           "-0.5477389",
           "None"
          ],
          [
           "-1.8247427",
           "-0.5362178",
           "None"
          ],
          [
           "0.82683593",
           "2.4220085",
           "Class 1, Class 3"
          ],
          [
           "0.6715252",
           "1.9085939",
           "Class 3, Class 4"
          ],
          [
           "-1.9732943",
           "-0.626504",
           "Class 2, Class 3"
          ],
          [
           "-1.6822343",
           "-0.45278168",
           "None"
          ]
         ],
         "hovertemplate": "Neuron: %{x}<br>Mean: %{y:.3f}<br>Range: %{customdata[0]:.3f} to %{customdata[1]:.3f}<br>Class: 3<br>Overlapping Classes: %{customdata[2]}",
         "marker": {
          "color": "rgb(44, 160, 44)",
          "size": 6,
          "symbol": "circle"
         },
         "mode": "markers",
         "name": "Mean Class 3",
         "type": "scatter",
         "x": [
          4,
          48,
          50,
          52,
          69,
          117,
          123,
          204,
          250,
          258,
          314,
          342,
          359,
          362,
          379,
          380,
          395,
          403,
          436,
          446,
          497,
          507,
          577,
          590,
          594,
          605,
          609,
          615,
          634,
          646,
          665,
          677,
          687,
          690,
          696,
          731,
          737,
          759
         ],
         "y": [
          -1.1151082515716553,
          -1.1101473569869995,
          1.2374794483184814,
          1.051685094833374,
          -1.0917198657989502,
          -1.484743595123291,
          -1.4575400352478027,
          1.3297441005706787,
          -1.192788004875183,
          1.1119887828826904,
          1.1852902173995972,
          1.1476668119430542,
          1.1743007898330688,
          1.0765407085418701,
          1.2859407663345337,
          1.061046838760376,
          -1.0710337162017822,
          -1.231560230255127,
          -1.149295687675476,
          1.1281638145446777,
          1.086249589920044,
          -1.4065923690795898,
          -1.207841396331787,
          -1.4748789072036743,
          -1.1995713710784912,
          -1.0660969018936157,
          1.2780934572219849,
          -1.1033656597137451,
          -1.1309285163879395,
          -1.406223177909851,
          -1.489314317703247,
          1.066508173942566,
          -1.1504377126693726,
          -1.1804802417755127,
          1.6244221925735474,
          1.2900595664978027,
          -1.2998991012573242,
          -1.0675079822540283
         ]
        },
        {
         "fill": "toself",
         "fillcolor": "rgba(214, 39, 40, 0.2)",
         "hoverinfo": "skip",
         "line": {
          "color": "rgba(0,0,0,0)"
         },
         "name": "Range Class 4",
         "showlegend": true,
         "type": "scatter",
         "x": [
          0,
          20,
          23,
          67,
          113,
          132,
          162,
          164,
          172,
          195,
          204,
          217,
          222,
          241,
          276,
          281,
          289,
          327,
          334,
          339,
          349,
          364,
          404,
          407,
          456,
          461,
          487,
          503,
          523,
          563,
          565,
          577,
          602,
          689,
          731,
          733,
          746,
          764,
          764,
          746,
          733,
          731,
          689,
          602,
          577,
          565,
          563,
          523,
          503,
          487,
          461,
          456,
          407,
          404,
          364,
          349,
          339,
          334,
          327,
          289,
          281,
          276,
          241,
          222,
          217,
          204,
          195,
          172,
          164,
          162,
          132,
          113,
          67,
          23,
          20,
          0
         ],
         "y": [
          1.875962257385254,
          1.766748309135437,
          -0.48663318157196045,
          2.104379653930664,
          -0.8418132066726685,
          2.129092216491699,
          -0.5972853899002075,
          1.8795236349105835,
          1.8111896514892578,
          -1.4431006908416748,
          -0.46392822265625,
          2.2663018703460693,
          -0.7937585115432739,
          1.9991514682769775,
          -0.5751298069953918,
          1.6698191165924072,
          2.129519462585449,
          1.8936666250228882,
          1.8750224113464355,
          -0.4617545008659363,
          -0.7781442403793335,
          2.058945417404175,
          1.8653326034545898,
          1.5850110054016113,
          2.4045534133911133,
          -0.9028122425079346,
          1.892142415046692,
          -0.4990536570549011,
          -0.7025917172431946,
          -1.502522587776184,
          -0.8448504209518433,
          1.8204704523086548,
          1.8482346534729004,
          1.766096591949463,
          1.6871397495269775,
          -0.7335924506187439,
          -0.4939589500427246,
          1.9173481464385986,
          0.4313170313835144,
          -1.746053695678711,
          -1.8427813053131104,
          0.6433625221252441,
          0.5990613102912903,
          0.37031394243240356,
          0.6202884912490845,
          -1.9482377767562866,
          -2.615542411804199,
          -1.7775545120239258,
          -1.810500144958496,
          0.6187974214553833,
          -1.8853716850280762,
          1.109182596206665,
          0.5938863158226013,
          0.8357217311859131,
          0.7822310924530029,
          -1.959290623664856,
          -1.9361529350280762,
          0.5721087455749512,
          0.8494764566421509,
          0.7490230202674866,
          0.5613837242126465,
          -2.3870697021484375,
          0.5068325996398926,
          -1.751876711845398,
          0.27683037519454956,
          -1.9379549026489258,
          -2.466938018798828,
          0.3364419937133789,
          0.44104182720184326,
          -1.6793922185897827,
          1.0935181379318237,
          -1.8878237009048462,
          0.7883228659629822,
          -1.832269310951233,
          0.5277050733566284,
          0.5833349227905273
         ]
        },
        {
         "customdata": [
          [
           "0.5833349",
           "1.8759623",
           "None"
          ],
          [
           "0.5277051",
           "1.7667483",
           "None"
          ],
          [
           "-1.8322693",
           "-0.48663318",
           "None"
          ],
          [
           "0.78832287",
           "2.1043797",
           "None"
          ],
          [
           "-1.8878237",
           "-0.8418132",
           "Class 4, Class 5"
          ],
          [
           "1.0935181",
           "2.1290922",
           "None"
          ],
          [
           "-1.6793922",
           "-0.5972854",
           "None"
          ],
          [
           "0.44104183",
           "1.8795236",
           "None"
          ],
          [
           "0.336442",
           "1.8111897",
           "None"
          ],
          [
           "-2.466938",
           "-1.4431007",
           "None"
          ],
          [
           "-1.9379549",
           "-0.46392822",
           "None"
          ],
          [
           "0.27683038",
           "2.2663019",
           "None"
          ],
          [
           "-1.7518767",
           "-0.7937585",
           "Class 4, Class 5"
          ],
          [
           "0.5068326",
           "1.9991515",
           "None"
          ],
          [
           "-2.3870697",
           "-0.5751298",
           "None"
          ],
          [
           "0.5613837",
           "1.6698191",
           "Class 1, Class 4"
          ],
          [
           "0.749023",
           "2.1295195",
           "None"
          ],
          [
           "0.84947646",
           "1.8936666",
           "Class 4, Class 6"
          ],
          [
           "0.57210875",
           "1.8750224",
           "Class 1, Class 4"
          ],
          [
           "-1.9361529",
           "-0.4617545",
           "None"
          ],
          [
           "-1.9592906",
           "-0.77814424",
           "None"
          ],
          [
           "0.7822311",
           "2.0589454",
           "None"
          ],
          [
           "0.83572173",
           "1.8653326",
           "None"
          ],
          [
           "0.5938863",
           "1.585011",
           "Class 1, Class 4"
          ],
          [
           "1.1091826",
           "2.4045534",
           "None"
          ],
          [
           "-1.8853717",
           "-0.90281224",
           "None"
          ],
          [
           "0.6187974",
           "1.8921424",
           "None"
          ],
          [
           "-1.8105001",
           "-0.49905366",
           "None"
          ],
          [
           "-1.7775545",
           "-0.7025917",
           "None"
          ],
          [
           "-2.6155424",
           "-1.5025226",
           "Class 1, Class 4"
          ],
          [
           "-1.9482378",
           "-0.8448504",
           "Class 1, Class 4"
          ],
          [
           "0.6202885",
           "1.8204705",
           "None"
          ],
          [
           "0.37031394",
           "1.8482347",
           "None"
          ],
          [
           "0.5990613",
           "1.7660966",
           "None"
          ],
          [
           "0.6433625",
           "1.6871397",
           "Class 3, Class 4"
          ],
          [
           "-1.8427813",
           "-0.73359245",
           "None"
          ],
          [
           "-1.7460537",
           "-0.49395895",
           "None"
          ],
          [
           "0.43131703",
           "1.9173481",
           "None"
          ]
         ],
         "hovertemplate": "Neuron: %{x}<br>Mean: %{y:.3f}<br>Range: %{customdata[0]:.3f} to %{customdata[1]:.3f}<br>Class: 4<br>Overlapping Classes: %{customdata[2]}",
         "marker": {
          "color": "rgb(214, 39, 40)",
          "size": 6,
          "symbol": "circle"
         },
         "mode": "markers",
         "name": "Mean Class 4",
         "type": "scatter",
         "x": [
          0,
          20,
          23,
          67,
          113,
          132,
          162,
          164,
          172,
          195,
          204,
          217,
          222,
          241,
          276,
          281,
          289,
          327,
          334,
          339,
          349,
          364,
          404,
          407,
          456,
          461,
          487,
          503,
          523,
          563,
          565,
          577,
          602,
          689,
          731,
          733,
          746,
          764
         ],
         "y": [
          1.2296485900878906,
          1.1472266912460327,
          -1.1594512462615967,
          1.4463512897491455,
          -1.3648184537887573,
          1.6113052368164062,
          -1.1383388042449951,
          1.1602827310562134,
          1.0738158226013184,
          -1.9550193548202515,
          -1.200941562652588,
          1.2715661525726318,
          -1.272817611694336,
          1.252992033958435,
          -1.4810997247695923,
          1.1156014204025269,
          1.4392712116241455,
          1.3715715408325195,
          1.2235655784606934,
          -1.1989537477493286,
          -1.3687174320220947,
          1.4205882549285889,
          1.3505271673202515,
          1.0894486904144287,
          1.7568680047988892,
          -1.3940919637680054,
          1.2554699182510376,
          -1.154776930809021,
          -1.2400730848312378,
          -2.059032440185547,
          -1.396544098854065,
          1.2203794717788696,
          1.1092742681503296,
          1.1825789213180542,
          1.1652511358261108,
          -1.2881869077682495,
          -1.1200063228607178,
          1.174332618713379
         ]
        },
        {
         "fill": "toself",
         "fillcolor": "rgba(148, 103, 189, 0.2)",
         "hoverinfo": "skip",
         "line": {
          "color": "rgba(0,0,0,0)"
         },
         "name": "Range Class 5",
         "showlegend": true,
         "type": "scatter",
         "x": [
          17,
          24,
          42,
          54,
          67,
          113,
          124,
          179,
          191,
          201,
          222,
          242,
          246,
          284,
          297,
          303,
          309,
          386,
          388,
          395,
          409,
          411,
          475,
          492,
          516,
          536,
          538,
          549,
          557,
          566,
          569,
          615,
          638,
          647,
          652,
          700,
          706,
          741,
          741,
          706,
          700,
          652,
          647,
          638,
          615,
          569,
          566,
          557,
          549,
          538,
          536,
          516,
          492,
          475,
          411,
          409,
          395,
          388,
          386,
          309,
          303,
          297,
          284,
          246,
          242,
          222,
          201,
          191,
          179,
          124,
          113,
          67,
          54,
          42,
          24,
          17
         ],
         "y": [
          -0.8901490569114685,
          1.8860028982162476,
          -0.4590054154396057,
          -0.7859441637992859,
          2.0008091926574707,
          -0.4128881096839905,
          2.3076915740966797,
          -0.4791525602340698,
          -0.37850654125213623,
          -0.5265802145004272,
          -0.40336644649505615,
          1.8944164514541626,
          1.6167856454849243,
          1.5562089681625366,
          1.6781926155090332,
          1.726960301399231,
          -0.8702054023742676,
          1.892265796661377,
          -0.6604462265968323,
          1.7652685642242432,
          -0.5476385951042175,
          -0.5419919490814209,
          1.590954065322876,
          1.8478504419326782,
          -0.6802339553833008,
          2.080270290374756,
          -0.3810306191444397,
          1.7055094242095947,
          1.6871883869171143,
          1.7934041023254395,
          -0.49090754985809326,
          -0.9482506513595581,
          2.493652582168579,
          -0.5116012096405029,
          -0.44716906547546387,
          1.5835249423980713,
          1.732554316520691,
          -0.5069296956062317,
          -1.8056118488311768,
          0.512553334236145,
          0.4541195034980774,
          -1.6090443134307861,
          -1.7513363361358643,
          1.1652641296386719,
          -2.9964966773986816,
          -1.6373769044876099,
          0.44964009523391724,
          0.4284029006958008,
          0.3692682385444641,
          -1.6222174167633057,
          0.5279804468154907,
          -1.4784529209136963,
          0.5083285570144653,
          0.5735540390014648,
          -1.8915374279022217,
          -1.883962631225586,
          0.625575840473175,
          -2.328885793685913,
          0.8366448879241943,
          -2.37497615814209,
          0.5724900960922241,
          0.5594404339790344,
          0.683172345161438,
          0.7211405038833618,
          0.3303147554397583,
          -1.6325215101242065,
          -1.797078013420105,
          -1.7597132921218872,
          -1.9153510332107544,
          0.2693803310394287,
          -1.9035112857818604,
          0.14801645278930664,
          -1.9046168327331543,
          -1.7615649700164795,
          0.9491907358169556,
          -2.005723237991333
         ]
        },
        {
         "customdata": [
          [
           "-2.0057232",
           "-0.89014906",
           "None"
          ],
          [
           "0.94919074",
           "1.8860029",
           "Class 5, Class 6"
          ],
          [
           "-1.761565",
           "-0.45900542",
           "None"
          ],
          [
           "-1.9046168",
           "-0.78594416",
           "None"
          ],
          [
           "0.14801645",
           "2.0008092",
           "None"
          ],
          [
           "-1.9035113",
           "-0.4128881",
           "Class 4, Class 5"
          ],
          [
           "0.26938033",
           "2.3076916",
           "Class 5, Class 6"
          ],
          [
           "-1.915351",
           "-0.47915256",
           "Class 5, Class 6"
          ],
          [
           "-1.7597133",
           "-0.37850654",
           "Class 1, Class 5"
          ],
          [
           "-1.797078",
           "-0.5265802",
           "None"
          ],
          [
           "-1.6325215",
           "-0.40336645",
           "Class 4, Class 5"
          ],
          [
           "0.33031476",
           "1.8944165",
           "Class 1, Class 5"
          ],
          [
           "0.7211405",
           "1.6167856",
           "Class 1, Class 5, Class 6"
          ],
          [
           "0.68317235",
           "1.556209",
           "None"
          ],
          [
           "0.55944043",
           "1.6781926",
           "Class 5, Class 6"
          ],
          [
           "0.5724901",
           "1.7269603",
           "None"
          ],
          [
           "-2.3749762",
           "-0.8702054",
           "None"
          ],
          [
           "0.8366449",
           "1.8922658",
           "Class 5, Class 6"
          ],
          [
           "-2.3288858",
           "-0.6604462",
           "None"
          ],
          [
           "0.62557584",
           "1.7652686",
           "None"
          ],
          [
           "-1.8839626",
           "-0.5476386",
           "None"
          ],
          [
           "-1.8915374",
           "-0.54199195",
           "None"
          ],
          [
           "0.57355404",
           "1.5909541",
           "Class 5, Class 6"
          ],
          [
           "0.50832856",
           "1.8478504",
           "Class 5, Class 6"
          ],
          [
           "-1.4784529",
           "-0.68023396",
           "None"
          ],
          [
           "0.52798045",
           "2.0802703",
           "None"
          ],
          [
           "-1.6222174",
           "-0.38103062",
           "None"
          ],
          [
           "0.36926824",
           "1.7055094",
           "Class 5, Class 6"
          ],
          [
           "0.4284029",
           "1.6871884",
           "Class 2, Class 5"
          ],
          [
           "0.4496401",
           "1.7934041",
           "None"
          ],
          [
           "-1.6373769",
           "-0.49090755",
           "None"
          ],
          [
           "-2.9964967",
           "-0.94825065",
           "Class 3, Class 5"
          ],
          [
           "1.1652641",
           "2.4936526",
           "None"
          ],
          [
           "-1.7513363",
           "-0.5116012",
           "None"
          ],
          [
           "-1.6090443",
           "-0.44716907",
           "None"
          ],
          [
           "0.4541195",
           "1.583525",
           "None"
          ],
          [
           "0.51255333",
           "1.7325543",
           "None"
          ],
          [
           "-1.8056118",
           "-0.5069297",
           "None"
          ]
         ],
         "hovertemplate": "Neuron: %{x}<br>Mean: %{y:.3f}<br>Range: %{customdata[0]:.3f} to %{customdata[1]:.3f}<br>Class: 5<br>Overlapping Classes: %{customdata[2]}",
         "marker": {
          "color": "rgb(148, 103, 189)",
          "size": 6,
          "symbol": "circle"
         },
         "mode": "markers",
         "name": "Mean Class 5",
         "type": "scatter",
         "x": [
          17,
          24,
          42,
          54,
          67,
          113,
          124,
          179,
          191,
          201,
          222,
          242,
          246,
          284,
          297,
          303,
          309,
          386,
          388,
          395,
          409,
          411,
          475,
          492,
          516,
          536,
          538,
          549,
          557,
          566,
          569,
          615,
          638,
          647,
          652,
          700,
          706,
          741
         ],
         "y": [
          -1.4479361772537231,
          1.4175968170166016,
          -1.1102851629257202,
          -1.3452805280685425,
          1.0744128227233887,
          -1.158199667930603,
          1.2885359525680542,
          -1.197251796722412,
          -1.0691099166870117,
          -1.1618291139602661,
          -1.0179439783096313,
          1.1123656034469604,
          1.168963074684143,
          1.1196906566619873,
          1.1188164949417114,
          1.1497251987457275,
          -1.6225907802581787,
          1.3644553422927856,
          -1.4946659803390503,
          1.1954221725463867,
          -1.2158006429672241,
          -1.2167646884918213,
          1.0822540521621704,
          1.1780894994735718,
          -1.0793434381484985,
          1.304125428199768,
          -1.0016239881515503,
          1.037388801574707,
          1.0577956438064575,
          1.121522068977356,
          -1.0641422271728516,
          -1.9723737239837646,
          1.8294583559036255,
          -1.1314687728881836,
          -1.028106689453125,
          1.018822193145752,
          1.122553825378418,
          -1.1562707424163818
         ]
        },
        {
         "fill": "toself",
         "fillcolor": "rgba(140, 86, 75, 0.2)",
         "hoverinfo": "skip",
         "line": {
          "color": "rgba(0,0,0,0)"
         },
         "name": "Range Class 6",
         "showlegend": true,
         "type": "scatter",
         "x": [
          7,
          24,
          30,
          36,
          41,
          80,
          85,
          100,
          124,
          129,
          149,
          175,
          179,
          246,
          255,
          297,
          298,
          327,
          353,
          355,
          364,
          386,
          408,
          462,
          475,
          492,
          534,
          542,
          549,
          562,
          597,
          598,
          617,
          619,
          640,
          718,
          754,
          758,
          758,
          754,
          718,
          640,
          619,
          617,
          598,
          597,
          562,
          549,
          542,
          534,
          492,
          475,
          462,
          408,
          386,
          364,
          355,
          353,
          327,
          298,
          297,
          255,
          246,
          179,
          175,
          149,
          129,
          124,
          100,
          85,
          80,
          41,
          36,
          30,
          24,
          7
         ],
         "y": [
          1.6749871969223022,
          1.9171690940856934,
          -0.7287692427635193,
          -0.41621094942092896,
          -0.8176954984664917,
          -0.5633209943771362,
          -0.4139469265937805,
          -0.6732411980628967,
          2.3608155250549316,
          -0.6088117361068726,
          1.5967583656311035,
          -0.5758519172668457,
          -0.21355289220809937,
          1.53311026096344,
          -0.5206273198127747,
          2.56669545173645,
          -0.37814557552337646,
          2.0156450271606445,
          -0.2503923773765564,
          1.4343039989471436,
          -0.340440034866333,
          1.6642487049102783,
          1.822709083557129,
          -1.1744067668914795,
          1.6283825635910034,
          1.7565759420394897,
          1.6646754741668701,
          -0.43227893114089966,
          1.5723093748092651,
          -0.5089627504348755,
          1.799936056137085,
          -0.5310292840003967,
          1.4372469186782837,
          -0.6588674783706665,
          -1.1870546340942383,
          -0.5591574907302856,
          -0.5610038638114929,
          -0.6408697366714478,
          -1.6753135919570923,
          -1.4851171970367432,
          -1.920852780342102,
          -2.1958398818969727,
          -1.7300575971603394,
          0.6163963079452515,
          -1.945925235748291,
          0.7710351943969727,
          -1.5557607412338257,
          0.5460251569747925,
          -1.6313319206237793,
          0.8710184097290039,
          0.6504443883895874,
          0.6543351411819458,
          -2.2522106170654297,
          0.1592898964881897,
          0.3804909586906433,
          -2.031064033508301,
          0.6522855758666992,
          -2.0783941745758057,
          0.27415788173675537,
          -1.9355942010879517,
          1.1515469551086426,
          -1.9420843124389648,
          0.841265082359314,
          -1.9030530452728271,
          -1.6349704265594482,
          0.7536336779594421,
          -1.4710360765457153,
          1.122293472290039,
          -1.713191270828247,
          -1.892657995223999,
          -1.5542453527450562,
          -1.8512386083602905,
          -2.1389551162719727,
          -2.3767142295837402,
          0.8722490668296814,
          0.7091361284255981
         ]
        },
        {
         "customdata": [
          [
           "0.7091361",
           "1.6749872",
           "None"
          ],
          [
           "0.87224907",
           "1.9171691",
           "Class 5, Class 6"
          ],
          [
           "-2.3767142",
           "-0.72876924",
           "None"
          ],
          [
           "-2.138955",
           "-0.41621095",
           "None"
          ],
          [
           "-1.8512386",
           "-0.8176955",
           "None"
          ],
          [
           "-1.5542454",
           "-0.563321",
           "None"
          ],
          [
           "-1.892658",
           "-0.41394693",
           "None"
          ],
          [
           "-1.7131913",
           "-0.6732412",
           "None"
          ],
          [
           "1.1222935",
           "2.3608155",
           "Class 5, Class 6"
          ],
          [
           "-1.4710361",
           "-0.60881174",
           "None"
          ],
          [
           "0.7536337",
           "1.5967584",
           "None"
          ],
          [
           "-1.6349704",
           "-0.5758519",
           "None"
          ],
          [
           "-1.903053",
           "-0.21355289",
           "Class 5, Class 6"
          ],
          [
           "0.8412651",
           "1.5331103",
           "Class 1, Class 5, Class 6"
          ],
          [
           "-1.9420843",
           "-0.5206273",
           "None"
          ],
          [
           "1.151547",
           "2.5666955",
           "Class 5, Class 6"
          ],
          [
           "-1.9355942",
           "-0.37814558",
           "None"
          ],
          [
           "0.27415788",
           "2.015645",
           "Class 4, Class 6"
          ],
          [
           "-2.0783942",
           "-0.25039238",
           "None"
          ],
          [
           "0.6522856",
           "1.434304",
           "None"
          ],
          [
           "-2.031064",
           "-0.34044003",
           "None"
          ],
          [
           "0.38049096",
           "1.6642487",
           "Class 5, Class 6"
          ],
          [
           "0.1592899",
           "1.8227091",
           "None"
          ],
          [
           "-2.2522106",
           "-1.1744068",
           "None"
          ],
          [
           "0.65433514",
           "1.6283826",
           "Class 5, Class 6"
          ],
          [
           "0.6504444",
           "1.756576",
           "Class 5, Class 6"
          ],
          [
           "0.8710184",
           "1.6646755",
           "None"
          ],
          [
           "-1.6313319",
           "-0.43227893",
           "None"
          ],
          [
           "0.54602516",
           "1.5723094",
           "Class 5, Class 6"
          ],
          [
           "-1.5557607",
           "-0.50896275",
           "None"
          ],
          [
           "0.7710352",
           "1.799936",
           "None"
          ],
          [
           "-1.9459252",
           "-0.5310293",
           "None"
          ],
          [
           "0.6163963",
           "1.4372469",
           "None"
          ],
          [
           "-1.7300576",
           "-0.6588675",
           "None"
          ],
          [
           "-2.19584",
           "-1.1870546",
           "None"
          ],
          [
           "-1.9208528",
           "-0.5591575",
           "None"
          ],
          [
           "-1.4851172",
           "-0.56100386",
           "None"
          ],
          [
           "-1.6753136",
           "-0.64086974",
           "None"
          ]
         ],
         "hovertemplate": "Neuron: %{x}<br>Mean: %{y:.3f}<br>Range: %{customdata[0]:.3f} to %{customdata[1]:.3f}<br>Class: 6<br>Overlapping Classes: %{customdata[2]}",
         "marker": {
          "color": "rgb(140, 86, 75)",
          "size": 6,
          "symbol": "circle"
         },
         "mode": "markers",
         "name": "Mean Class 6",
         "type": "scatter",
         "x": [
          7,
          24,
          30,
          36,
          41,
          80,
          85,
          100,
          124,
          129,
          149,
          175,
          179,
          246,
          255,
          297,
          298,
          327,
          353,
          355,
          364,
          386,
          408,
          462,
          475,
          492,
          534,
          542,
          549,
          562,
          597,
          598,
          617,
          619,
          640,
          718,
          754,
          758
         ],
         "y": [
          1.1920616626739502,
          1.3947091102600098,
          -1.5527417659759521,
          -1.2775830030441284,
          -1.3344670534133911,
          -1.0587831735610962,
          -1.1533024311065674,
          -1.1932162046432495,
          1.7415544986724854,
          -1.039923906326294,
          1.1751960515975952,
          -1.105411171913147,
          -1.0583029985427856,
          1.187187671661377,
          -1.2313557863235474,
          1.8591212034225464,
          -1.156869888305664,
          1.1449013948440552,
          -1.1643933057785034,
          1.0432947874069214,
          -1.185752034187317,
          1.0223698616027832,
          0.9909994602203369,
          -1.7133086919784546,
          1.1413588523864746,
          1.2035101652145386,
          1.267846941947937,
          -1.031805396080017,
          1.0591672658920288,
          -1.0323617458343506,
          1.2854856252670288,
          -1.2384772300720215,
          1.0268216133117676,
          -1.194462537765503,
          -1.6914472579956055,
          -1.2400051355361938,
          -1.0230605602264404,
          -1.15809166431427
         ]
        }
       ],
       "layout": {
        "height": 800,
        "legend": {
         "x": 0.99,
         "xanchor": "right",
         "y": 0.99,
         "yanchor": "top"
        },
        "plot_bgcolor": "white",
        "showlegend": true,
        "template": {
         "data": {
          "bar": [
           {
            "error_x": {
             "color": "#2a3f5f"
            },
            "error_y": {
             "color": "#2a3f5f"
            },
            "marker": {
             "line": {
              "color": "#E5ECF6",
              "width": 0.5
             },
             "pattern": {
              "fillmode": "overlay",
              "size": 10,
              "solidity": 0.2
             }
            },
            "type": "bar"
           }
          ],
          "barpolar": [
           {
            "marker": {
             "line": {
              "color": "#E5ECF6",
              "width": 0.5
             },
             "pattern": {
              "fillmode": "overlay",
              "size": 10,
              "solidity": 0.2
             }
            },
            "type": "barpolar"
           }
          ],
          "carpet": [
           {
            "aaxis": {
             "endlinecolor": "#2a3f5f",
             "gridcolor": "white",
             "linecolor": "white",
             "minorgridcolor": "white",
             "startlinecolor": "#2a3f5f"
            },
            "baxis": {
             "endlinecolor": "#2a3f5f",
             "gridcolor": "white",
             "linecolor": "white",
             "minorgridcolor": "white",
             "startlinecolor": "#2a3f5f"
            },
            "type": "carpet"
           }
          ],
          "choropleth": [
           {
            "colorbar": {
             "outlinewidth": 0,
             "ticks": ""
            },
            "type": "choropleth"
           }
          ],
          "contour": [
           {
            "colorbar": {
             "outlinewidth": 0,
             "ticks": ""
            },
            "colorscale": [
             [
              0,
              "#0d0887"
             ],
             [
              0.1111111111111111,
              "#46039f"
             ],
             [
              0.2222222222222222,
              "#7201a8"
             ],
             [
              0.3333333333333333,
              "#9c179e"
             ],
             [
              0.4444444444444444,
              "#bd3786"
             ],
             [
              0.5555555555555556,
              "#d8576b"
             ],
             [
              0.6666666666666666,
              "#ed7953"
             ],
             [
              0.7777777777777778,
              "#fb9f3a"
             ],
             [
              0.8888888888888888,
              "#fdca26"
             ],
             [
              1,
              "#f0f921"
             ]
            ],
            "type": "contour"
           }
          ],
          "contourcarpet": [
           {
            "colorbar": {
             "outlinewidth": 0,
             "ticks": ""
            },
            "type": "contourcarpet"
           }
          ],
          "heatmap": [
           {
            "colorbar": {
             "outlinewidth": 0,
             "ticks": ""
            },
            "colorscale": [
             [
              0,
              "#0d0887"
             ],
             [
              0.1111111111111111,
              "#46039f"
             ],
             [
              0.2222222222222222,
              "#7201a8"
             ],
             [
              0.3333333333333333,
              "#9c179e"
             ],
             [
              0.4444444444444444,
              "#bd3786"
             ],
             [
              0.5555555555555556,
              "#d8576b"
             ],
             [
              0.6666666666666666,
              "#ed7953"
             ],
             [
              0.7777777777777778,
              "#fb9f3a"
             ],
             [
              0.8888888888888888,
              "#fdca26"
             ],
             [
              1,
              "#f0f921"
             ]
            ],
            "type": "heatmap"
           }
          ],
          "heatmapgl": [
           {
            "colorbar": {
             "outlinewidth": 0,
             "ticks": ""
            },
            "colorscale": [
             [
              0,
              "#0d0887"
             ],
             [
              0.1111111111111111,
              "#46039f"
             ],
             [
              0.2222222222222222,
              "#7201a8"
             ],
             [
              0.3333333333333333,
              "#9c179e"
             ],
             [
              0.4444444444444444,
              "#bd3786"
             ],
             [
              0.5555555555555556,
              "#d8576b"
             ],
             [
              0.6666666666666666,
              "#ed7953"
             ],
             [
              0.7777777777777778,
              "#fb9f3a"
             ],
             [
              0.8888888888888888,
              "#fdca26"
             ],
             [
              1,
              "#f0f921"
             ]
            ],
            "type": "heatmapgl"
           }
          ],
          "histogram": [
           {
            "marker": {
             "pattern": {
              "fillmode": "overlay",
              "size": 10,
              "solidity": 0.2
             }
            },
            "type": "histogram"
           }
          ],
          "histogram2d": [
           {
            "colorbar": {
             "outlinewidth": 0,
             "ticks": ""
            },
            "colorscale": [
             [
              0,
              "#0d0887"
             ],
             [
              0.1111111111111111,
              "#46039f"
             ],
             [
              0.2222222222222222,
              "#7201a8"
             ],
             [
              0.3333333333333333,
              "#9c179e"
             ],
             [
              0.4444444444444444,
              "#bd3786"
             ],
             [
              0.5555555555555556,
              "#d8576b"
             ],
             [
              0.6666666666666666,
              "#ed7953"
             ],
             [
              0.7777777777777778,
              "#fb9f3a"
             ],
             [
              0.8888888888888888,
              "#fdca26"
             ],
             [
              1,
              "#f0f921"
             ]
            ],
            "type": "histogram2d"
           }
          ],
          "histogram2dcontour": [
           {
            "colorbar": {
             "outlinewidth": 0,
             "ticks": ""
            },
            "colorscale": [
             [
              0,
              "#0d0887"
             ],
             [
              0.1111111111111111,
              "#46039f"
             ],
             [
              0.2222222222222222,
              "#7201a8"
             ],
             [
              0.3333333333333333,
              "#9c179e"
             ],
             [
              0.4444444444444444,
              "#bd3786"
             ],
             [
              0.5555555555555556,
              "#d8576b"
             ],
             [
              0.6666666666666666,
              "#ed7953"
             ],
             [
              0.7777777777777778,
              "#fb9f3a"
             ],
             [
              0.8888888888888888,
              "#fdca26"
             ],
             [
              1,
              "#f0f921"
             ]
            ],
            "type": "histogram2dcontour"
           }
          ],
          "mesh3d": [
           {
            "colorbar": {
             "outlinewidth": 0,
             "ticks": ""
            },
            "type": "mesh3d"
           }
          ],
          "parcoords": [
           {
            "line": {
             "colorbar": {
              "outlinewidth": 0,
              "ticks": ""
             }
            },
            "type": "parcoords"
           }
          ],
          "pie": [
           {
            "automargin": true,
            "type": "pie"
           }
          ],
          "scatter": [
           {
            "fillpattern": {
             "fillmode": "overlay",
             "size": 10,
             "solidity": 0.2
            },
            "type": "scatter"
           }
          ],
          "scatter3d": [
           {
            "line": {
             "colorbar": {
              "outlinewidth": 0,
              "ticks": ""
             }
            },
            "marker": {
             "colorbar": {
              "outlinewidth": 0,
              "ticks": ""
             }
            },
            "type": "scatter3d"
           }
          ],
          "scattercarpet": [
           {
            "marker": {
             "colorbar": {
              "outlinewidth": 0,
              "ticks": ""
             }
            },
            "type": "scattercarpet"
           }
          ],
          "scattergeo": [
           {
            "marker": {
             "colorbar": {
              "outlinewidth": 0,
              "ticks": ""
             }
            },
            "type": "scattergeo"
           }
          ],
          "scattergl": [
           {
            "marker": {
             "colorbar": {
              "outlinewidth": 0,
              "ticks": ""
             }
            },
            "type": "scattergl"
           }
          ],
          "scattermapbox": [
           {
            "marker": {
             "colorbar": {
              "outlinewidth": 0,
              "ticks": ""
             }
            },
            "type": "scattermapbox"
           }
          ],
          "scatterpolar": [
           {
            "marker": {
             "colorbar": {
              "outlinewidth": 0,
              "ticks": ""
             }
            },
            "type": "scatterpolar"
           }
          ],
          "scatterpolargl": [
           {
            "marker": {
             "colorbar": {
              "outlinewidth": 0,
              "ticks": ""
             }
            },
            "type": "scatterpolargl"
           }
          ],
          "scatterternary": [
           {
            "marker": {
             "colorbar": {
              "outlinewidth": 0,
              "ticks": ""
             }
            },
            "type": "scatterternary"
           }
          ],
          "surface": [
           {
            "colorbar": {
             "outlinewidth": 0,
             "ticks": ""
            },
            "colorscale": [
             [
              0,
              "#0d0887"
             ],
             [
              0.1111111111111111,
              "#46039f"
             ],
             [
              0.2222222222222222,
              "#7201a8"
             ],
             [
              0.3333333333333333,
              "#9c179e"
             ],
             [
              0.4444444444444444,
              "#bd3786"
             ],
             [
              0.5555555555555556,
              "#d8576b"
             ],
             [
              0.6666666666666666,
              "#ed7953"
             ],
             [
              0.7777777777777778,
              "#fb9f3a"
             ],
             [
              0.8888888888888888,
              "#fdca26"
             ],
             [
              1,
              "#f0f921"
             ]
            ],
            "type": "surface"
           }
          ],
          "table": [
           {
            "cells": {
             "fill": {
              "color": "#EBF0F8"
             },
             "line": {
              "color": "white"
             }
            },
            "header": {
             "fill": {
              "color": "#C8D4E3"
             },
             "line": {
              "color": "white"
             }
            },
            "type": "table"
           }
          ]
         },
         "layout": {
          "annotationdefaults": {
           "arrowcolor": "#2a3f5f",
           "arrowhead": 0,
           "arrowwidth": 1
          },
          "autotypenumbers": "strict",
          "coloraxis": {
           "colorbar": {
            "outlinewidth": 0,
            "ticks": ""
           }
          },
          "colorscale": {
           "diverging": [
            [
             0,
             "#8e0152"
            ],
            [
             0.1,
             "#c51b7d"
            ],
            [
             0.2,
             "#de77ae"
            ],
            [
             0.3,
             "#f1b6da"
            ],
            [
             0.4,
             "#fde0ef"
            ],
            [
             0.5,
             "#f7f7f7"
            ],
            [
             0.6,
             "#e6f5d0"
            ],
            [
             0.7,
             "#b8e186"
            ],
            [
             0.8,
             "#7fbc41"
            ],
            [
             0.9,
             "#4d9221"
            ],
            [
             1,
             "#276419"
            ]
           ],
           "sequential": [
            [
             0,
             "#0d0887"
            ],
            [
             0.1111111111111111,
             "#46039f"
            ],
            [
             0.2222222222222222,
             "#7201a8"
            ],
            [
             0.3333333333333333,
             "#9c179e"
            ],
            [
             0.4444444444444444,
             "#bd3786"
            ],
            [
             0.5555555555555556,
             "#d8576b"
            ],
            [
             0.6666666666666666,
             "#ed7953"
            ],
            [
             0.7777777777777778,
             "#fb9f3a"
            ],
            [
             0.8888888888888888,
             "#fdca26"
            ],
            [
             1,
             "#f0f921"
            ]
           ],
           "sequentialminus": [
            [
             0,
             "#0d0887"
            ],
            [
             0.1111111111111111,
             "#46039f"
            ],
            [
             0.2222222222222222,
             "#7201a8"
            ],
            [
             0.3333333333333333,
             "#9c179e"
            ],
            [
             0.4444444444444444,
             "#bd3786"
            ],
            [
             0.5555555555555556,
             "#d8576b"
            ],
            [
             0.6666666666666666,
             "#ed7953"
            ],
            [
             0.7777777777777778,
             "#fb9f3a"
            ],
            [
             0.8888888888888888,
             "#fdca26"
            ],
            [
             1,
             "#f0f921"
            ]
           ]
          },
          "colorway": [
           "#636efa",
           "#EF553B",
           "#00cc96",
           "#ab63fa",
           "#FFA15A",
           "#19d3f3",
           "#FF6692",
           "#B6E880",
           "#FF97FF",
           "#FECB52"
          ],
          "font": {
           "color": "#2a3f5f"
          },
          "geo": {
           "bgcolor": "white",
           "lakecolor": "white",
           "landcolor": "#E5ECF6",
           "showlakes": true,
           "showland": true,
           "subunitcolor": "white"
          },
          "hoverlabel": {
           "align": "left"
          },
          "hovermode": "closest",
          "mapbox": {
           "style": "light"
          },
          "paper_bgcolor": "white",
          "plot_bgcolor": "#E5ECF6",
          "polar": {
           "angularaxis": {
            "gridcolor": "white",
            "linecolor": "white",
            "ticks": ""
           },
           "bgcolor": "#E5ECF6",
           "radialaxis": {
            "gridcolor": "white",
            "linecolor": "white",
            "ticks": ""
           }
          },
          "scene": {
           "xaxis": {
            "backgroundcolor": "#E5ECF6",
            "gridcolor": "white",
            "gridwidth": 2,
            "linecolor": "white",
            "showbackground": true,
            "ticks": "",
            "zerolinecolor": "white"
           },
           "yaxis": {
            "backgroundcolor": "#E5ECF6",
            "gridcolor": "white",
            "gridwidth": 2,
            "linecolor": "white",
            "showbackground": true,
            "ticks": "",
            "zerolinecolor": "white"
           },
           "zaxis": {
            "backgroundcolor": "#E5ECF6",
            "gridcolor": "white",
            "gridwidth": 2,
            "linecolor": "white",
            "showbackground": true,
            "ticks": "",
            "zerolinecolor": "white"
           }
          },
          "shapedefaults": {
           "line": {
            "color": "#2a3f5f"
           }
          },
          "ternary": {
           "aaxis": {
            "gridcolor": "white",
            "linecolor": "white",
            "ticks": ""
           },
           "baxis": {
            "gridcolor": "white",
            "linecolor": "white",
            "ticks": ""
           },
           "bgcolor": "#E5ECF6",
           "caxis": {
            "gridcolor": "white",
            "linecolor": "white",
            "ticks": ""
           }
          },
          "title": {
           "x": 0.05
          },
          "xaxis": {
           "automargin": true,
           "gridcolor": "white",
           "linecolor": "white",
           "ticks": "",
           "title": {
            "standoff": 15
           },
           "zerolinecolor": "white",
           "zerolinewidth": 2
          },
          "yaxis": {
           "automargin": true,
           "gridcolor": "white",
           "linecolor": "white",
           "ticks": "",
           "title": {
            "standoff": 15
           },
           "zerolinecolor": "white",
           "zerolinewidth": 2
          }
         }
        },
        "title": {
         "text": "Activation Ranges with Overlap Analysis"
        },
        "width": 1500,
        "xaxis": {
         "gridcolor": "LightGrey",
         "gridwidth": 1,
         "showgrid": true,
         "title": {
          "text": "Neuron Index"
         }
        },
        "yaxis": {
         "gridcolor": "LightGrey",
         "gridwidth": 1,
         "showgrid": true,
         "title": {
          "text": "Activation Value"
         }
        }
       }
      },
      "text/html": [
       "<div>                            <div id=\"64bc25a0-fbc7-4c88-a352-96ac82cedf98\" class=\"plotly-graph-div\" style=\"height:800px; width:1500px;\"></div>            <script type=\"text/javascript\">                require([\"plotly\"], function(Plotly) {                    window.PLOTLYENV=window.PLOTLYENV || {};                                    if (document.getElementById(\"64bc25a0-fbc7-4c88-a352-96ac82cedf98\")) {                    Plotly.newPlot(                        \"64bc25a0-fbc7-4c88-a352-96ac82cedf98\",                        [{\"fill\":\"toself\",\"fillcolor\":\"rgba(255, 200, 200, 0.2)\",\"hoverinfo\":\"skip\",\"line\":{\"width\":0},\"name\":\"2-Class Overlap\",\"showlegend\":true,\"x\":[23.5,47.5,51.5,112.5,123.5,178.5,190.5,221.5,241.5,249.5,280.5,296.5,326.5,333.5,385.5,406.5,474.5,491.5,548.5,556.5,562.5,564.5,593.5,608.5,614.5,695.5,730.5,736.5,24.5,48.5,52.5,113.5,124.5,179.5,191.5,222.5,242.5,250.5,281.5,297.5,327.5,334.5,386.5,407.5,475.5,492.5,549.5,557.5,563.5,565.5,594.5,609.5,615.5,696.5,731.5,737.5,737.5,23.5],\"y\":[-1,-1,-1,-1,-1,-1,-1,-1,-1,-1,-1,-1,-1,-1,-1,-1,-1,-1,-1,-1,-1,-1,-1,-1,-1,-1,-1,-1,-1,-1,-1,-1,-1,-1,-1,-1,-1,-1,-1,-1,-1,-1,-1,-1,-1,-1,-1,-1,-1,-1,-1,-1,-1,-1,-1,-1,-1,-1],\"type\":\"scatter\"},{\"fill\":\"toself\",\"fillcolor\":\"rgba(255, 150, 150, 0.2)\",\"hoverinfo\":\"skip\",\"line\":{\"width\":0},\"name\":\"3-Class Overlap\",\"showlegend\":true,\"x\":[245.5,246.5,246.5,245.5],\"y\":[-1,-1,-1,-1],\"type\":\"scatter\"},{\"fill\":\"toself\",\"fillcolor\":\"rgba(31, 119, 180, 0.2)\",\"hoverinfo\":\"skip\",\"line\":{\"color\":\"rgba(0,0,0,0)\"},\"name\":\"Range Class 1\",\"showlegend\":true,\"x\":[52,139,176,191,192,196,217,218,242,246,271,276,281,298,333,334,347,354,366,374,391,407,408,421,425,545,563,565,572,595,603,611,675,683,687,696,712,721,721,712,696,687,683,675,611,603,595,572,565,563,545,425,421,408,407,391,374,366,354,347,334,333,298,281,276,271,246,242,218,217,196,192,191,176,139,52],\"y\":[1.706308364868164,-0.6723605394363403,1.9223237037658691,-0.7138022184371948,-0.6539334058761597,-0.7307934165000916,-0.6186510920524597,-0.8582398295402527,2.3740084171295166,1.5553765296936035,-0.7634427547454834,1.9361162185668945,1.8685177564620972,2.620084285736084,1.598246455192566,1.844525933265686,-0.6162558794021606,-0.6545500159263611,-0.7191042900085449,1.4999470710754395,-0.6597909927368164,1.542588710784912,-0.7204772233963013,-1.0030148029327393,1.7348233461380005,-0.9281806945800781,-0.6048283576965332,-0.6962600946426392,1.8709877729415894,1.6443812847137451,-0.4770919680595398,1.6494622230529785,-0.6746145486831665,1.89566969871521,2.0971598625183105,2.3260958194732666,-0.4725557565689087,1.6189687252044678,0.5819575786590576,-1.6928926706314087,1.0268700122833252,0.712243378162384,0.8108540177345276,-1.6676546335220337,0.5826950669288635,-1.7423524856567383,0.564579963684082,0.7105120420455933,-1.5290690660476685,-1.810819149017334,-1.9529352188110352,0.639320969581604,-2.0330841541290283,-1.6594747304916382,0.6818326115608215,-1.631051778793335,0.7121374011039734,-1.5646553039550781,-1.9530563354492188,-1.5633741617202759,0.8587304353713989,0.6350694894790649,1.54646635055542,1.0996710062026978,0.3297436833381653,-1.8363115787506104,0.7221086025238037,1.1907882690429688,-1.887826919555664,-2.064547061920166,-1.713775396347046,-1.7007075548171997,-1.5795139074325562,0.9735859036445618,-1.5211929082870483,0.4886196255683899],\"type\":\"scatter\"},{\"customdata\":[[\"0.48861963\",\"1.7063084\",\"Class 1, Class 3\"],[\"-1.5211929\",\"-0.67236054\",\"None\"],[\"0.9735859\",\"1.9223237\",\"None\"],[\"-1.5795139\",\"-0.7138022\",\"Class 1, Class 5\"],[\"-1.7007076\",\"-0.6539334\",\"None\"],[\"-1.7137754\",\"-0.7307934\",\"None\"],[\"-2.064547\",\"-0.6186511\",\"None\"],[\"-1.8878269\",\"-0.8582398\",\"None\"],[\"1.1907883\",\"2.3740084\",\"Class 1, Class 5\"],[\"0.7221086\",\"1.5553765\",\"Class 1, Class 5, Class 6\"],[\"-1.8363116\",\"-0.76344275\",\"None\"],[\"0.32974368\",\"1.9361162\",\"None\"],[\"1.099671\",\"1.8685178\",\"Class 1, Class 4\"],[\"1.5464664\",\"2.6200843\",\"None\"],[\"0.6350695\",\"1.5982465\",\"None\"],[\"0.85873044\",\"1.8445259\",\"Class 1, Class 4\"],[\"-1.5633742\",\"-0.6162559\",\"None\"],[\"-1.9530563\",\"-0.65455\",\"None\"],[\"-1.5646553\",\"-0.7191043\",\"None\"],[\"0.7121374\",\"1.4999471\",\"None\"],[\"-1.6310518\",\"-0.659791\",\"None\"],[\"0.6818326\",\"1.5425887\",\"Class 1, Class 4\"],[\"-1.6594747\",\"-0.7204772\",\"None\"],[\"-2.0330842\",\"-1.0030148\",\"None\"],[\"0.63932097\",\"1.7348233\",\"None\"],[\"-1.9529352\",\"-0.9281807\",\"None\"],[\"-1.8108191\",\"-0.60482836\",\"Class 1, Class 4\"],[\"-1.5290691\",\"-0.6962601\",\"Class 1, Class 4\"],[\"0.71051204\",\"1.8709878\",\"None\"],[\"0.56457996\",\"1.6443813\",\"None\"],[\"-1.7423525\",\"-0.47709197\",\"None\"],[\"0.58269507\",\"1.6494622\",\"None\"],[\"-1.6676546\",\"-0.67461455\",\"None\"],[\"0.810854\",\"1.8956697\",\"None\"],[\"0.7122434\",\"2.0971599\",\"None\"],[\"1.02687\",\"2.3260958\",\"Class 1, Class 3\"],[\"-1.6928927\",\"-0.47255576\",\"None\"],[\"0.5819576\",\"1.6189687\",\"None\"]],\"hovertemplate\":\"Neuron: %{x}\\u003cbr\\u003eMean: %{y:.3f}\\u003cbr\\u003eRange: %{customdata[0]:.3f} to %{customdata[1]:.3f}\\u003cbr\\u003eClass: 1\\u003cbr\\u003eOverlapping Classes: %{customdata[2]}\",\"marker\":{\"color\":\"rgb(31, 119, 180)\",\"size\":6,\"symbol\":\"circle\"},\"mode\":\"markers\",\"name\":\"Mean Class 1\",\"x\":[52,139,176,191,192,196,217,218,242,246,271,276,281,298,333,334,347,354,366,374,391,407,408,421,425,545,563,565,572,595,603,611,675,683,687,696,712,721],\"y\":[1.0974639654159546,-1.0967767238616943,1.447954773902893,-1.1466580629348755,-1.1773204803466797,-1.2222844362258911,-1.3415991067886353,-1.3730334043502808,1.7823983430862427,1.1387425661087036,-1.2998771667480469,1.1329299211502075,1.4840943813323975,2.083275318145752,1.1166579723358154,1.3516281843185425,-1.0898150205612183,-1.3038032054901123,-1.1418797969818115,1.1060422658920288,-1.1454213857650757,1.1122106313705444,-1.1899759769439697,-1.5180494785308838,1.1870721578598022,-1.4405579566955566,-1.2078237533569336,-1.1126645803451538,1.2907499074935913,1.1044806241989136,-1.1097222566604614,1.1160786151885986,-1.1711345911026,1.3532618284225464,1.404701590538025,1.676482915878296,-1.0827242136001587,1.1004631519317627],\"type\":\"scatter\"},{\"fill\":\"toself\",\"fillcolor\":\"rgba(255, 127, 14, 0.2)\",\"hoverinfo\":\"skip\",\"line\":{\"color\":\"rgba(0,0,0,0)\"},\"name\":\"Range Class 2\",\"showlegend\":true,\"x\":[45,48,51,67,72,89,90,133,237,244,250,319,393,409,424,468,478,484,513,557,564,570,594,609,622,623,629,653,661,688,692,712,736,737,739,743,750,762,762,750,743,739,737,736,712,692,688,661,653,629,623,622,609,594,570,564,557,513,484,478,468,424,409,393,319,250,244,237,133,90,89,72,67,51,48,45],\"y\":[-0.8281523585319519,-0.8763608336448669,-0.6533904075622559,-0.6863129734992981,1.7291041612625122,2.474123954772949,1.737103819847107,1.7623872756958008,-0.36729055643081665,-0.7759752869606018,-0.5610564947128296,1.787961721420288,1.91654372215271,1.5987269878387451,-0.6903496384620667,2.1369292736053467,2.174194574356079,1.5583059787750244,-0.7520260810852051,1.7419646978378296,-0.6474982500076294,-0.5964872241020203,-0.5203254818916321,2.690236806869507,-0.7376977205276489,-0.576948344707489,-0.9481109976768494,-0.701015055179596,-0.49672985076904297,1.6515705585479736,1.6883628368377686,1.8262593746185303,-0.8239738941192627,-0.4344555139541626,1.8219032287597656,-0.154491126537323,1.7971949577331543,1.876536250114441,0.4993346929550171,0.49560827016830444,-2.0604231357574463,0.6788120865821838,-1.7063299417495728,-2.0625061988830566,0.6358392238616943,0.46189427375793457,0.7966268062591553,-1.799959421157837,-1.9339933395385742,-2.3436574935913086,-1.5621466636657715,-2.0224995613098145,0.9929781556129456,-1.6755995750427246,-1.7214326858520508,-1.6412752866744995,0.6636446714401245,-2.132652759552002,0.5952229499816895,0.8424435257911682,-0.16398072242736816,-1.6919951438903809,0.5437113642692566,0.6782799363136292,0.5845145583152771,-1.5375155210494995,-1.8570005893707275,-2.1775927543640137,0.5109720230102539,0.5727075338363647,0.5047076940536499,0.7058302164077759,-1.8655340671539307,-1.7046277523040771,-1.870365858078003,-2.106041669845581],\"type\":\"scatter\"},{\"customdata\":[[\"-2.1060417\",\"-0.82815236\",\"None\"],[\"-1.8703659\",\"-0.87636083\",\"Class 2, Class 3\"],[\"-1.7046278\",\"-0.6533904\",\"None\"],[\"-1.8655341\",\"-0.686313\",\"None\"],[\"0.7058302\",\"1.7291042\",\"None\"],[\"0.5047077\",\"2.474124\",\"None\"],[\"0.57270753\",\"1.7371038\",\"None\"],[\"0.510972\",\"1.7623873\",\"None\"],[\"-2.1775928\",\"-0.36729056\",\"None\"],[\"-1.8570006\",\"-0.7759753\",\"None\"],[\"-1.5375155\",\"-0.5610565\",\"Class 2, Class 3\"],[\"0.58451456\",\"1.7879617\",\"None\"],[\"0.67827994\",\"1.9165437\",\"None\"],[\"0.54371136\",\"1.598727\",\"None\"],[\"-1.6919951\",\"-0.69034964\",\"None\"],[\"-0.16398072\",\"2.1369293\",\"None\"],[\"0.8424435\",\"2.1741946\",\"None\"],[\"0.59522295\",\"1.558306\",\"None\"],[\"-2.1326528\",\"-0.7520261\",\"None\"],[\"0.6636447\",\"1.7419647\",\"Class 2, Class 5\"],[\"-1.6412753\",\"-0.64749825\",\"None\"],[\"-1.7214327\",\"-0.5964872\",\"None\"],[\"-1.6755996\",\"-0.5203255\",\"Class 2, Class 3\"],[\"0.99297816\",\"2.6902368\",\"Class 2, Class 3\"],[\"-2.0224996\",\"-0.7376977\",\"None\"],[\"-1.5621467\",\"-0.57694834\",\"None\"],[\"-2.3436575\",\"-0.948111\",\"None\"],[\"-1.9339933\",\"-0.70101506\",\"None\"],[\"-1.7999594\",\"-0.49672985\",\"None\"],[\"0.7966268\",\"1.6515706\",\"None\"],[\"0.46189427\",\"1.6883628\",\"None\"],[\"0.6358392\",\"1.8262594\",\"None\"],[\"-2.0625062\",\"-0.8239739\",\"None\"],[\"-1.70633\",\"-0.4344555\",\"Class 2, Class 3\"],[\"0.6788121\",\"1.8219032\",\"None\"],[\"-2.0604231\",\"-0.15449113\",\"None\"],[\"0.49560827\",\"1.797195\",\"None\"],[\"0.4993347\",\"1.8765363\",\"None\"]],\"hovertemplate\":\"Neuron: %{x}\\u003cbr\\u003eMean: %{y:.3f}\\u003cbr\\u003eRange: %{customdata[0]:.3f} to %{customdata[1]:.3f}\\u003cbr\\u003eClass: 2\\u003cbr\\u003eOverlapping Classes: %{customdata[2]}\",\"marker\":{\"color\":\"rgb(255, 127, 14)\",\"size\":6,\"symbol\":\"circle\"},\"mode\":\"markers\",\"name\":\"Mean Class 2\",\"x\":[45,48,51,67,72,89,90,133,237,244,250,319,393,409,424,468,478,484,513,557,564,570,594,609,622,623,629,653,661,688,692,712,736,737,739,743,750,762],\"y\":[-1.4670970439910889,-1.3733633756637573,-1.1790090799331665,-1.275923490524292,1.217467188835144,1.4894157648086548,1.1549056768417358,1.1366796493530273,-1.2724416255950928,-1.3164879083633423,-1.0492860078811646,1.186238169670105,1.2974117994308472,1.0712192058563232,-1.1911723613739014,0.9864742755889893,1.5083190202713013,1.076764464378357,-1.4423394203186035,1.202804684638977,-1.1443867683410645,-1.158959984779358,-1.097962498664856,1.8416074514389038,-1.380098581314087,-1.0695475339889526,-1.6458842754364014,-1.3175041675567627,-1.14834463596344,1.2240986824035645,1.0751285552978516,1.2310492992401123,-1.4432400465011597,-1.0703927278518677,1.2503576278686523,-1.107457160949707,1.1464016437530518,1.187935471534729],\"type\":\"scatter\"},{\"fill\":\"toself\",\"fillcolor\":\"rgba(44, 160, 44, 0.2)\",\"hoverinfo\":\"skip\",\"line\":{\"color\":\"rgba(0,0,0,0)\"},\"name\":\"Range Class 3\",\"showlegend\":true,\"x\":[4,48,50,52,69,117,123,204,250,258,314,342,359,362,379,380,395,403,436,446,497,507,577,590,594,605,609,615,634,646,665,677,687,690,696,731,737,759,759,737,731,696,690,687,677,665,646,634,615,609,605,594,590,577,507,497,446,436,403,395,380,379,362,359,342,314,258,250,204,123,117,69,52,50,48,4],\"y\":[-0.34585386514663696,-0.5295396447181702,1.886337161064148,1.9199352264404297,-0.43150973320007324,-0.776447057723999,-0.5196609497070312,2.1171765327453613,-0.7512431144714355,1.6443109512329102,1.6911559104919434,1.7728424072265625,2.125070571899414,1.698624610900879,1.983351707458496,1.3837060928344727,-0.4957340359687805,-0.6134672164916992,-0.41801172494888306,1.6154648065567017,1.626584768295288,-0.7708148956298828,-0.5484346747398376,-0.8936257362365723,-0.43567508459091187,-0.2740645408630371,2.3859450817108154,-0.59078449010849,-0.6604297161102295,-0.7517518401145935,-0.8080345392227173,1.6031606197357178,-0.5477389097213745,-0.5362178087234497,2.422008514404297,1.9085938930511475,-0.6265040040016174,-0.45278167724609375,-1.682234287261963,-1.9732942581176758,0.6715251803398132,0.8268359303474426,-1.8247426748275757,-1.7531365156173706,0.5298557281494141,-2.1705942153930664,-2.060694456100464,-1.6014273166656494,-1.6159467697143555,0.1702418327331543,-1.8581292629241943,-1.9634675979614258,-2.0561320781707764,-1.8672480583190918,-2.042369842529297,0.5459144711494446,0.6408628225326538,-1.8805797100067139,-1.8496532440185547,-1.6463334560394287,0.7383875846862793,0.5885297656059265,0.45445680618286133,0.22353112697601318,0.5224911570549011,0.6794245839118958,0.5796666145324707,-1.6343328952789307,0.5423116087913513,-2.395419120788574,-2.193040132522583,-1.7519299983978271,0.18343502283096313,0.5886217355728149,-1.6907551288604736,-1.8843626976013184],\"type\":\"scatter\"},{\"customdata\":[[\"-1.8843627\",\"-0.34585387\",\"None\"],[\"-1.6907551\",\"-0.52953964\",\"Class 2, Class 3\"],[\"0.58862174\",\"1.8863372\",\"None\"],[\"0.18343502\",\"1.9199352\",\"Class 1, Class 3\"],[\"-1.75193\",\"-0.43150973\",\"None\"],[\"-2.1930401\",\"-0.77644706\",\"None\"],[\"-2.3954191\",\"-0.51966095\",\"None\"],[\"0.5423116\",\"2.1171765\",\"None\"],[\"-1.6343329\",\"-0.7512431\",\"Class 2, Class 3\"],[\"0.5796666\",\"1.644311\",\"None\"],[\"0.6794246\",\"1.6911559\",\"None\"],[\"0.52249116\",\"1.7728424\",\"None\"],[\"0.22353113\",\"2.1250706\",\"None\"],[\"0.4544568\",\"1.6986246\",\"None\"],[\"0.58852977\",\"1.9833517\",\"None\"],[\"0.7383876\",\"1.3837061\",\"None\"],[\"-1.6463335\",\"-0.49573404\",\"None\"],[\"-1.8496532\",\"-0.6134672\",\"None\"],[\"-1.8805797\",\"-0.41801172\",\"None\"],[\"0.6408628\",\"1.6154648\",\"None\"],[\"0.5459145\",\"1.6265848\",\"None\"],[\"-2.0423698\",\"-0.7708149\",\"None\"],[\"-1.867248\",\"-0.5484347\",\"None\"],[\"-2.056132\",\"-0.89362574\",\"None\"],[\"-1.9634676\",\"-0.43567508\",\"Class 2, Class 3\"],[\"-1.8581293\",\"-0.27406454\",\"None\"],[\"0.17024183\",\"2.385945\",\"Class 2, Class 3\"],[\"-1.6159468\",\"-0.5907845\",\"Class 3, Class 5\"],[\"-1.6014273\",\"-0.6604297\",\"None\"],[\"-2.0606945\",\"-0.75175184\",\"None\"],[\"-2.1705942\",\"-0.80803454\",\"None\"],[\"0.5298557\",\"1.6031606\",\"None\"],[\"-1.7531365\",\"-0.5477389\",\"None\"],[\"-1.8247427\",\"-0.5362178\",\"None\"],[\"0.82683593\",\"2.4220085\",\"Class 1, Class 3\"],[\"0.6715252\",\"1.9085939\",\"Class 3, Class 4\"],[\"-1.9732943\",\"-0.626504\",\"Class 2, Class 3\"],[\"-1.6822343\",\"-0.45278168\",\"None\"]],\"hovertemplate\":\"Neuron: %{x}\\u003cbr\\u003eMean: %{y:.3f}\\u003cbr\\u003eRange: %{customdata[0]:.3f} to %{customdata[1]:.3f}\\u003cbr\\u003eClass: 3\\u003cbr\\u003eOverlapping Classes: %{customdata[2]}\",\"marker\":{\"color\":\"rgb(44, 160, 44)\",\"size\":6,\"symbol\":\"circle\"},\"mode\":\"markers\",\"name\":\"Mean Class 3\",\"x\":[4,48,50,52,69,117,123,204,250,258,314,342,359,362,379,380,395,403,436,446,497,507,577,590,594,605,609,615,634,646,665,677,687,690,696,731,737,759],\"y\":[-1.1151082515716553,-1.1101473569869995,1.2374794483184814,1.051685094833374,-1.0917198657989502,-1.484743595123291,-1.4575400352478027,1.3297441005706787,-1.192788004875183,1.1119887828826904,1.1852902173995972,1.1476668119430542,1.1743007898330688,1.0765407085418701,1.2859407663345337,1.061046838760376,-1.0710337162017822,-1.231560230255127,-1.149295687675476,1.1281638145446777,1.086249589920044,-1.4065923690795898,-1.207841396331787,-1.4748789072036743,-1.1995713710784912,-1.0660969018936157,1.2780934572219849,-1.1033656597137451,-1.1309285163879395,-1.406223177909851,-1.489314317703247,1.066508173942566,-1.1504377126693726,-1.1804802417755127,1.6244221925735474,1.2900595664978027,-1.2998991012573242,-1.0675079822540283],\"type\":\"scatter\"},{\"fill\":\"toself\",\"fillcolor\":\"rgba(214, 39, 40, 0.2)\",\"hoverinfo\":\"skip\",\"line\":{\"color\":\"rgba(0,0,0,0)\"},\"name\":\"Range Class 4\",\"showlegend\":true,\"x\":[0,20,23,67,113,132,162,164,172,195,204,217,222,241,276,281,289,327,334,339,349,364,404,407,456,461,487,503,523,563,565,577,602,689,731,733,746,764,764,746,733,731,689,602,577,565,563,523,503,487,461,456,407,404,364,349,339,334,327,289,281,276,241,222,217,204,195,172,164,162,132,113,67,23,20,0],\"y\":[1.875962257385254,1.766748309135437,-0.48663318157196045,2.104379653930664,-0.8418132066726685,2.129092216491699,-0.5972853899002075,1.8795236349105835,1.8111896514892578,-1.4431006908416748,-0.46392822265625,2.2663018703460693,-0.7937585115432739,1.9991514682769775,-0.5751298069953918,1.6698191165924072,2.129519462585449,1.8936666250228882,1.8750224113464355,-0.4617545008659363,-0.7781442403793335,2.058945417404175,1.8653326034545898,1.5850110054016113,2.4045534133911133,-0.9028122425079346,1.892142415046692,-0.4990536570549011,-0.7025917172431946,-1.502522587776184,-0.8448504209518433,1.8204704523086548,1.8482346534729004,1.766096591949463,1.6871397495269775,-0.7335924506187439,-0.4939589500427246,1.9173481464385986,0.4313170313835144,-1.746053695678711,-1.8427813053131104,0.6433625221252441,0.5990613102912903,0.37031394243240356,0.6202884912490845,-1.9482377767562866,-2.615542411804199,-1.7775545120239258,-1.810500144958496,0.6187974214553833,-1.8853716850280762,1.109182596206665,0.5938863158226013,0.8357217311859131,0.7822310924530029,-1.959290623664856,-1.9361529350280762,0.5721087455749512,0.8494764566421509,0.7490230202674866,0.5613837242126465,-2.3870697021484375,0.5068325996398926,-1.751876711845398,0.27683037519454956,-1.9379549026489258,-2.466938018798828,0.3364419937133789,0.44104182720184326,-1.6793922185897827,1.0935181379318237,-1.8878237009048462,0.7883228659629822,-1.832269310951233,0.5277050733566284,0.5833349227905273],\"type\":\"scatter\"},{\"customdata\":[[\"0.5833349\",\"1.8759623\",\"None\"],[\"0.5277051\",\"1.7667483\",\"None\"],[\"-1.8322693\",\"-0.48663318\",\"None\"],[\"0.78832287\",\"2.1043797\",\"None\"],[\"-1.8878237\",\"-0.8418132\",\"Class 4, Class 5\"],[\"1.0935181\",\"2.1290922\",\"None\"],[\"-1.6793922\",\"-0.5972854\",\"None\"],[\"0.44104183\",\"1.8795236\",\"None\"],[\"0.336442\",\"1.8111897\",\"None\"],[\"-2.466938\",\"-1.4431007\",\"None\"],[\"-1.9379549\",\"-0.46392822\",\"None\"],[\"0.27683038\",\"2.2663019\",\"None\"],[\"-1.7518767\",\"-0.7937585\",\"Class 4, Class 5\"],[\"0.5068326\",\"1.9991515\",\"None\"],[\"-2.3870697\",\"-0.5751298\",\"None\"],[\"0.5613837\",\"1.6698191\",\"Class 1, Class 4\"],[\"0.749023\",\"2.1295195\",\"None\"],[\"0.84947646\",\"1.8936666\",\"Class 4, Class 6\"],[\"0.57210875\",\"1.8750224\",\"Class 1, Class 4\"],[\"-1.9361529\",\"-0.4617545\",\"None\"],[\"-1.9592906\",\"-0.77814424\",\"None\"],[\"0.7822311\",\"2.0589454\",\"None\"],[\"0.83572173\",\"1.8653326\",\"None\"],[\"0.5938863\",\"1.585011\",\"Class 1, Class 4\"],[\"1.1091826\",\"2.4045534\",\"None\"],[\"-1.8853717\",\"-0.90281224\",\"None\"],[\"0.6187974\",\"1.8921424\",\"None\"],[\"-1.8105001\",\"-0.49905366\",\"None\"],[\"-1.7775545\",\"-0.7025917\",\"None\"],[\"-2.6155424\",\"-1.5025226\",\"Class 1, Class 4\"],[\"-1.9482378\",\"-0.8448504\",\"Class 1, Class 4\"],[\"0.6202885\",\"1.8204705\",\"None\"],[\"0.37031394\",\"1.8482347\",\"None\"],[\"0.5990613\",\"1.7660966\",\"None\"],[\"0.6433625\",\"1.6871397\",\"Class 3, Class 4\"],[\"-1.8427813\",\"-0.73359245\",\"None\"],[\"-1.7460537\",\"-0.49395895\",\"None\"],[\"0.43131703\",\"1.9173481\",\"None\"]],\"hovertemplate\":\"Neuron: %{x}\\u003cbr\\u003eMean: %{y:.3f}\\u003cbr\\u003eRange: %{customdata[0]:.3f} to %{customdata[1]:.3f}\\u003cbr\\u003eClass: 4\\u003cbr\\u003eOverlapping Classes: %{customdata[2]}\",\"marker\":{\"color\":\"rgb(214, 39, 40)\",\"size\":6,\"symbol\":\"circle\"},\"mode\":\"markers\",\"name\":\"Mean Class 4\",\"x\":[0,20,23,67,113,132,162,164,172,195,204,217,222,241,276,281,289,327,334,339,349,364,404,407,456,461,487,503,523,563,565,577,602,689,731,733,746,764],\"y\":[1.2296485900878906,1.1472266912460327,-1.1594512462615967,1.4463512897491455,-1.3648184537887573,1.6113052368164062,-1.1383388042449951,1.1602827310562134,1.0738158226013184,-1.9550193548202515,-1.200941562652588,1.2715661525726318,-1.272817611694336,1.252992033958435,-1.4810997247695923,1.1156014204025269,1.4392712116241455,1.3715715408325195,1.2235655784606934,-1.1989537477493286,-1.3687174320220947,1.4205882549285889,1.3505271673202515,1.0894486904144287,1.7568680047988892,-1.3940919637680054,1.2554699182510376,-1.154776930809021,-1.2400730848312378,-2.059032440185547,-1.396544098854065,1.2203794717788696,1.1092742681503296,1.1825789213180542,1.1652511358261108,-1.2881869077682495,-1.1200063228607178,1.174332618713379],\"type\":\"scatter\"},{\"fill\":\"toself\",\"fillcolor\":\"rgba(148, 103, 189, 0.2)\",\"hoverinfo\":\"skip\",\"line\":{\"color\":\"rgba(0,0,0,0)\"},\"name\":\"Range Class 5\",\"showlegend\":true,\"x\":[17,24,42,54,67,113,124,179,191,201,222,242,246,284,297,303,309,386,388,395,409,411,475,492,516,536,538,549,557,566,569,615,638,647,652,700,706,741,741,706,700,652,647,638,615,569,566,557,549,538,536,516,492,475,411,409,395,388,386,309,303,297,284,246,242,222,201,191,179,124,113,67,54,42,24,17],\"y\":[-0.8901490569114685,1.8860028982162476,-0.4590054154396057,-0.7859441637992859,2.0008091926574707,-0.4128881096839905,2.3076915740966797,-0.4791525602340698,-0.37850654125213623,-0.5265802145004272,-0.40336644649505615,1.8944164514541626,1.6167856454849243,1.5562089681625366,1.6781926155090332,1.726960301399231,-0.8702054023742676,1.892265796661377,-0.6604462265968323,1.7652685642242432,-0.5476385951042175,-0.5419919490814209,1.590954065322876,1.8478504419326782,-0.6802339553833008,2.080270290374756,-0.3810306191444397,1.7055094242095947,1.6871883869171143,1.7934041023254395,-0.49090754985809326,-0.9482506513595581,2.493652582168579,-0.5116012096405029,-0.44716906547546387,1.5835249423980713,1.732554316520691,-0.5069296956062317,-1.8056118488311768,0.512553334236145,0.4541195034980774,-1.6090443134307861,-1.7513363361358643,1.1652641296386719,-2.9964966773986816,-1.6373769044876099,0.44964009523391724,0.4284029006958008,0.3692682385444641,-1.6222174167633057,0.5279804468154907,-1.4784529209136963,0.5083285570144653,0.5735540390014648,-1.8915374279022217,-1.883962631225586,0.625575840473175,-2.328885793685913,0.8366448879241943,-2.37497615814209,0.5724900960922241,0.5594404339790344,0.683172345161438,0.7211405038833618,0.3303147554397583,-1.6325215101242065,-1.797078013420105,-1.7597132921218872,-1.9153510332107544,0.2693803310394287,-1.9035112857818604,0.14801645278930664,-1.9046168327331543,-1.7615649700164795,0.9491907358169556,-2.005723237991333],\"type\":\"scatter\"},{\"customdata\":[[\"-2.0057232\",\"-0.89014906\",\"None\"],[\"0.94919074\",\"1.8860029\",\"Class 5, Class 6\"],[\"-1.761565\",\"-0.45900542\",\"None\"],[\"-1.9046168\",\"-0.78594416\",\"None\"],[\"0.14801645\",\"2.0008092\",\"None\"],[\"-1.9035113\",\"-0.4128881\",\"Class 4, Class 5\"],[\"0.26938033\",\"2.3076916\",\"Class 5, Class 6\"],[\"-1.915351\",\"-0.47915256\",\"Class 5, Class 6\"],[\"-1.7597133\",\"-0.37850654\",\"Class 1, Class 5\"],[\"-1.797078\",\"-0.5265802\",\"None\"],[\"-1.6325215\",\"-0.40336645\",\"Class 4, Class 5\"],[\"0.33031476\",\"1.8944165\",\"Class 1, Class 5\"],[\"0.7211405\",\"1.6167856\",\"Class 1, Class 5, Class 6\"],[\"0.68317235\",\"1.556209\",\"None\"],[\"0.55944043\",\"1.6781926\",\"Class 5, Class 6\"],[\"0.5724901\",\"1.7269603\",\"None\"],[\"-2.3749762\",\"-0.8702054\",\"None\"],[\"0.8366449\",\"1.8922658\",\"Class 5, Class 6\"],[\"-2.3288858\",\"-0.6604462\",\"None\"],[\"0.62557584\",\"1.7652686\",\"None\"],[\"-1.8839626\",\"-0.5476386\",\"None\"],[\"-1.8915374\",\"-0.54199195\",\"None\"],[\"0.57355404\",\"1.5909541\",\"Class 5, Class 6\"],[\"0.50832856\",\"1.8478504\",\"Class 5, Class 6\"],[\"-1.4784529\",\"-0.68023396\",\"None\"],[\"0.52798045\",\"2.0802703\",\"None\"],[\"-1.6222174\",\"-0.38103062\",\"None\"],[\"0.36926824\",\"1.7055094\",\"Class 5, Class 6\"],[\"0.4284029\",\"1.6871884\",\"Class 2, Class 5\"],[\"0.4496401\",\"1.7934041\",\"None\"],[\"-1.6373769\",\"-0.49090755\",\"None\"],[\"-2.9964967\",\"-0.94825065\",\"Class 3, Class 5\"],[\"1.1652641\",\"2.4936526\",\"None\"],[\"-1.7513363\",\"-0.5116012\",\"None\"],[\"-1.6090443\",\"-0.44716907\",\"None\"],[\"0.4541195\",\"1.583525\",\"None\"],[\"0.51255333\",\"1.7325543\",\"None\"],[\"-1.8056118\",\"-0.5069297\",\"None\"]],\"hovertemplate\":\"Neuron: %{x}\\u003cbr\\u003eMean: %{y:.3f}\\u003cbr\\u003eRange: %{customdata[0]:.3f} to %{customdata[1]:.3f}\\u003cbr\\u003eClass: 5\\u003cbr\\u003eOverlapping Classes: %{customdata[2]}\",\"marker\":{\"color\":\"rgb(148, 103, 189)\",\"size\":6,\"symbol\":\"circle\"},\"mode\":\"markers\",\"name\":\"Mean Class 5\",\"x\":[17,24,42,54,67,113,124,179,191,201,222,242,246,284,297,303,309,386,388,395,409,411,475,492,516,536,538,549,557,566,569,615,638,647,652,700,706,741],\"y\":[-1.4479361772537231,1.4175968170166016,-1.1102851629257202,-1.3452805280685425,1.0744128227233887,-1.158199667930603,1.2885359525680542,-1.197251796722412,-1.0691099166870117,-1.1618291139602661,-1.0179439783096313,1.1123656034469604,1.168963074684143,1.1196906566619873,1.1188164949417114,1.1497251987457275,-1.6225907802581787,1.3644553422927856,-1.4946659803390503,1.1954221725463867,-1.2158006429672241,-1.2167646884918213,1.0822540521621704,1.1780894994735718,-1.0793434381484985,1.304125428199768,-1.0016239881515503,1.037388801574707,1.0577956438064575,1.121522068977356,-1.0641422271728516,-1.9723737239837646,1.8294583559036255,-1.1314687728881836,-1.028106689453125,1.018822193145752,1.122553825378418,-1.1562707424163818],\"type\":\"scatter\"},{\"fill\":\"toself\",\"fillcolor\":\"rgba(140, 86, 75, 0.2)\",\"hoverinfo\":\"skip\",\"line\":{\"color\":\"rgba(0,0,0,0)\"},\"name\":\"Range Class 6\",\"showlegend\":true,\"x\":[7,24,30,36,41,80,85,100,124,129,149,175,179,246,255,297,298,327,353,355,364,386,408,462,475,492,534,542,549,562,597,598,617,619,640,718,754,758,758,754,718,640,619,617,598,597,562,549,542,534,492,475,462,408,386,364,355,353,327,298,297,255,246,179,175,149,129,124,100,85,80,41,36,30,24,7],\"y\":[1.6749871969223022,1.9171690940856934,-0.7287692427635193,-0.41621094942092896,-0.8176954984664917,-0.5633209943771362,-0.4139469265937805,-0.6732411980628967,2.3608155250549316,-0.6088117361068726,1.5967583656311035,-0.5758519172668457,-0.21355289220809937,1.53311026096344,-0.5206273198127747,2.56669545173645,-0.37814557552337646,2.0156450271606445,-0.2503923773765564,1.4343039989471436,-0.340440034866333,1.6642487049102783,1.822709083557129,-1.1744067668914795,1.6283825635910034,1.7565759420394897,1.6646754741668701,-0.43227893114089966,1.5723093748092651,-0.5089627504348755,1.799936056137085,-0.5310292840003967,1.4372469186782837,-0.6588674783706665,-1.1870546340942383,-0.5591574907302856,-0.5610038638114929,-0.6408697366714478,-1.6753135919570923,-1.4851171970367432,-1.920852780342102,-2.1958398818969727,-1.7300575971603394,0.6163963079452515,-1.945925235748291,0.7710351943969727,-1.5557607412338257,0.5460251569747925,-1.6313319206237793,0.8710184097290039,0.6504443883895874,0.6543351411819458,-2.2522106170654297,0.1592898964881897,0.3804909586906433,-2.031064033508301,0.6522855758666992,-2.0783941745758057,0.27415788173675537,-1.9355942010879517,1.1515469551086426,-1.9420843124389648,0.841265082359314,-1.9030530452728271,-1.6349704265594482,0.7536336779594421,-1.4710360765457153,1.122293472290039,-1.713191270828247,-1.892657995223999,-1.5542453527450562,-1.8512386083602905,-2.1389551162719727,-2.3767142295837402,0.8722490668296814,0.7091361284255981],\"type\":\"scatter\"},{\"customdata\":[[\"0.7091361\",\"1.6749872\",\"None\"],[\"0.87224907\",\"1.9171691\",\"Class 5, Class 6\"],[\"-2.3767142\",\"-0.72876924\",\"None\"],[\"-2.138955\",\"-0.41621095\",\"None\"],[\"-1.8512386\",\"-0.8176955\",\"None\"],[\"-1.5542454\",\"-0.563321\",\"None\"],[\"-1.892658\",\"-0.41394693\",\"None\"],[\"-1.7131913\",\"-0.6732412\",\"None\"],[\"1.1222935\",\"2.3608155\",\"Class 5, Class 6\"],[\"-1.4710361\",\"-0.60881174\",\"None\"],[\"0.7536337\",\"1.5967584\",\"None\"],[\"-1.6349704\",\"-0.5758519\",\"None\"],[\"-1.903053\",\"-0.21355289\",\"Class 5, Class 6\"],[\"0.8412651\",\"1.5331103\",\"Class 1, Class 5, Class 6\"],[\"-1.9420843\",\"-0.5206273\",\"None\"],[\"1.151547\",\"2.5666955\",\"Class 5, Class 6\"],[\"-1.9355942\",\"-0.37814558\",\"None\"],[\"0.27415788\",\"2.015645\",\"Class 4, Class 6\"],[\"-2.0783942\",\"-0.25039238\",\"None\"],[\"0.6522856\",\"1.434304\",\"None\"],[\"-2.031064\",\"-0.34044003\",\"None\"],[\"0.38049096\",\"1.6642487\",\"Class 5, Class 6\"],[\"0.1592899\",\"1.8227091\",\"None\"],[\"-2.2522106\",\"-1.1744068\",\"None\"],[\"0.65433514\",\"1.6283826\",\"Class 5, Class 6\"],[\"0.6504444\",\"1.756576\",\"Class 5, Class 6\"],[\"0.8710184\",\"1.6646755\",\"None\"],[\"-1.6313319\",\"-0.43227893\",\"None\"],[\"0.54602516\",\"1.5723094\",\"Class 5, Class 6\"],[\"-1.5557607\",\"-0.50896275\",\"None\"],[\"0.7710352\",\"1.799936\",\"None\"],[\"-1.9459252\",\"-0.5310293\",\"None\"],[\"0.6163963\",\"1.4372469\",\"None\"],[\"-1.7300576\",\"-0.6588675\",\"None\"],[\"-2.19584\",\"-1.1870546\",\"None\"],[\"-1.9208528\",\"-0.5591575\",\"None\"],[\"-1.4851172\",\"-0.56100386\",\"None\"],[\"-1.6753136\",\"-0.64086974\",\"None\"]],\"hovertemplate\":\"Neuron: %{x}\\u003cbr\\u003eMean: %{y:.3f}\\u003cbr\\u003eRange: %{customdata[0]:.3f} to %{customdata[1]:.3f}\\u003cbr\\u003eClass: 6\\u003cbr\\u003eOverlapping Classes: %{customdata[2]}\",\"marker\":{\"color\":\"rgb(140, 86, 75)\",\"size\":6,\"symbol\":\"circle\"},\"mode\":\"markers\",\"name\":\"Mean Class 6\",\"x\":[7,24,30,36,41,80,85,100,124,129,149,175,179,246,255,297,298,327,353,355,364,386,408,462,475,492,534,542,549,562,597,598,617,619,640,718,754,758],\"y\":[1.1920616626739502,1.3947091102600098,-1.5527417659759521,-1.2775830030441284,-1.3344670534133911,-1.0587831735610962,-1.1533024311065674,-1.1932162046432495,1.7415544986724854,-1.039923906326294,1.1751960515975952,-1.105411171913147,-1.0583029985427856,1.187187671661377,-1.2313557863235474,1.8591212034225464,-1.156869888305664,1.1449013948440552,-1.1643933057785034,1.0432947874069214,-1.185752034187317,1.0223698616027832,0.9909994602203369,-1.7133086919784546,1.1413588523864746,1.2035101652145386,1.267846941947937,-1.031805396080017,1.0591672658920288,-1.0323617458343506,1.2854856252670288,-1.2384772300720215,1.0268216133117676,-1.194462537765503,-1.6914472579956055,-1.2400051355361938,-1.0230605602264404,-1.15809166431427],\"type\":\"scatter\"}],                        {\"template\":{\"data\":{\"histogram2dcontour\":[{\"type\":\"histogram2dcontour\",\"colorbar\":{\"outlinewidth\":0,\"ticks\":\"\"},\"colorscale\":[[0.0,\"#0d0887\"],[0.1111111111111111,\"#46039f\"],[0.2222222222222222,\"#7201a8\"],[0.3333333333333333,\"#9c179e\"],[0.4444444444444444,\"#bd3786\"],[0.5555555555555556,\"#d8576b\"],[0.6666666666666666,\"#ed7953\"],[0.7777777777777778,\"#fb9f3a\"],[0.8888888888888888,\"#fdca26\"],[1.0,\"#f0f921\"]]}],\"choropleth\":[{\"type\":\"choropleth\",\"colorbar\":{\"outlinewidth\":0,\"ticks\":\"\"}}],\"histogram2d\":[{\"type\":\"histogram2d\",\"colorbar\":{\"outlinewidth\":0,\"ticks\":\"\"},\"colorscale\":[[0.0,\"#0d0887\"],[0.1111111111111111,\"#46039f\"],[0.2222222222222222,\"#7201a8\"],[0.3333333333333333,\"#9c179e\"],[0.4444444444444444,\"#bd3786\"],[0.5555555555555556,\"#d8576b\"],[0.6666666666666666,\"#ed7953\"],[0.7777777777777778,\"#fb9f3a\"],[0.8888888888888888,\"#fdca26\"],[1.0,\"#f0f921\"]]}],\"heatmap\":[{\"type\":\"heatmap\",\"colorbar\":{\"outlinewidth\":0,\"ticks\":\"\"},\"colorscale\":[[0.0,\"#0d0887\"],[0.1111111111111111,\"#46039f\"],[0.2222222222222222,\"#7201a8\"],[0.3333333333333333,\"#9c179e\"],[0.4444444444444444,\"#bd3786\"],[0.5555555555555556,\"#d8576b\"],[0.6666666666666666,\"#ed7953\"],[0.7777777777777778,\"#fb9f3a\"],[0.8888888888888888,\"#fdca26\"],[1.0,\"#f0f921\"]]}],\"heatmapgl\":[{\"type\":\"heatmapgl\",\"colorbar\":{\"outlinewidth\":0,\"ticks\":\"\"},\"colorscale\":[[0.0,\"#0d0887\"],[0.1111111111111111,\"#46039f\"],[0.2222222222222222,\"#7201a8\"],[0.3333333333333333,\"#9c179e\"],[0.4444444444444444,\"#bd3786\"],[0.5555555555555556,\"#d8576b\"],[0.6666666666666666,\"#ed7953\"],[0.7777777777777778,\"#fb9f3a\"],[0.8888888888888888,\"#fdca26\"],[1.0,\"#f0f921\"]]}],\"contourcarpet\":[{\"type\":\"contourcarpet\",\"colorbar\":{\"outlinewidth\":0,\"ticks\":\"\"}}],\"contour\":[{\"type\":\"contour\",\"colorbar\":{\"outlinewidth\":0,\"ticks\":\"\"},\"colorscale\":[[0.0,\"#0d0887\"],[0.1111111111111111,\"#46039f\"],[0.2222222222222222,\"#7201a8\"],[0.3333333333333333,\"#9c179e\"],[0.4444444444444444,\"#bd3786\"],[0.5555555555555556,\"#d8576b\"],[0.6666666666666666,\"#ed7953\"],[0.7777777777777778,\"#fb9f3a\"],[0.8888888888888888,\"#fdca26\"],[1.0,\"#f0f921\"]]}],\"surface\":[{\"type\":\"surface\",\"colorbar\":{\"outlinewidth\":0,\"ticks\":\"\"},\"colorscale\":[[0.0,\"#0d0887\"],[0.1111111111111111,\"#46039f\"],[0.2222222222222222,\"#7201a8\"],[0.3333333333333333,\"#9c179e\"],[0.4444444444444444,\"#bd3786\"],[0.5555555555555556,\"#d8576b\"],[0.6666666666666666,\"#ed7953\"],[0.7777777777777778,\"#fb9f3a\"],[0.8888888888888888,\"#fdca26\"],[1.0,\"#f0f921\"]]}],\"mesh3d\":[{\"type\":\"mesh3d\",\"colorbar\":{\"outlinewidth\":0,\"ticks\":\"\"}}],\"scatter\":[{\"fillpattern\":{\"fillmode\":\"overlay\",\"size\":10,\"solidity\":0.2},\"type\":\"scatter\"}],\"parcoords\":[{\"type\":\"parcoords\",\"line\":{\"colorbar\":{\"outlinewidth\":0,\"ticks\":\"\"}}}],\"scatterpolargl\":[{\"type\":\"scatterpolargl\",\"marker\":{\"colorbar\":{\"outlinewidth\":0,\"ticks\":\"\"}}}],\"bar\":[{\"error_x\":{\"color\":\"#2a3f5f\"},\"error_y\":{\"color\":\"#2a3f5f\"},\"marker\":{\"line\":{\"color\":\"#E5ECF6\",\"width\":0.5},\"pattern\":{\"fillmode\":\"overlay\",\"size\":10,\"solidity\":0.2}},\"type\":\"bar\"}],\"scattergeo\":[{\"type\":\"scattergeo\",\"marker\":{\"colorbar\":{\"outlinewidth\":0,\"ticks\":\"\"}}}],\"scatterpolar\":[{\"type\":\"scatterpolar\",\"marker\":{\"colorbar\":{\"outlinewidth\":0,\"ticks\":\"\"}}}],\"histogram\":[{\"marker\":{\"pattern\":{\"fillmode\":\"overlay\",\"size\":10,\"solidity\":0.2}},\"type\":\"histogram\"}],\"scattergl\":[{\"type\":\"scattergl\",\"marker\":{\"colorbar\":{\"outlinewidth\":0,\"ticks\":\"\"}}}],\"scatter3d\":[{\"type\":\"scatter3d\",\"line\":{\"colorbar\":{\"outlinewidth\":0,\"ticks\":\"\"}},\"marker\":{\"colorbar\":{\"outlinewidth\":0,\"ticks\":\"\"}}}],\"scattermapbox\":[{\"type\":\"scattermapbox\",\"marker\":{\"colorbar\":{\"outlinewidth\":0,\"ticks\":\"\"}}}],\"scatterternary\":[{\"type\":\"scatterternary\",\"marker\":{\"colorbar\":{\"outlinewidth\":0,\"ticks\":\"\"}}}],\"scattercarpet\":[{\"type\":\"scattercarpet\",\"marker\":{\"colorbar\":{\"outlinewidth\":0,\"ticks\":\"\"}}}],\"carpet\":[{\"aaxis\":{\"endlinecolor\":\"#2a3f5f\",\"gridcolor\":\"white\",\"linecolor\":\"white\",\"minorgridcolor\":\"white\",\"startlinecolor\":\"#2a3f5f\"},\"baxis\":{\"endlinecolor\":\"#2a3f5f\",\"gridcolor\":\"white\",\"linecolor\":\"white\",\"minorgridcolor\":\"white\",\"startlinecolor\":\"#2a3f5f\"},\"type\":\"carpet\"}],\"table\":[{\"cells\":{\"fill\":{\"color\":\"#EBF0F8\"},\"line\":{\"color\":\"white\"}},\"header\":{\"fill\":{\"color\":\"#C8D4E3\"},\"line\":{\"color\":\"white\"}},\"type\":\"table\"}],\"barpolar\":[{\"marker\":{\"line\":{\"color\":\"#E5ECF6\",\"width\":0.5},\"pattern\":{\"fillmode\":\"overlay\",\"size\":10,\"solidity\":0.2}},\"type\":\"barpolar\"}],\"pie\":[{\"automargin\":true,\"type\":\"pie\"}]},\"layout\":{\"autotypenumbers\":\"strict\",\"colorway\":[\"#636efa\",\"#EF553B\",\"#00cc96\",\"#ab63fa\",\"#FFA15A\",\"#19d3f3\",\"#FF6692\",\"#B6E880\",\"#FF97FF\",\"#FECB52\"],\"font\":{\"color\":\"#2a3f5f\"},\"hovermode\":\"closest\",\"hoverlabel\":{\"align\":\"left\"},\"paper_bgcolor\":\"white\",\"plot_bgcolor\":\"#E5ECF6\",\"polar\":{\"bgcolor\":\"#E5ECF6\",\"angularaxis\":{\"gridcolor\":\"white\",\"linecolor\":\"white\",\"ticks\":\"\"},\"radialaxis\":{\"gridcolor\":\"white\",\"linecolor\":\"white\",\"ticks\":\"\"}},\"ternary\":{\"bgcolor\":\"#E5ECF6\",\"aaxis\":{\"gridcolor\":\"white\",\"linecolor\":\"white\",\"ticks\":\"\"},\"baxis\":{\"gridcolor\":\"white\",\"linecolor\":\"white\",\"ticks\":\"\"},\"caxis\":{\"gridcolor\":\"white\",\"linecolor\":\"white\",\"ticks\":\"\"}},\"coloraxis\":{\"colorbar\":{\"outlinewidth\":0,\"ticks\":\"\"}},\"colorscale\":{\"sequential\":[[0.0,\"#0d0887\"],[0.1111111111111111,\"#46039f\"],[0.2222222222222222,\"#7201a8\"],[0.3333333333333333,\"#9c179e\"],[0.4444444444444444,\"#bd3786\"],[0.5555555555555556,\"#d8576b\"],[0.6666666666666666,\"#ed7953\"],[0.7777777777777778,\"#fb9f3a\"],[0.8888888888888888,\"#fdca26\"],[1.0,\"#f0f921\"]],\"sequentialminus\":[[0.0,\"#0d0887\"],[0.1111111111111111,\"#46039f\"],[0.2222222222222222,\"#7201a8\"],[0.3333333333333333,\"#9c179e\"],[0.4444444444444444,\"#bd3786\"],[0.5555555555555556,\"#d8576b\"],[0.6666666666666666,\"#ed7953\"],[0.7777777777777778,\"#fb9f3a\"],[0.8888888888888888,\"#fdca26\"],[1.0,\"#f0f921\"]],\"diverging\":[[0,\"#8e0152\"],[0.1,\"#c51b7d\"],[0.2,\"#de77ae\"],[0.3,\"#f1b6da\"],[0.4,\"#fde0ef\"],[0.5,\"#f7f7f7\"],[0.6,\"#e6f5d0\"],[0.7,\"#b8e186\"],[0.8,\"#7fbc41\"],[0.9,\"#4d9221\"],[1,\"#276419\"]]},\"xaxis\":{\"gridcolor\":\"white\",\"linecolor\":\"white\",\"ticks\":\"\",\"title\":{\"standoff\":15},\"zerolinecolor\":\"white\",\"automargin\":true,\"zerolinewidth\":2},\"yaxis\":{\"gridcolor\":\"white\",\"linecolor\":\"white\",\"ticks\":\"\",\"title\":{\"standoff\":15},\"zerolinecolor\":\"white\",\"automargin\":true,\"zerolinewidth\":2},\"scene\":{\"xaxis\":{\"backgroundcolor\":\"#E5ECF6\",\"gridcolor\":\"white\",\"linecolor\":\"white\",\"showbackground\":true,\"ticks\":\"\",\"zerolinecolor\":\"white\",\"gridwidth\":2},\"yaxis\":{\"backgroundcolor\":\"#E5ECF6\",\"gridcolor\":\"white\",\"linecolor\":\"white\",\"showbackground\":true,\"ticks\":\"\",\"zerolinecolor\":\"white\",\"gridwidth\":2},\"zaxis\":{\"backgroundcolor\":\"#E5ECF6\",\"gridcolor\":\"white\",\"linecolor\":\"white\",\"showbackground\":true,\"ticks\":\"\",\"zerolinecolor\":\"white\",\"gridwidth\":2}},\"shapedefaults\":{\"line\":{\"color\":\"#2a3f5f\"}},\"annotationdefaults\":{\"arrowcolor\":\"#2a3f5f\",\"arrowhead\":0,\"arrowwidth\":1},\"geo\":{\"bgcolor\":\"white\",\"landcolor\":\"#E5ECF6\",\"subunitcolor\":\"white\",\"showland\":true,\"showlakes\":true,\"lakecolor\":\"white\"},\"title\":{\"x\":0.05},\"mapbox\":{\"style\":\"light\"}}},\"legend\":{\"yanchor\":\"top\",\"y\":0.99,\"xanchor\":\"right\",\"x\":0.99},\"title\":{\"text\":\"Activation Ranges with Overlap Analysis\"},\"xaxis\":{\"title\":{\"text\":\"Neuron Index\"},\"showgrid\":true,\"gridwidth\":1,\"gridcolor\":\"LightGrey\"},\"yaxis\":{\"title\":{\"text\":\"Activation Value\"},\"showgrid\":true,\"gridwidth\":1,\"gridcolor\":\"LightGrey\"},\"width\":1500,\"height\":800,\"plot_bgcolor\":\"white\",\"showlegend\":true},                        {\"responsive\": true}                    ).then(function(){\n",
       "                            \n",
       "var gd = document.getElementById('64bc25a0-fbc7-4c88-a352-96ac82cedf98');\n",
       "var x = new MutationObserver(function (mutations, observer) {{\n",
       "        var display = window.getComputedStyle(gd).display;\n",
       "        if (!display || display === 'none') {{\n",
       "            console.log([gd, 'removed!']);\n",
       "            Plotly.purge(gd);\n",
       "            observer.disconnect();\n",
       "        }}\n",
       "}});\n",
       "\n",
       "// Listen for the removal of the full notebook cells\n",
       "var notebookContainer = gd.closest('#notebook-container');\n",
       "if (notebookContainer) {{\n",
       "    x.observe(notebookContainer, {childList: true});\n",
       "}}\n",
       "\n",
       "// Listen for the clearing of the current output cell\n",
       "var outputEl = gd.closest('.output');\n",
       "if (outputEl) {{\n",
       "    x.observe(outputEl, {childList: true});\n",
       "}}\n",
       "\n",
       "                        })                };                });            </script>        </div>"
      ]
     },
     "metadata": {},
     "output_type": "display_data"
    },
    {
     "data": {
      "application/vnd.jupyter.widget-view+json": {
       "model_id": "82bd96ec0c84452ca4636c0025c8fbaa",
       "version_major": 2,
       "version_minor": 0
      },
      "text/plain": [
       "Output()"
      ]
     },
     "metadata": {},
     "output_type": "display_data"
    }
   ],
   "source": [
    "import torch\n",
    "import numpy as np\n",
    "import plotly.graph_objects as go\n",
    "from itertools import combinations\n",
    "from ipywidgets import VBox, Output\n",
    "from IPython.display import display\n",
    "\n",
    "def compute_ranges_and_overlaps(fc_vals_per_class, masks_per_class, tao=0.2):\n",
    "    \"\"\"\n",
    "    Compute ranges and find overlapping neurons between different class combinations\n",
    "    \"\"\"\n",
    "    num_classes = len(fc_vals_per_class)\n",
    "    # Get number of neurons from the first activation array\n",
    "    first_fc = fc_vals_per_class[0]\n",
    "    if isinstance(first_fc, list):\n",
    "        num_neurons = len(first_fc[0])\n",
    "    else:\n",
    "        num_neurons = first_fc.shape[1] if hasattr(first_fc, 'shape') else len(first_fc[0])\n",
    "    \n",
    "    # Convert all data to numpy arrays and compute ranges in one pass\n",
    "    ranges = []\n",
    "    masks_np = []\n",
    "    \n",
    "    for fc_vals, mask in zip(fc_vals_per_class, masks_per_class):\n",
    "        # Convert and compute fc_vals statistics\n",
    "        if isinstance(fc_vals, list):\n",
    "            fc_vals = np.array(fc_vals)\n",
    "        elif torch.is_tensor(fc_vals):\n",
    "            fc_vals = fc_vals.cpu().numpy()\n",
    "            \n",
    "        mean = np.mean(fc_vals, axis=0)\n",
    "        std = np.std(fc_vals, axis=0)\n",
    "        ranges.append({\n",
    "            'mean': mean,\n",
    "            'lower': mean - tao * std,\n",
    "            'upper': mean + tao * std\n",
    "        })\n",
    "        \n",
    "        # Convert masks\n",
    "        if torch.is_tensor(mask):\n",
    "            mask = mask.cpu().numpy()\n",
    "        masks_np.append(mask.astype(bool))\n",
    "    \n",
    "    # Compute overlaps efficiently\n",
    "    overlap_info = {\n",
    "        'neurons': np.zeros(num_neurons, dtype=int),\n",
    "        'combinations': {}\n",
    "    }\n",
    "\n",
    "    # Pre-compute active neurons for each class\n",
    "    active_neurons = [~mask for mask in masks_np]\n",
    "    \n",
    "    # For each neuron, find all classes where it's active and check overlaps\n",
    "    for neuron in range(num_neurons):\n",
    "        # Get classes where this neuron is active\n",
    "        active_classes = [i for i, active in enumerate(active_neurons) if active[neuron]]\n",
    "        \n",
    "        if len(active_classes) >= 2:\n",
    "            # Check if ranges overlap for active classes\n",
    "            min_upper = min(ranges[cls_idx]['upper'][neuron] for cls_idx in active_classes)\n",
    "            max_lower = max(ranges[cls_idx]['lower'][neuron] for cls_idx in active_classes)\n",
    "            \n",
    "            if max_lower <= min_upper:  # Ranges overlap\n",
    "                overlap_info['neurons'][neuron] = len(active_classes)\n",
    "                overlap_info['combinations'][neuron] = tuple(active_classes)\n",
    "\n",
    "    return ranges, overlap_info\n",
    "\n",
    "def create_detailed_range_plot(fc_vals_per_class, masks_per_class, tao=0.2, title=\"Activation Ranges with Overlap Analysis\"):\n",
    "    \"\"\"\n",
    "    Create visualization showing activation ranges and overlaps\n",
    "    \"\"\"\n",
    "    print(\"Computing ranges and overlaps...\")\n",
    "    ranges, overlap_info = compute_ranges_and_overlaps(fc_vals_per_class, masks_per_class, tao)\n",
    "    num_classes = len(fc_vals_per_class)\n",
    "    num_neurons = len(overlap_info['neurons'])\n",
    "    \n",
    "    print(\"Creating visualization...\")\n",
    "    \n",
    "    # Create color scheme for different overlap levels\n",
    "    overlap_colors = {\n",
    "        0: 'rgba(200, 200, 200, 0.1)',  # No overlap\n",
    "        2: 'rgba(255, 200, 200, 0.2)',  # 2 classes\n",
    "        3: 'rgba(255, 150, 150, 0.2)',  # 3 classes\n",
    "        4: 'rgba(255, 100, 100, 0.2)',  # 4 classes\n",
    "        5: 'rgba(255, 50, 50, 0.2)',    # 5 classes\n",
    "        6: 'rgba(255, 0, 0, 0.2)'       # 6 classes\n",
    "    }\n",
    "    \n",
    "    class_colors = [\n",
    "        'rgb(31, 119, 180)',   # blue\n",
    "        'rgb(255, 127, 14)',   # orange\n",
    "        'rgb(44, 160, 44)',    # green\n",
    "        'rgb(214, 39, 40)',    # red\n",
    "        'rgb(148, 103, 189)',  # purple\n",
    "        'rgb(140, 86, 75)',    # brown\n",
    "    ]\n",
    "    \n",
    "    fig = go.Figure()\n",
    "    \n",
    "    # Add background color for overlap regions efficiently\n",
    "    overlap_neurons = np.where(overlap_info['neurons'] >= 2)[0]\n",
    "    if len(overlap_neurons) > 0:\n",
    "        for n_classes in range(2, num_classes + 1):\n",
    "            neurons = np.where(overlap_info['neurons'] == n_classes)[0]\n",
    "            if len(neurons) > 0:\n",
    "                fig.add_trace(go.Scatter(\n",
    "                    x=np.concatenate([neurons - 0.5, neurons + 0.5, [neurons[-1] + 0.5, neurons[0] - 0.5]]),\n",
    "                    y=[fig.layout.yaxis.range[0] if fig.layout.yaxis.range else -1] * (len(neurons) * 2 + 2),\n",
    "                    fill=\"toself\",\n",
    "                    fillcolor=overlap_colors[n_classes],\n",
    "                    line=dict(width=0),\n",
    "                    showlegend=True,\n",
    "                    name=f'{n_classes}-Class Overlap',\n",
    "                    hoverinfo='skip'\n",
    "                ))\n",
    "    \n",
    "    # Add ranges for each class\n",
    "    for class_idx in range(num_classes):\n",
    "        mask = masks_per_class[class_idx]\n",
    "        if torch.is_tensor(mask):\n",
    "            mask = mask.cpu().numpy()\n",
    "        mask = mask.astype(bool)\n",
    "        \n",
    "        active_indices = np.where(~mask)[0]\n",
    "        \n",
    "        if len(active_indices) > 0:\n",
    "            fig.add_trace(go.Scatter(\n",
    "                x=np.concatenate([active_indices, active_indices[::-1]]),\n",
    "                y=np.concatenate([\n",
    "                    ranges[class_idx]['upper'][active_indices],\n",
    "                    ranges[class_idx]['lower'][active_indices][::-1]\n",
    "                ]),\n",
    "                fill='toself',\n",
    "                fillcolor=class_colors[class_idx].replace('rgb', 'rgba').replace(')', ', 0.2)'),\n",
    "                line=dict(color='rgba(0,0,0,0)'),\n",
    "                name=f'Range Class {class_idx + 1}',\n",
    "                showlegend=True,\n",
    "                hoverinfo='skip'\n",
    "            ))\n",
    "            \n",
    "            fig.add_trace(go.Scatter(\n",
    "                x=active_indices,\n",
    "                y=ranges[class_idx]['mean'][active_indices],\n",
    "                mode='markers',\n",
    "                marker=dict(\n",
    "                    size=6,\n",
    "                    color=class_colors[class_idx],\n",
    "                    symbol='circle'\n",
    "                ),\n",
    "                name=f'Mean Class {class_idx + 1}',\n",
    "                hovertemplate=(\n",
    "                    \"Neuron: %{x}<br>\" +\n",
    "                    \"Mean: %{y:.3f}<br>\" +\n",
    "                    f\"Range: %{{customdata[0]:.3f}} to %{{customdata[1]:.3f}}<br>\" +\n",
    "                    f\"Class: {class_idx + 1}<br>\" +\n",
    "                    \"Overlapping Classes: %{customdata[2]}\"\n",
    "                ),\n",
    "                customdata=np.column_stack((\n",
    "                    ranges[class_idx]['lower'][active_indices],\n",
    "                    ranges[class_idx]['upper'][active_indices],\n",
    "                    [', '.join([f'Class {i+1}' for i in overlap_info['combinations'].get(idx, [])]) \n",
    "                     if idx in overlap_info['combinations'] else 'None'\n",
    "                     for idx in active_indices]\n",
    "                ))\n",
    "            ))\n",
    "    \n",
    "    fig.update_layout(\n",
    "        title=title,\n",
    "        xaxis_title='Neuron Index',\n",
    "        yaxis_title='Activation Value',\n",
    "        width=1500,\n",
    "        height=800,\n",
    "        plot_bgcolor='white',\n",
    "        showlegend=True,\n",
    "        legend=dict(\n",
    "            yanchor=\"top\",\n",
    "            y=0.99,\n",
    "            xanchor=\"right\",\n",
    "            x=0.99\n",
    "        )\n",
    "    )\n",
    "    \n",
    "    fig.update_xaxes(showgrid=True, gridwidth=1, gridcolor='LightGrey')\n",
    "    fig.update_yaxes(showgrid=True, gridwidth=1, gridcolor='LightGrey')\n",
    "    \n",
    "    print(\"Visualization complete!\")\n",
    "    return fig\n",
    "\n",
    "def visualize_ranges_with_overlaps(all_fc_vals, all_masks, tao=0.2):\n",
    "    \"\"\"\n",
    "    Create and display the visualization\n",
    "    \"\"\"\n",
    "    print(\"Starting visualization...\")\n",
    "    out = Output()\n",
    "    with out:\n",
    "        fig = create_detailed_range_plot(all_fc_vals, all_masks, tao)\n",
    "        if fig is not None:\n",
    "            display(fig)\n",
    "    \n",
    "    display(out)\n",
    "    \n",
    "all_masks = []\n",
    "for fc1 in all_fc_vals:\n",
    "    mask_max, mask_std, mask_intersection, mask_max_low_std, mask_max_high_std, mask_std_high_max = compute_masks(fc1, 0.05)\n",
    "    all_masks.append(mask_max)\n",
    "    \n",
    "visualize_ranges_with_overlaps(all_fc_vals, all_masks, tao=2)"
   ]
  },
  {
   "cell_type": "code",
   "execution_count": 7,
   "metadata": {},
   "outputs": [
    {
     "name": "stdout",
     "output_type": "stream",
     "text": [
      "[11  4  5  0]\n"
     ]
    },
    {
     "ename": "IndexError",
     "evalue": "list index out of range",
     "output_type": "error",
     "traceback": [
      "\u001b[0;31m---------------------------------------------------------------------------\u001b[0m",
      "\u001b[0;31mIndexError\u001b[0m                                Traceback (most recent call last)",
      "Cell \u001b[0;32mIn[7], line 111\u001b[0m\n\u001b[1;32m    109\u001b[0m \u001b[38;5;28mprint\u001b[39m(classes_chosen)\n\u001b[1;32m    110\u001b[0m \u001b[38;5;66;03m# Call the function with your activations\u001b[39;00m\n\u001b[0;32m--> 111\u001b[0m plot_neurons \u001b[38;5;241m=\u001b[39m \u001b[43mplot_overlapping_neurons\u001b[49m\u001b[43m(\u001b[49m\u001b[43mall_fc_vals\u001b[49m\u001b[43m,\u001b[49m\u001b[43m \u001b[49m\u001b[43mmax_neurons_to_plot\u001b[49m\u001b[38;5;241;43m=\u001b[39;49m\u001b[38;5;241;43m15\u001b[39;49m\u001b[43m,\u001b[49m\u001b[43mclasses_chosen\u001b[49m\u001b[38;5;241;43m=\u001b[39;49m\u001b[43mclasses_chosen\u001b[49m\u001b[43m)\u001b[49m\n\u001b[1;32m    112\u001b[0m \u001b[38;5;28mprint\u001b[39m(\u001b[38;5;124mf\u001b[39m\u001b[38;5;124m\"\u001b[39m\u001b[38;5;124mPlotted neuron indices:\u001b[39m\u001b[38;5;124m\"\u001b[39m, plot_neurons)\n",
      "Cell \u001b[0;32mIn[7], line 64\u001b[0m, in \u001b[0;36mplot_overlapping_neurons\u001b[0;34m(all_fc_vals, max_neurons_to_plot, classes_chosen)\u001b[0m\n\u001b[1;32m     60\u001b[0m \u001b[38;5;28;01mdef\u001b[39;00m \u001b[38;5;21mplot_overlapping_neurons\u001b[39m(all_fc_vals, max_neurons_to_plot,classes_chosen):\n\u001b[1;32m     61\u001b[0m     \u001b[38;5;66;03m# Extract max masks for each class\u001b[39;00m\n\u001b[1;32m     62\u001b[0m     all_masked_indices \u001b[38;5;241m=\u001b[39m []\n\u001b[0;32m---> 64\u001b[0m     \u001b[38;5;28;01mfor\u001b[39;00m class_label, activations \u001b[38;5;129;01min\u001b[39;00m \u001b[38;5;28menumerate\u001b[39m([all_fc_vals[i] \u001b[38;5;28;01mfor\u001b[39;00m i \u001b[38;5;129;01min\u001b[39;00m classes_chosen]):\n\u001b[1;32m     65\u001b[0m         \u001b[38;5;66;03m# Compute masks for the current class's activations\u001b[39;00m\n\u001b[1;32m     66\u001b[0m         mask_max, _, _, _, _, _ \u001b[38;5;241m=\u001b[39m compute_masks(activations, \u001b[38;5;241m0.50\u001b[39m)\n\u001b[1;32m     68\u001b[0m         \u001b[38;5;66;03m# Use max mask and get its neuron indices\u001b[39;00m\n",
      "Cell \u001b[0;32mIn[7], line 64\u001b[0m, in \u001b[0;36m<listcomp>\u001b[0;34m(.0)\u001b[0m\n\u001b[1;32m     60\u001b[0m \u001b[38;5;28;01mdef\u001b[39;00m \u001b[38;5;21mplot_overlapping_neurons\u001b[39m(all_fc_vals, max_neurons_to_plot,classes_chosen):\n\u001b[1;32m     61\u001b[0m     \u001b[38;5;66;03m# Extract max masks for each class\u001b[39;00m\n\u001b[1;32m     62\u001b[0m     all_masked_indices \u001b[38;5;241m=\u001b[39m []\n\u001b[0;32m---> 64\u001b[0m     \u001b[38;5;28;01mfor\u001b[39;00m class_label, activations \u001b[38;5;129;01min\u001b[39;00m \u001b[38;5;28menumerate\u001b[39m([\u001b[43mall_fc_vals\u001b[49m\u001b[43m[\u001b[49m\u001b[43mi\u001b[49m\u001b[43m]\u001b[49m \u001b[38;5;28;01mfor\u001b[39;00m i \u001b[38;5;129;01min\u001b[39;00m classes_chosen]):\n\u001b[1;32m     65\u001b[0m         \u001b[38;5;66;03m# Compute masks for the current class's activations\u001b[39;00m\n\u001b[1;32m     66\u001b[0m         mask_max, _, _, _, _, _ \u001b[38;5;241m=\u001b[39m compute_masks(activations, \u001b[38;5;241m0.50\u001b[39m)\n\u001b[1;32m     68\u001b[0m         \u001b[38;5;66;03m# Use max mask and get its neuron indices\u001b[39;00m\n",
      "\u001b[0;31mIndexError\u001b[0m: list index out of range"
     ]
    }
   ],
   "source": [
    "import numpy as np\n",
    "import pandas as pd\n",
    "import seaborn as sns\n",
    "import matplotlib.pyplot as plt\n",
    " \n",
    " \n",
    " \n",
    "def find_common_neurons(all_masked_indices):\n",
    "    \"\"\"\n",
    "    Find neuron indices common across all classes\n",
    "    \"\"\"\n",
    "    # Use set intersection to find common indices\n",
    "    common_neurons = set(all_masked_indices[0])\n",
    "    for indices in all_masked_indices[1:]:\n",
    "        common_neurons = common_neurons.intersection(indices)\n",
    "    \n",
    "    return list(common_neurons)\n",
    " \n",
    "def prepare_neuron_data(all_fc_vals, neurons_to_plot,classes_chosen):\n",
    "    \"\"\"\n",
    "    Prepare activation data for common neurons across all classes\n",
    "    \"\"\"\n",
    "    plot_data = []\n",
    "    \n",
    "    # Extract masks for each class\n",
    "    masks = [compute_masks(activations, 0.50)[0] for activations in [all_fc_vals[i] for i in classes_chosen]]\n",
    "    \n",
    "    for class_label, (activations, mask) in enumerate(zip([all_fc_vals[i] for i in classes_chosen], masks)):\n",
    "        # Get neuron indices for this class based on mask where mask is zero (indicating selected neurons)\n",
    "        class_neuron_indices = np.where(mask == 0)[0]  # These are the neuron indices where the mask is 0\n",
    "        activations = np.array(activations)  # Ensure activations is a NumPy array\n",
    "        \n",
    "        print(neurons_to_plot)\n",
    "        \n",
    "        # Filter to only common neurons\n",
    "        common_neuron_mask = np.isin(class_neuron_indices, neurons_to_plot)  # Find neurons in common_neuron_mask\n",
    "        common_neuron_mask = np.where(common_neuron_mask, 0, 1).astype(int)  # Convert True/False to 0/1\n",
    "        \n",
    "        # Get the indices where mask is 0 for common neurons\n",
    "        common_neuron_indices = class_neuron_indices[common_neuron_mask == 0]  # Only take indices where mask is 0\n",
    "        \n",
    "        # Extract activations for common neurons\n",
    "        filtered_activations = activations[:, common_neuron_indices]  # Use these indices to filter activations\n",
    "        \n",
    "        # Create DataFrame with both neuron index and class label\n",
    "        df = pd.DataFrame(filtered_activations)\n",
    "        df = df.melt(var_name='Neuron_Local', value_name='Activation')\n",
    "        \n",
    "        # Map local neuron indices back to original neuron numbers\n",
    "        df['Neuron'] = df['Neuron_Local'].apply(lambda x: common_neuron_indices[x])\n",
    "        df['Class'] = class_label\n",
    "        \n",
    "        plot_data.append(df)\n",
    " \n",
    "   \n",
    "    \n",
    "    # Combine data for all classes\n",
    "    return pd.concat(plot_data, ignore_index=True)\n",
    " \n",
    "def plot_overlapping_neurons(all_fc_vals, max_neurons_to_plot,classes_chosen):\n",
    "    # Extract max masks for each class\n",
    "    all_masked_indices = []\n",
    "    \n",
    "    for class_label, activations in enumerate([all_fc_vals[i] for i in classes_chosen]):\n",
    "        # Compute masks for the current class's activations\n",
    "        mask_max, _, _, _, _, _ = compute_masks(activations, 0.50)\n",
    "        \n",
    "        # Use max mask and get its neuron indices\n",
    "        class_neuron_indices = np.where(mask_max == 0)[0]\n",
    "        class_neuron_indices =[int(neuron) for neuron in class_neuron_indices]\n",
    "        all_masked_indices.append(class_neuron_indices)\n",
    "    \n",
    "    # Find common neuron indices across classes\n",
    "    common_neurons = find_common_neurons(all_masked_indices)\n",
    "    common_neurons=[int(neuron) for neuron in common_neurons]\n",
    "    print(\"Commo|n nuerons\",common_neurons)\n",
    "    # n_neurons_to_plot = np.random.randint(1, min(len(common_neurons), max_neurons_to_plot) + 1)\n",
    "    \n",
    "    # Randomly select neurons to plot\n",
    "    neurons_to_plot = np.random.choice(common_neurons, size=min(len(common_neurons), max_neurons_to_plot), replace=False)\n",
    "    # Select top n common neurons to plot\n",
    "    # neurons_to_plot = common_neurons[:n_neurons_to_plot]\n",
    "    neurons_to_plot = [int(neuron) for neuron in neurons_to_plot]\n",
    "    print(neurons_to_plot)\n",
    "    \n",
    "    # Prepare data for plotting\n",
    "    plot_df = prepare_neuron_data(all_fc_vals, neurons_to_plot,classes_chosen)\n",
    "    \n",
    "    # Create plot\n",
    "    plt.figure(figsize=(25, 10))\n",
    "    palette = sns.color_palette(\"Set2\", n_colors=len(plot_df['Class'].unique()))\n",
    "    \n",
    "    sns.boxplot(data=plot_df, x='Neuron', y='Activation', hue='Class',\n",
    "                showfliers=False, palette=palette)\n",
    "    # neuron_indices = [0, 4, 6, 12]  # Example indices where dashed lines should appear\n",
    "    for pos in range(len(neurons_to_plot)):  # Use `neurons_to_plot` here\n",
    "        plt.axvline(x=pos+0.5, color='black', linestyle='--', linewidth=1)\n",
    "        \n",
    "    plt.title(f'Activation Box Plot for {len(neurons_to_plot)} Common Neurons', fontsize=18)\n",
    "    plt.xlabel('Neuron Index', fontsize=14)\n",
    "    plt.ylabel('Activation Value', fontsize=14)\n",
    "    plt.legend(title='Class', fontsize=12, bbox_to_anchor=(1.05, 1), loc='upper left')\n",
    "    plt.tight_layout()\n",
    "    plt.show()\n",
    "    \n",
    "    return neurons_to_plot\n",
    "np.random.seed(2)#21\n",
    "classes_chosen=np.random.choice([0,1,2,3,4,5,6,7,8,9,10,11,12,13], size=4, replace=False)\n",
    "print(classes_chosen)\n",
    "# Call the function with your activations\n",
    "plot_neurons = plot_overlapping_neurons(all_fc_vals, max_neurons_to_plot=15,classes_chosen=classes_chosen)\n",
    "print(f\"Plotted neuron indices:\", plot_neurons)"
   ]
  }
 ],
 "metadata": {
  "kernelspec": {
   "display_name": "memit",
   "language": "python",
   "name": "python3"
  },
  "language_info": {
   "codemirror_mode": {
    "name": "ipython",
    "version": 3
   },
   "file_extension": ".py",
   "mimetype": "text/x-python",
   "name": "python",
   "nbconvert_exporter": "python",
   "pygments_lexer": "ipython3",
   "version": "3.9.7"
  }
 },
 "nbformat": 4,
 "nbformat_minor": 2
}
