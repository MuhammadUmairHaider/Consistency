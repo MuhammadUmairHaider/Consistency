{
 "cells": [
  {
   "cell_type": "code",
   "execution_count": 1,
   "metadata": {},
   "outputs": [
    {
     "name": "stdout",
     "output_type": "stream",
     "text": [
      "Loading GPT-2 XL model and tokenizer...\n"
     ]
    },
    {
     "name": "stderr",
     "output_type": "stream",
     "text": [
      "/u/amo-d1/grad/mha361/anaconda3/envs/memit/lib/python3.9/site-packages/transformers/tokenization_utils_base.py:1601: FutureWarning: `clean_up_tokenization_spaces` was not set. It will be set to `True` by default. This behavior will be depracted in transformers v4.45, and will be then set to `False` by default. For more details check this issue: https://github.com/huggingface/transformers/issues/31884\n",
      "  warnings.warn(\n"
     ]
    },
    {
     "name": "stdout",
     "output_type": "stream",
     "text": [
      "Loading and processing dataset...\n"
     ]
    },
    {
     "name": "stderr",
     "output_type": "stream",
     "text": [
      "Loading papers: 1000it [00:01, 669.60it/s]\n"
     ]
    },
    {
     "name": "stdout",
     "output_type": "stream",
     "text": [
      "Using device: cuda\n",
      "Starting training...\n"
     ]
    },
    {
     "name": "stderr",
     "output_type": "stream",
     "text": [
      "Epoch 1: 100%|██████████| 500/500 [03:03<00:00,  2.73it/s, avg_loss=3.13]\n"
     ]
    },
    {
     "name": "stdout",
     "output_type": "stream",
     "text": [
      "Average loss for epoch 1: 3.1321546308994295\n"
     ]
    },
    {
     "name": "stderr",
     "output_type": "stream",
     "text": [
      "Epoch 2: 100%|██████████| 500/500 [03:16<00:00,  2.55it/s, avg_loss=1.45]\n"
     ]
    },
    {
     "name": "stdout",
     "output_type": "stream",
     "text": [
      "Average loss for epoch 2: 1.4528525344133376\n"
     ]
    },
    {
     "name": "stderr",
     "output_type": "stream",
     "text": [
      "Epoch 3: 100%|██████████| 500/500 [03:02<00:00,  2.73it/s, avg_loss=7.06]\n"
     ]
    },
    {
     "name": "stdout",
     "output_type": "stream",
     "text": [
      "Average loss for epoch 3: 7.06100291800499\n"
     ]
    },
    {
     "name": "stderr",
     "output_type": "stream",
     "text": [
      "Epoch 4: 100%|██████████| 500/500 [03:16<00:00,  2.54it/s, avg_loss=5.43]\n"
     ]
    },
    {
     "name": "stdout",
     "output_type": "stream",
     "text": [
      "Average loss for epoch 4: 5.431151164531708\n"
     ]
    },
    {
     "name": "stderr",
     "output_type": "stream",
     "text": [
      "Epoch 5: 100%|██████████| 500/500 [03:00<00:00,  2.77it/s, avg_loss=187] \n"
     ]
    },
    {
     "name": "stdout",
     "output_type": "stream",
     "text": [
      "Average loss for epoch 5: 187.3257192955017\n"
     ]
    },
    {
     "name": "stderr",
     "output_type": "stream",
     "text": [
      "Epoch 6: 100%|██████████| 500/500 [03:15<00:00,  2.56it/s, avg_loss=42.1]\n"
     ]
    },
    {
     "name": "stdout",
     "output_type": "stream",
     "text": [
      "Average loss for epoch 6: 42.148122616767886\n"
     ]
    },
    {
     "name": "stderr",
     "output_type": "stream",
     "text": [
      "Epoch 7: 100%|██████████| 500/500 [02:47<00:00,  2.98it/s, avg_loss=nan]  \n"
     ]
    },
    {
     "name": "stdout",
     "output_type": "stream",
     "text": [
      "Average loss for epoch 7: nan\n"
     ]
    },
    {
     "name": "stderr",
     "output_type": "stream",
     "text": [
      "Epoch 8: 100%|██████████| 500/500 [03:02<00:00,  2.75it/s, avg_loss=nan]\n"
     ]
    },
    {
     "name": "stdout",
     "output_type": "stream",
     "text": [
      "Average loss for epoch 8: nan\n"
     ]
    },
    {
     "name": "stderr",
     "output_type": "stream",
     "text": [
      "Epoch 9:  67%|██████▋   | 333/500 [01:52<00:56,  2.97it/s, avg_loss=nan]\n"
     ]
    },
    {
     "ename": "KeyboardInterrupt",
     "evalue": "",
     "output_type": "error",
     "traceback": [
      "\u001b[0;31m---------------------------------------------------------------------------\u001b[0m",
      "\u001b[0;31mKeyboardInterrupt\u001b[0m                         Traceback (most recent call last)",
      "Cell \u001b[0;32mIn[1], line 170\u001b[0m\n\u001b[1;32m    167\u001b[0m     tokenizer\u001b[38;5;241m.\u001b[39msave_pretrained(\u001b[38;5;124m\"\u001b[39m\u001b[38;5;124m./trained_gpt2_xl\u001b[39m\u001b[38;5;124m\"\u001b[39m)\n\u001b[1;32m    169\u001b[0m \u001b[38;5;28;01mif\u001b[39;00m \u001b[38;5;18m__name__\u001b[39m \u001b[38;5;241m==\u001b[39m \u001b[38;5;124m\"\u001b[39m\u001b[38;5;124m__main__\u001b[39m\u001b[38;5;124m\"\u001b[39m:\n\u001b[0;32m--> 170\u001b[0m     \u001b[43mmain\u001b[49m\u001b[43m(\u001b[49m\u001b[43m)\u001b[49m\n",
      "Cell \u001b[0;32mIn[1], line 162\u001b[0m, in \u001b[0;36mmain\u001b[0;34m()\u001b[0m\n\u001b[1;32m    160\u001b[0m \u001b[38;5;66;03m# Train the model\u001b[39;00m\n\u001b[1;32m    161\u001b[0m \u001b[38;5;28mprint\u001b[39m(\u001b[38;5;124m\"\u001b[39m\u001b[38;5;124mStarting training...\u001b[39m\u001b[38;5;124m\"\u001b[39m)\n\u001b[0;32m--> 162\u001b[0m \u001b[43mtrain_model\u001b[49m\u001b[43m(\u001b[49m\u001b[43mmodel\u001b[49m\u001b[43m,\u001b[49m\u001b[43m \u001b[49m\u001b[43mtrain_dataloader\u001b[49m\u001b[43m,\u001b[49m\u001b[43m \u001b[49m\u001b[43moptimizer\u001b[49m\u001b[43m,\u001b[49m\u001b[43m \u001b[49m\u001b[43mscheduler\u001b[49m\u001b[43m,\u001b[49m\u001b[43m \u001b[49m\u001b[43mdevice\u001b[49m\u001b[43m)\u001b[49m\n\u001b[1;32m    164\u001b[0m \u001b[38;5;66;03m# Save the trained model\u001b[39;00m\n\u001b[1;32m    165\u001b[0m \u001b[38;5;28mprint\u001b[39m(\u001b[38;5;124m\"\u001b[39m\u001b[38;5;124mSaving model...\u001b[39m\u001b[38;5;124m\"\u001b[39m)\n",
      "Cell \u001b[0;32mIn[1], line 83\u001b[0m, in \u001b[0;36mtrain_model\u001b[0;34m(model, train_dataloader, optimizer, scheduler, device, num_epochs)\u001b[0m\n\u001b[1;32m     80\u001b[0m scheduler\u001b[38;5;241m.\u001b[39mstep()\n\u001b[1;32m     82\u001b[0m \u001b[38;5;66;03m# Update progress bar\u001b[39;00m\n\u001b[0;32m---> 83\u001b[0m total_loss \u001b[38;5;241m+\u001b[39m\u001b[38;5;241m=\u001b[39m \u001b[43mloss\u001b[49m\u001b[38;5;241;43m.\u001b[39;49m\u001b[43mitem\u001b[49m\u001b[43m(\u001b[49m\u001b[43m)\u001b[49m\n\u001b[1;32m     84\u001b[0m avg_loss \u001b[38;5;241m=\u001b[39m total_loss \u001b[38;5;241m/\u001b[39m (batch_idx \u001b[38;5;241m+\u001b[39m \u001b[38;5;241m1\u001b[39m)\n\u001b[1;32m     85\u001b[0m progress_bar\u001b[38;5;241m.\u001b[39mset_postfix({\u001b[38;5;124m'\u001b[39m\u001b[38;5;124mavg_loss\u001b[39m\u001b[38;5;124m'\u001b[39m: avg_loss})\n",
      "\u001b[0;31mKeyboardInterrupt\u001b[0m: "
     ]
    }
   ],
   "source": [
    "import torch\n",
    "from torch.utils.data import Dataset, DataLoader\n",
    "from transformers import GPT2LMHeadModel, GPT2Tokenizer, AdamW, get_linear_schedule_with_warmup\n",
    "import json\n",
    "import numpy as np\n",
    "from tqdm import tqdm\n",
    "\n",
    "class ArxivDataset(Dataset):\n",
    "    def __init__(self, file_path, tokenizer, max_length=512, max_samples=1000):\n",
    "        self.tokenizer = tokenizer\n",
    "        self.max_length = max_length\n",
    "        self.data = []\n",
    "        \n",
    "        print(\"Loading and processing dataset...\")\n",
    "        with open(file_path, 'r') as f:\n",
    "            for i, line in enumerate(tqdm(f, desc=\"Loading papers\")):\n",
    "                if i >= max_samples:\n",
    "                    break\n",
    "                paper = json.loads(line)\n",
    "                # Combine title and abstract with proper formatting\n",
    "                text = f\"Title: {paper['title']}\\nAbstract: {paper['abstract']}\"\n",
    "                \n",
    "                # Tokenize the text\n",
    "                encodings = tokenizer(\n",
    "                    text,\n",
    "                    truncation=True,\n",
    "                    padding=\"max_length\",\n",
    "                    max_length=max_length,\n",
    "                    return_tensors=\"pt\"\n",
    "                )\n",
    "                \n",
    "                # Remove the batch dimension\n",
    "                encodings = {key: val.squeeze(0) for key, val in encodings.items()}\n",
    "                self.data.append(encodings)\n",
    "    \n",
    "    def __getitem__(self, idx):\n",
    "        item = {key: val.clone() for key, val in self.data[idx].items()}\n",
    "        item[\"labels\"] = item[\"input_ids\"].clone()\n",
    "        return item\n",
    "    \n",
    "    def __len__(self):\n",
    "        return len(self.data)\n",
    "\n",
    "def train_model(model, train_dataloader, optimizer, scheduler, device, num_epochs=10):\n",
    "    model.train()\n",
    "    \n",
    "    for epoch in range(num_epochs):\n",
    "        total_loss = 0\n",
    "        progress_bar = tqdm(train_dataloader, desc=f'Epoch {epoch + 1}')\n",
    "        \n",
    "        # Store gradients for balancing on every 10th epoch\n",
    "        if (epoch + 1) % 2 == 0:\n",
    "            param_gradients = []\n",
    "            \n",
    "        for batch_idx, batch in enumerate(progress_bar):\n",
    "            # Move batch to device\n",
    "            batch = {k: v.to(device) for k, v in batch.items()}\n",
    "            \n",
    "            # Clear gradients\n",
    "            optimizer.zero_grad()\n",
    "            \n",
    "            # Forward pass\n",
    "            outputs = model(**batch)\n",
    "            loss = outputs.loss\n",
    "            \n",
    "            # Backward pass\n",
    "            loss.backward()\n",
    "            \n",
    "            # On 10th epoch, collect gradients before updating\n",
    "            if (epoch + 1) % 2 == 0:\n",
    "                for param in model.parameters():\n",
    "                    if param.grad is not None:\n",
    "                        param_gradients.append(param.grad.abs().mean().item())\n",
    "            \n",
    "            # Clip gradients\n",
    "            # torch.nn.utils.clip_grad_norm_(model.parameters(), 1.0)\n",
    "            \n",
    "            # Update parameters\n",
    "            optimizer.step()\n",
    "            scheduler.step()\n",
    "            \n",
    "            # Update progress bar\n",
    "            total_loss += loss.item()\n",
    "            avg_loss = total_loss / (batch_idx + 1)\n",
    "            progress_bar.set_postfix({'avg_loss': avg_loss})\n",
    "            \n",
    "            # Save checkpoint every 1000 steps\n",
    "            if (batch_idx + 1) % 1000 == 0:\n",
    "                checkpoint = {\n",
    "                    'epoch': epoch,\n",
    "                    'batch_idx': batch_idx,\n",
    "                    'model_state_dict': model.state_dict(),\n",
    "                    'optimizer_state_dict': optimizer.state_dict(),\n",
    "                    'scheduler_state_dict': scheduler.state_dict(),\n",
    "                    'loss': loss.item(),\n",
    "                }\n",
    "                torch.save(checkpoint, f'checkpoint_epoch{epoch}_batch{batch_idx}.pt')\n",
    "        \n",
    "        # After collecting gradients on 10th epoch, balance the weights\n",
    "        if (epoch + 1) % 2 == 0:\n",
    "            mean_gradient = sum(param_gradients) / len(param_gradients)\n",
    "            \n",
    "            with torch.no_grad():\n",
    "                for param in model.parameters():\n",
    "                    if param.grad is not None:\n",
    "                        current_grad_mean = param.grad.abs().mean()\n",
    "                        if current_grad_mean > 0:  # Avoid division by zero\n",
    "                            # Calculate scaling factor\n",
    "                            scale_factor = (mean_gradient / current_grad_mean)/10\n",
    "                            \n",
    "                            # Add random noise to determine sign\n",
    "                            random_signs = torch.randint(0, 2, param.shape, device=param.device) * 2 - 1\n",
    "                            \n",
    "                            # Scale the weights and apply random signs\n",
    "                            param.data *= scale_factor * random_signs.float()\n",
    "        \n",
    "        print(f\"Average loss for epoch {epoch + 1}: {total_loss / len(train_dataloader)}\")\n",
    "\n",
    "def main():\n",
    "    # Load GPT-2 XL model and tokenizer\n",
    "    print(\"Loading GPT-2 XL model and tokenizer...\")\n",
    "    model_name = \"gpt2-large\"\n",
    "    tokenizer = GPT2Tokenizer.from_pretrained(model_name)\n",
    "    model = GPT2LMHeadModel.from_pretrained(model_name)\n",
    "    \n",
    "    # Set pad token\n",
    "    tokenizer.pad_token = tokenizer.eos_token\n",
    "    model.config.pad_token_id = model.config.eos_token_id\n",
    "    \n",
    "    # Load local arXiv dataset\n",
    "    dataset = ArxivDataset(\n",
    "        file_path=\"arxiv-metadata-oai-snapshot.json\",\n",
    "        tokenizer=tokenizer,\n",
    "        max_length=512,\n",
    "        max_samples=1000  # Adjust this number as needed\n",
    "    )\n",
    "    \n",
    "    # Create dataloader\n",
    "    train_dataloader = DataLoader(\n",
    "        dataset,\n",
    "        batch_size=2,  # Adjust based on your GPU memory\n",
    "        shuffle=True,\n",
    "        num_workers=4  # Adjust based on your CPU cores\n",
    "    )\n",
    "    \n",
    "    # Setup training parameters\n",
    "    device = torch.device(\"cuda\" if torch.cuda.is_available() else \"cpu\")\n",
    "    print(f\"Using device: {device}\")\n",
    "    model.to(device)\n",
    "    \n",
    "    # Optimizer and scheduler setup\n",
    "    optimizer = torch.optim.SGD(model.parameters(), lr=5e-5)\n",
    "    num_training_steps = len(train_dataloader) * 10  # 3 epochs\n",
    "    scheduler = get_linear_schedule_with_warmup(\n",
    "        optimizer,\n",
    "        num_warmup_steps=100,\n",
    "        num_training_steps=num_training_steps\n",
    "    )\n",
    "    \n",
    "    # Train the model\n",
    "    print(\"Starting training...\")\n",
    "    train_model(model, train_dataloader, optimizer, scheduler, device)\n",
    "    \n",
    "    # Save the trained model\n",
    "    print(\"Saving model...\")\n",
    "    model.save_pretrained(\"./trained_gpt2_xl\")\n",
    "    tokenizer.save_pretrained(\"./trained_gpt2_xl\")\n",
    "\n",
    "if __name__ == \"__main__\":\n",
    "    main()"
   ]
  },
  {
   "cell_type": "code",
   "execution_count": null,
   "metadata": {},
   "outputs": [],
   "source": []
  }
 ],
 "metadata": {
  "kernelspec": {
   "display_name": "memit",
   "language": "python",
   "name": "python3"
  },
  "language_info": {
   "codemirror_mode": {
    "name": "ipython",
    "version": 3
   },
   "file_extension": ".py",
   "mimetype": "text/x-python",
   "name": "python",
   "nbconvert_exporter": "python",
   "pygments_lexer": "ipython3",
   "version": "3.9.7"
  }
 },
 "nbformat": 4,
 "nbformat_minor": 2
}
