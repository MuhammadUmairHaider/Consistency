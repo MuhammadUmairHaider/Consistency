{
 "cells": [
  {
   "cell_type": "code",
   "execution_count": 1,
   "metadata": {},
   "outputs": [
    {
     "name": "stderr",
     "output_type": "stream",
     "text": [
      "Using the latest cached version of the dataset since fancyzhx/dbpedia_14 couldn't be found on the Hugging Face Hub\n",
      "Found the latest cached dataset configuration 'dbpedia_14' at /u/amo-d1/grad/mha361/.cache/huggingface/datasets/fancyzhx___dbpedia_14/dbpedia_14/0.0.0/9abd46cf7fc8b4c64290f26993c540b92aa145ac (last modified on Mon Mar  3 14:49:57 2025).\n"
     ]
    },
    {
     "name": "stdout",
     "output_type": "stream",
     "text": [
      "DatasetDict({\n",
      "    train: Dataset({\n",
      "        features: ['label', 'title', 'content'],\n",
      "        num_rows: 560000\n",
      "    })\n",
      "    test: Dataset({\n",
      "        features: ['label', 'title', 'content'],\n",
      "        num_rows: 70000\n",
      "    })\n",
      "})\n",
      "'Company' is already a single token (ID: 39154)\n",
      "'Artist' is already a single token (ID: 43020)\n",
      "'Building' is already a single token (ID: 25954)\n",
      "'Animal' is already a single token (ID: 40002)\n",
      "'Film' is already a single token (ID: 39750)\n"
     ]
    },
    {
     "name": "stderr",
     "output_type": "stream",
     "text": [
      "/u/amo-d1/grad/mha361/anaconda3/envs/memit/lib/python3.9/site-packages/transformers/tokenization_utils_base.py:1601: FutureWarning: `clean_up_tokenization_spaces` was not set. It will be set to `True` by default. This behavior will be depracted in transformers v4.45, and will be then set to `False` by default. For more details check this issue: https://github.com/huggingface/transformers/issues/31884\n",
      "  warnings.warn(\n"
     ]
    },
    {
     "name": "stdout",
     "output_type": "stream",
     "text": [
      "\n",
      "Added 9 new tokens to the tokenizer\n"
     ]
    },
    {
     "name": "stderr",
     "output_type": "stream",
     "text": [
      "/tmp/ipykernel_2544714/2418968868.py:243: FutureWarning: You are using `torch.load` with `weights_only=False` (the current default value), which uses the default pickle module implicitly. It is possible to construct malicious pickle data which will execute arbitrary code during unpickling (See https://github.com/pytorch/pytorch/blob/main/SECURITY.md#untrusted-models for more details). In a future release, the default value for `weights_only` will be flipped to `True`. This limits the functions that could be executed during unpickling. Arbitrary objects will no longer be allowed to be loaded via this mode unless they are explicitly allowlisted by the user via `torch.serialization.add_safe_globals`. We recommend you start setting `weights_only=True` for any use case where you don't have full control of the loaded file. Please open an issue on GitHub for any issues related to this experimental feature.\n",
      "  model.load_state_dict(torch.load(weights_path))\n"
     ]
    },
    {
     "name": "stdout",
     "output_type": "stream",
     "text": [
      "Recording activations...\n"
     ]
    },
    {
     "data": {
      "application/vnd.jupyter.widget-view+json": {
       "model_id": "fc952b0fdf5a4441af531e083cce9f22",
       "version_major": 2,
       "version_minor": 0
      },
      "text/plain": [
       "Filter:   0%|          | 0/560000 [00:00<?, ? examples/s]"
      ]
     },
     "metadata": {},
     "output_type": "display_data"
    },
    {
     "data": {
      "application/vnd.jupyter.widget-view+json": {
       "model_id": "2bf8595d649b4f078fa97b8a9a030ff2",
       "version_major": 2,
       "version_minor": 0
      },
      "text/plain": [
       "Filter:   0%|          | 0/70000 [00:00<?, ? examples/s]"
      ]
     },
     "metadata": {},
     "output_type": "display_data"
    },
    {
     "data": {
      "application/vnd.jupyter.widget-view+json": {
       "model_id": "04dc969752904ff895ca179763ff041d",
       "version_major": 2,
       "version_minor": 0
      },
      "text/plain": [
       "Filter:   0%|          | 0/70000 [00:00<?, ? examples/s]"
      ]
     },
     "metadata": {},
     "output_type": "display_data"
    },
    {
     "data": {
      "application/vnd.jupyter.widget-view+json": {
       "model_id": "004ca9f8f8a942a790155979daf20b66",
       "version_major": 2,
       "version_minor": 0
      },
      "text/plain": [
       "Evaluating:   0%|          | 0/313 [00:00<?, ?it/s]"
      ]
     },
     "metadata": {},
     "output_type": "display_data"
    },
    {
     "name": "stderr",
     "output_type": "stream",
     "text": [
      "/mounts/u-amo-d1/grad/mha361/work/probless/Sentiment/utilities.py:693: UserWarning: To copy construct from a tensor, it is recommended to use sourceTensor.clone().detach() or sourceTensor.clone().detach().requires_grad_(True), rather than torch.tensor(sourceTensor).\n",
      "  input_ids = torch.tensor(item['input_ids']).to(device)\n",
      "/mounts/u-amo-d1/grad/mha361/work/probless/Sentiment/utilities.py:694: UserWarning: To copy construct from a tensor, it is recommended to use sourceTensor.clone().detach() or sourceTensor.clone().detach().requires_grad_(True), rather than torch.tensor(sourceTensor).\n",
      "  attention_mask = torch.tensor(item['attention_mask']).to(device)\n"
     ]
    },
    {
     "data": {
      "application/vnd.jupyter.widget-view+json": {
       "model_id": "48d0e806e1e0443eaa37678e223a9f79",
       "version_major": 2,
       "version_minor": 0
      },
      "text/plain": [
       "Evaluating:   0%|          | 0/40 [00:00<?, ?it/s]"
      ]
     },
     "metadata": {},
     "output_type": "display_data"
    },
    {
     "name": "stdout",
     "output_type": "stream",
     "text": [
      "Class  0 base accuracy:  0.9756 0.9691\n"
     ]
    },
    {
     "data": {
      "application/vnd.jupyter.widget-view+json": {
       "model_id": "947883f00ef949deb7659ae2116d5f68",
       "version_major": 2,
       "version_minor": 0
      },
      "text/plain": [
       "Evaluating:   0%|          | 0/508 [00:00<?, ?it/s]"
      ]
     },
     "metadata": {},
     "output_type": "display_data"
    },
    {
     "name": "stdout",
     "output_type": "stream",
     "text": [
      "Class  0 complement base accuracy:  0.9935 0.992\n"
     ]
    },
    {
     "data": {
      "application/vnd.jupyter.widget-view+json": {
       "model_id": "4f761fa07c244fe1a18c67c947883839",
       "version_major": 2,
       "version_minor": 0
      },
      "text/plain": [
       "Filter:   0%|          | 0/560000 [00:00<?, ? examples/s]"
      ]
     },
     "metadata": {},
     "output_type": "display_data"
    },
    {
     "data": {
      "application/vnd.jupyter.widget-view+json": {
       "model_id": "cba04f0510b64987aa4be9837dc13863",
       "version_major": 2,
       "version_minor": 0
      },
      "text/plain": [
       "Filter:   0%|          | 0/70000 [00:00<?, ? examples/s]"
      ]
     },
     "metadata": {},
     "output_type": "display_data"
    },
    {
     "data": {
      "application/vnd.jupyter.widget-view+json": {
       "model_id": "0db85d9dd105458395941bb65746e10d",
       "version_major": 2,
       "version_minor": 0
      },
      "text/plain": [
       "Filter:   0%|          | 0/70000 [00:00<?, ? examples/s]"
      ]
     },
     "metadata": {},
     "output_type": "display_data"
    },
    {
     "data": {
      "application/vnd.jupyter.widget-view+json": {
       "model_id": "4a5d6aa3122c438baae3bc2de16b256e",
       "version_major": 2,
       "version_minor": 0
      },
      "text/plain": [
       "Evaluating:   0%|          | 0/313 [00:00<?, ?it/s]"
      ]
     },
     "metadata": {},
     "output_type": "display_data"
    },
    {
     "data": {
      "application/vnd.jupyter.widget-view+json": {
       "model_id": "3613ce73393b40bf96fb90c19ecd3f46",
       "version_major": 2,
       "version_minor": 0
      },
      "text/plain": [
       "Evaluating:   0%|          | 0/40 [00:00<?, ?it/s]"
      ]
     },
     "metadata": {},
     "output_type": "display_data"
    },
    {
     "name": "stdout",
     "output_type": "stream",
     "text": [
      "Class  1 base accuracy:  0.9898 0.9868\n"
     ]
    },
    {
     "data": {
      "application/vnd.jupyter.widget-view+json": {
       "model_id": "cc4ac5cf72b349afae9cf1a87ffa7a29",
       "version_major": 2,
       "version_minor": 0
      },
      "text/plain": [
       "Evaluating:   0%|          | 0/508 [00:00<?, ?it/s]"
      ]
     },
     "metadata": {},
     "output_type": "display_data"
    },
    {
     "name": "stdout",
     "output_type": "stream",
     "text": [
      "Class  1 complement base accuracy:  0.9924 0.9906\n"
     ]
    },
    {
     "data": {
      "application/vnd.jupyter.widget-view+json": {
       "model_id": "17b93ecd098141319fd5de416d97e325",
       "version_major": 2,
       "version_minor": 0
      },
      "text/plain": [
       "Filter:   0%|          | 0/560000 [00:00<?, ? examples/s]"
      ]
     },
     "metadata": {},
     "output_type": "display_data"
    },
    {
     "data": {
      "application/vnd.jupyter.widget-view+json": {
       "model_id": "9de832d6c2204a128cdd37ce18feddab",
       "version_major": 2,
       "version_minor": 0
      },
      "text/plain": [
       "Filter:   0%|          | 0/70000 [00:00<?, ? examples/s]"
      ]
     },
     "metadata": {},
     "output_type": "display_data"
    },
    {
     "data": {
      "application/vnd.jupyter.widget-view+json": {
       "model_id": "7d0f08d9022d4c5585301d208b0fe7bd",
       "version_major": 2,
       "version_minor": 0
      },
      "text/plain": [
       "Filter:   0%|          | 0/70000 [00:00<?, ? examples/s]"
      ]
     },
     "metadata": {},
     "output_type": "display_data"
    },
    {
     "data": {
      "application/vnd.jupyter.widget-view+json": {
       "model_id": "387df65d3078424789a2c963d83be18f",
       "version_major": 2,
       "version_minor": 0
      },
      "text/plain": [
       "Evaluating:   0%|          | 0/313 [00:00<?, ?it/s]"
      ]
     },
     "metadata": {},
     "output_type": "display_data"
    },
    {
     "data": {
      "application/vnd.jupyter.widget-view+json": {
       "model_id": "a4e8309655314e11a9fcde956d8783fd",
       "version_major": 2,
       "version_minor": 0
      },
      "text/plain": [
       "Evaluating:   0%|          | 0/40 [00:00<?, ?it/s]"
      ]
     },
     "metadata": {},
     "output_type": "display_data"
    },
    {
     "name": "stdout",
     "output_type": "stream",
     "text": [
      "Class  2 base accuracy:  0.9894 0.9856\n"
     ]
    },
    {
     "data": {
      "application/vnd.jupyter.widget-view+json": {
       "model_id": "8d21b61c4c414cfb863eb29d42ab86e2",
       "version_major": 2,
       "version_minor": 0
      },
      "text/plain": [
       "Evaluating:   0%|          | 0/508 [00:00<?, ?it/s]"
      ]
     },
     "metadata": {},
     "output_type": "display_data"
    },
    {
     "name": "stdout",
     "output_type": "stream",
     "text": [
      "Class  2 complement base accuracy:  0.9924 0.9907\n"
     ]
    },
    {
     "data": {
      "application/vnd.jupyter.widget-view+json": {
       "model_id": "9e207c37d17f4071af7ddbbff20dd5e7",
       "version_major": 2,
       "version_minor": 0
      },
      "text/plain": [
       "Filter:   0%|          | 0/560000 [00:00<?, ? examples/s]"
      ]
     },
     "metadata": {},
     "output_type": "display_data"
    },
    {
     "data": {
      "application/vnd.jupyter.widget-view+json": {
       "model_id": "8da83f458920482dabe46be3453f5bc0",
       "version_major": 2,
       "version_minor": 0
      },
      "text/plain": [
       "Filter:   0%|          | 0/70000 [00:00<?, ? examples/s]"
      ]
     },
     "metadata": {},
     "output_type": "display_data"
    },
    {
     "data": {
      "application/vnd.jupyter.widget-view+json": {
       "model_id": "c2a23ba88ca24de2a2129854be3d74eb",
       "version_major": 2,
       "version_minor": 0
      },
      "text/plain": [
       "Filter:   0%|          | 0/70000 [00:00<?, ? examples/s]"
      ]
     },
     "metadata": {},
     "output_type": "display_data"
    },
    {
     "data": {
      "application/vnd.jupyter.widget-view+json": {
       "model_id": "865e2dab5cdc4d19b0bcae74a343f3a1",
       "version_major": 2,
       "version_minor": 0
      },
      "text/plain": [
       "Evaluating:   0%|          | 0/313 [00:00<?, ?it/s]"
      ]
     },
     "metadata": {},
     "output_type": "display_data"
    },
    {
     "data": {
      "application/vnd.jupyter.widget-view+json": {
       "model_id": "be73092ada4c4771a954b32fdd1967b0",
       "version_major": 2,
       "version_minor": 0
      },
      "text/plain": [
       "Evaluating:   0%|          | 0/40 [00:00<?, ?it/s]"
      ]
     },
     "metadata": {},
     "output_type": "display_data"
    },
    {
     "name": "stdout",
     "output_type": "stream",
     "text": [
      "Class  3 base accuracy:  0.9976 0.9965\n"
     ]
    },
    {
     "data": {
      "application/vnd.jupyter.widget-view+json": {
       "model_id": "4b07990241ce4074955724b34abc76ea",
       "version_major": 2,
       "version_minor": 0
      },
      "text/plain": [
       "Evaluating:   0%|          | 0/508 [00:00<?, ?it/s]"
      ]
     },
     "metadata": {},
     "output_type": "display_data"
    },
    {
     "name": "stdout",
     "output_type": "stream",
     "text": [
      "Class  3 complement base accuracy:  0.9918 0.9899\n"
     ]
    },
    {
     "data": {
      "application/vnd.jupyter.widget-view+json": {
       "model_id": "f216cca39bec4c81a479bc91d78b06f2",
       "version_major": 2,
       "version_minor": 0
      },
      "text/plain": [
       "Filter:   0%|          | 0/560000 [00:00<?, ? examples/s]"
      ]
     },
     "metadata": {},
     "output_type": "display_data"
    },
    {
     "data": {
      "application/vnd.jupyter.widget-view+json": {
       "model_id": "4dc4e0f3b5704874a8c98639331fce74",
       "version_major": 2,
       "version_minor": 0
      },
      "text/plain": [
       "Filter:   0%|          | 0/70000 [00:00<?, ? examples/s]"
      ]
     },
     "metadata": {},
     "output_type": "display_data"
    },
    {
     "data": {
      "application/vnd.jupyter.widget-view+json": {
       "model_id": "0574d982ff214e2b8fb915010ae400da",
       "version_major": 2,
       "version_minor": 0
      },
      "text/plain": [
       "Filter:   0%|          | 0/70000 [00:00<?, ? examples/s]"
      ]
     },
     "metadata": {},
     "output_type": "display_data"
    },
    {
     "data": {
      "application/vnd.jupyter.widget-view+json": {
       "model_id": "945c2a2c41444f1db39312bdbb62e2fa",
       "version_major": 2,
       "version_minor": 0
      },
      "text/plain": [
       "Evaluating:   0%|          | 0/313 [00:00<?, ?it/s]"
      ]
     },
     "metadata": {},
     "output_type": "display_data"
    },
    {
     "data": {
      "application/vnd.jupyter.widget-view+json": {
       "model_id": "0baedd4097024d39830231c832357b73",
       "version_major": 2,
       "version_minor": 0
      },
      "text/plain": [
       "Evaluating:   0%|          | 0/40 [00:00<?, ?it/s]"
      ]
     },
     "metadata": {},
     "output_type": "display_data"
    },
    {
     "name": "stdout",
     "output_type": "stream",
     "text": [
      "Class  4 base accuracy:  0.9868 0.984\n"
     ]
    },
    {
     "data": {
      "application/vnd.jupyter.widget-view+json": {
       "model_id": "b5f8f2e6e235439b97735bb9ce4b104d",
       "version_major": 2,
       "version_minor": 0
      },
      "text/plain": [
       "Evaluating:   0%|          | 0/508 [00:00<?, ?it/s]"
      ]
     },
     "metadata": {},
     "output_type": "display_data"
    },
    {
     "name": "stdout",
     "output_type": "stream",
     "text": [
      "Class  4 complement base accuracy:  0.9926 0.9909\n"
     ]
    },
    {
     "data": {
      "application/vnd.jupyter.widget-view+json": {
       "model_id": "f6e358b73ee3402a903c16fe311a9f1c",
       "version_major": 2,
       "version_minor": 0
      },
      "text/plain": [
       "Filter:   0%|          | 0/560000 [00:00<?, ? examples/s]"
      ]
     },
     "metadata": {},
     "output_type": "display_data"
    },
    {
     "data": {
      "application/vnd.jupyter.widget-view+json": {
       "model_id": "2c3f4e874a0b45e6bc5811835a733638",
       "version_major": 2,
       "version_minor": 0
      },
      "text/plain": [
       "Filter:   0%|          | 0/70000 [00:00<?, ? examples/s]"
      ]
     },
     "metadata": {},
     "output_type": "display_data"
    },
    {
     "data": {
      "application/vnd.jupyter.widget-view+json": {
       "model_id": "fd5b4d068aa2415b835b0aeb568b5900",
       "version_major": 2,
       "version_minor": 0
      },
      "text/plain": [
       "Filter:   0%|          | 0/70000 [00:00<?, ? examples/s]"
      ]
     },
     "metadata": {},
     "output_type": "display_data"
    },
    {
     "data": {
      "application/vnd.jupyter.widget-view+json": {
       "model_id": "1c926afcf462410484d037e1c85e30b1",
       "version_major": 2,
       "version_minor": 0
      },
      "text/plain": [
       "Evaluating:   0%|          | 0/313 [00:00<?, ?it/s]"
      ]
     },
     "metadata": {},
     "output_type": "display_data"
    },
    {
     "data": {
      "application/vnd.jupyter.widget-view+json": {
       "model_id": "1c8fcac63a944f6f897dfc8d6933785e",
       "version_major": 2,
       "version_minor": 0
      },
      "text/plain": [
       "Evaluating:   0%|          | 0/40 [00:00<?, ?it/s]"
      ]
     },
     "metadata": {},
     "output_type": "display_data"
    },
    {
     "name": "stdout",
     "output_type": "stream",
     "text": [
      "Class  5 base accuracy:  0.9944 0.994\n"
     ]
    },
    {
     "data": {
      "application/vnd.jupyter.widget-view+json": {
       "model_id": "011c782bad6b4680aec7d40d35c61ae1",
       "version_major": 2,
       "version_minor": 0
      },
      "text/plain": [
       "Evaluating:   0%|          | 0/508 [00:00<?, ?it/s]"
      ]
     },
     "metadata": {},
     "output_type": "display_data"
    },
    {
     "name": "stdout",
     "output_type": "stream",
     "text": [
      "Class  5 complement base accuracy:  0.9921 0.9901\n"
     ]
    },
    {
     "data": {
      "application/vnd.jupyter.widget-view+json": {
       "model_id": "b99d4d2caeb24fc79b6570a675ebc9f4",
       "version_major": 2,
       "version_minor": 0
      },
      "text/plain": [
       "Filter:   0%|          | 0/560000 [00:00<?, ? examples/s]"
      ]
     },
     "metadata": {},
     "output_type": "display_data"
    },
    {
     "data": {
      "application/vnd.jupyter.widget-view+json": {
       "model_id": "227d5bbf6267444d953d4e0389b5e25f",
       "version_major": 2,
       "version_minor": 0
      },
      "text/plain": [
       "Filter:   0%|          | 0/70000 [00:00<?, ? examples/s]"
      ]
     },
     "metadata": {},
     "output_type": "display_data"
    },
    {
     "data": {
      "application/vnd.jupyter.widget-view+json": {
       "model_id": "b1cad50029e840bca5414351b27dfeca",
       "version_major": 2,
       "version_minor": 0
      },
      "text/plain": [
       "Filter:   0%|          | 0/70000 [00:00<?, ? examples/s]"
      ]
     },
     "metadata": {},
     "output_type": "display_data"
    },
    {
     "data": {
      "application/vnd.jupyter.widget-view+json": {
       "model_id": "108d889d1cfb4a16a9aa4cdf538c8f7a",
       "version_major": 2,
       "version_minor": 0
      },
      "text/plain": [
       "Evaluating:   0%|          | 0/313 [00:00<?, ?it/s]"
      ]
     },
     "metadata": {},
     "output_type": "display_data"
    },
    {
     "data": {
      "application/vnd.jupyter.widget-view+json": {
       "model_id": "bd0fc2a82a9d4747819096984b791b66",
       "version_major": 2,
       "version_minor": 0
      },
      "text/plain": [
       "Evaluating:   0%|          | 0/40 [00:00<?, ?it/s]"
      ]
     },
     "metadata": {},
     "output_type": "display_data"
    },
    {
     "name": "stdout",
     "output_type": "stream",
     "text": [
      "Class  6 base accuracy:  0.986 0.9816\n"
     ]
    },
    {
     "data": {
      "application/vnd.jupyter.widget-view+json": {
       "model_id": "5c8bb660c1e44b1ebec15a6b7f65ac7f",
       "version_major": 2,
       "version_minor": 0
      },
      "text/plain": [
       "Evaluating:   0%|          | 0/508 [00:00<?, ?it/s]"
      ]
     },
     "metadata": {},
     "output_type": "display_data"
    },
    {
     "name": "stdout",
     "output_type": "stream",
     "text": [
      "Class  6 complement base accuracy:  0.9927 0.991\n"
     ]
    },
    {
     "data": {
      "application/vnd.jupyter.widget-view+json": {
       "model_id": "28ca9dfb14e148e0865158dd75eacc71",
       "version_major": 2,
       "version_minor": 0
      },
      "text/plain": [
       "Filter:   0%|          | 0/560000 [00:00<?, ? examples/s]"
      ]
     },
     "metadata": {},
     "output_type": "display_data"
    },
    {
     "data": {
      "application/vnd.jupyter.widget-view+json": {
       "model_id": "7016868482944816b50d7ec6d542a36c",
       "version_major": 2,
       "version_minor": 0
      },
      "text/plain": [
       "Filter:   0%|          | 0/70000 [00:00<?, ? examples/s]"
      ]
     },
     "metadata": {},
     "output_type": "display_data"
    },
    {
     "data": {
      "application/vnd.jupyter.widget-view+json": {
       "model_id": "889cf2d5aece41d49d0e2d25a2e9f570",
       "version_major": 2,
       "version_minor": 0
      },
      "text/plain": [
       "Filter:   0%|          | 0/70000 [00:00<?, ? examples/s]"
      ]
     },
     "metadata": {},
     "output_type": "display_data"
    },
    {
     "data": {
      "application/vnd.jupyter.widget-view+json": {
       "model_id": "b23df7a1b51b46c08a6b1106ba0de64d",
       "version_major": 2,
       "version_minor": 0
      },
      "text/plain": [
       "Evaluating:   0%|          | 0/313 [00:00<?, ?it/s]"
      ]
     },
     "metadata": {},
     "output_type": "display_data"
    },
    {
     "data": {
      "application/vnd.jupyter.widget-view+json": {
       "model_id": "99709eb9971047b0a02f8bed7dd7c0a1",
       "version_major": 2,
       "version_minor": 0
      },
      "text/plain": [
       "Evaluating:   0%|          | 0/40 [00:00<?, ?it/s]"
      ]
     },
     "metadata": {},
     "output_type": "display_data"
    },
    {
     "name": "stdout",
     "output_type": "stream",
     "text": [
      "Class  7 base accuracy:  0.9964 0.9956\n"
     ]
    },
    {
     "data": {
      "application/vnd.jupyter.widget-view+json": {
       "model_id": "837dac38f72e42a7ac985eff25a192eb",
       "version_major": 2,
       "version_minor": 0
      },
      "text/plain": [
       "Evaluating:   0%|          | 0/508 [00:00<?, ?it/s]"
      ]
     },
     "metadata": {},
     "output_type": "display_data"
    },
    {
     "name": "stdout",
     "output_type": "stream",
     "text": [
      "Class  7 complement base accuracy:  0.9919 0.99\n"
     ]
    },
    {
     "data": {
      "application/vnd.jupyter.widget-view+json": {
       "model_id": "5b1c988d12c74a1aa91596d5c34307fa",
       "version_major": 2,
       "version_minor": 0
      },
      "text/plain": [
       "Filter:   0%|          | 0/560000 [00:00<?, ? examples/s]"
      ]
     },
     "metadata": {},
     "output_type": "display_data"
    },
    {
     "data": {
      "application/vnd.jupyter.widget-view+json": {
       "model_id": "c54ba9083f9347dbb255f0770f10cb09",
       "version_major": 2,
       "version_minor": 0
      },
      "text/plain": [
       "Filter:   0%|          | 0/70000 [00:00<?, ? examples/s]"
      ]
     },
     "metadata": {},
     "output_type": "display_data"
    },
    {
     "data": {
      "application/vnd.jupyter.widget-view+json": {
       "model_id": "46b3e73fbd9f48faaaf47516bea3d79a",
       "version_major": 2,
       "version_minor": 0
      },
      "text/plain": [
       "Filter:   0%|          | 0/70000 [00:00<?, ? examples/s]"
      ]
     },
     "metadata": {},
     "output_type": "display_data"
    },
    {
     "data": {
      "application/vnd.jupyter.widget-view+json": {
       "model_id": "7a11862b6ffe4c3da6adf14cab0a90f6",
       "version_major": 2,
       "version_minor": 0
      },
      "text/plain": [
       "Evaluating:   0%|          | 0/313 [00:00<?, ?it/s]"
      ]
     },
     "metadata": {},
     "output_type": "display_data"
    },
    {
     "data": {
      "application/vnd.jupyter.widget-view+json": {
       "model_id": "99986e9bd6cf44e0a5474ee1671c19b3",
       "version_major": 2,
       "version_minor": 0
      },
      "text/plain": [
       "Evaluating:   0%|          | 0/40 [00:00<?, ?it/s]"
      ]
     },
     "metadata": {},
     "output_type": "display_data"
    },
    {
     "name": "stdout",
     "output_type": "stream",
     "text": [
      "Class  8 base accuracy:  0.9992 0.999\n"
     ]
    },
    {
     "data": {
      "application/vnd.jupyter.widget-view+json": {
       "model_id": "9a613a2fdf9848388bcb1049234039c6",
       "version_major": 2,
       "version_minor": 0
      },
      "text/plain": [
       "Evaluating:   0%|          | 0/508 [00:00<?, ?it/s]"
      ]
     },
     "metadata": {},
     "output_type": "display_data"
    },
    {
     "name": "stdout",
     "output_type": "stream",
     "text": [
      "Class  8 complement base accuracy:  0.9917 0.9897\n"
     ]
    },
    {
     "data": {
      "application/vnd.jupyter.widget-view+json": {
       "model_id": "ff1eb5bf695345feb2195f52ec2fe164",
       "version_major": 2,
       "version_minor": 0
      },
      "text/plain": [
       "Filter:   0%|          | 0/560000 [00:00<?, ? examples/s]"
      ]
     },
     "metadata": {},
     "output_type": "display_data"
    },
    {
     "data": {
      "application/vnd.jupyter.widget-view+json": {
       "model_id": "13903e5fc3d243c9b2d66d6650940e18",
       "version_major": 2,
       "version_minor": 0
      },
      "text/plain": [
       "Filter:   0%|          | 0/70000 [00:00<?, ? examples/s]"
      ]
     },
     "metadata": {},
     "output_type": "display_data"
    },
    {
     "data": {
      "application/vnd.jupyter.widget-view+json": {
       "model_id": "cf49ed33501743708abeadbff172f96e",
       "version_major": 2,
       "version_minor": 0
      },
      "text/plain": [
       "Filter:   0%|          | 0/70000 [00:00<?, ? examples/s]"
      ]
     },
     "metadata": {},
     "output_type": "display_data"
    },
    {
     "data": {
      "application/vnd.jupyter.widget-view+json": {
       "model_id": "fccf4f3ce3604616a82730ad8f623bb4",
       "version_major": 2,
       "version_minor": 0
      },
      "text/plain": [
       "Evaluating:   0%|          | 0/313 [00:00<?, ?it/s]"
      ]
     },
     "metadata": {},
     "output_type": "display_data"
    },
    {
     "data": {
      "application/vnd.jupyter.widget-view+json": {
       "model_id": "0416c87b96c24e879d612fe5071e0344",
       "version_major": 2,
       "version_minor": 0
      },
      "text/plain": [
       "Evaluating:   0%|          | 0/40 [00:00<?, ?it/s]"
      ]
     },
     "metadata": {},
     "output_type": "display_data"
    },
    {
     "name": "stdout",
     "output_type": "stream",
     "text": [
      "Class  9 base accuracy:  0.9978 0.9979\n"
     ]
    },
    {
     "data": {
      "application/vnd.jupyter.widget-view+json": {
       "model_id": "1c78184a1ca54738b9c577ae88491329",
       "version_major": 2,
       "version_minor": 0
      },
      "text/plain": [
       "Evaluating:   0%|          | 0/508 [00:00<?, ?it/s]"
      ]
     },
     "metadata": {},
     "output_type": "display_data"
    },
    {
     "name": "stdout",
     "output_type": "stream",
     "text": [
      "Class  9 complement base accuracy:  0.9918 0.9898\n"
     ]
    },
    {
     "data": {
      "application/vnd.jupyter.widget-view+json": {
       "model_id": "a4beb9b6d5014842a55499d0a006e11d",
       "version_major": 2,
       "version_minor": 0
      },
      "text/plain": [
       "Filter:   0%|          | 0/560000 [00:00<?, ? examples/s]"
      ]
     },
     "metadata": {},
     "output_type": "display_data"
    },
    {
     "data": {
      "application/vnd.jupyter.widget-view+json": {
       "model_id": "4629f587a6c4413b8cf4eebcda773523",
       "version_major": 2,
       "version_minor": 0
      },
      "text/plain": [
       "Filter:   0%|          | 0/70000 [00:00<?, ? examples/s]"
      ]
     },
     "metadata": {},
     "output_type": "display_data"
    },
    {
     "data": {
      "application/vnd.jupyter.widget-view+json": {
       "model_id": "60e7b6b818c84a49b333dcbce07e18c4",
       "version_major": 2,
       "version_minor": 0
      },
      "text/plain": [
       "Filter:   0%|          | 0/70000 [00:00<?, ? examples/s]"
      ]
     },
     "metadata": {},
     "output_type": "display_data"
    },
    {
     "data": {
      "application/vnd.jupyter.widget-view+json": {
       "model_id": "1de341393005458c87bf1cd6b4a841c0",
       "version_major": 2,
       "version_minor": 0
      },
      "text/plain": [
       "Evaluating:   0%|          | 0/313 [00:00<?, ?it/s]"
      ]
     },
     "metadata": {},
     "output_type": "display_data"
    },
    {
     "data": {
      "application/vnd.jupyter.widget-view+json": {
       "model_id": "295dc526efec4231979a34cfc601deb5",
       "version_major": 2,
       "version_minor": 0
      },
      "text/plain": [
       "Evaluating:   0%|          | 0/40 [00:00<?, ?it/s]"
      ]
     },
     "metadata": {},
     "output_type": "display_data"
    },
    {
     "name": "stdout",
     "output_type": "stream",
     "text": [
      "Class  10 base accuracy:  0.9968 0.9963\n"
     ]
    },
    {
     "data": {
      "application/vnd.jupyter.widget-view+json": {
       "model_id": "d761a0f413874ce899a34ae6a4b88042",
       "version_major": 2,
       "version_minor": 0
      },
      "text/plain": [
       "Evaluating:   0%|          | 0/508 [00:00<?, ?it/s]"
      ]
     },
     "metadata": {},
     "output_type": "display_data"
    },
    {
     "name": "stdout",
     "output_type": "stream",
     "text": [
      "Class  10 complement base accuracy:  0.9919 0.9899\n"
     ]
    },
    {
     "data": {
      "application/vnd.jupyter.widget-view+json": {
       "model_id": "60afe737eeea45c897b5fd8886b4924c",
       "version_major": 2,
       "version_minor": 0
      },
      "text/plain": [
       "Filter:   0%|          | 0/560000 [00:00<?, ? examples/s]"
      ]
     },
     "metadata": {},
     "output_type": "display_data"
    },
    {
     "data": {
      "application/vnd.jupyter.widget-view+json": {
       "model_id": "8a459524f97241d182ab8330fa55cfb9",
       "version_major": 2,
       "version_minor": 0
      },
      "text/plain": [
       "Filter:   0%|          | 0/70000 [00:00<?, ? examples/s]"
      ]
     },
     "metadata": {},
     "output_type": "display_data"
    },
    {
     "data": {
      "application/vnd.jupyter.widget-view+json": {
       "model_id": "2c49b173afd748cba571f88973be70f5",
       "version_major": 2,
       "version_minor": 0
      },
      "text/plain": [
       "Filter:   0%|          | 0/70000 [00:00<?, ? examples/s]"
      ]
     },
     "metadata": {},
     "output_type": "display_data"
    },
    {
     "data": {
      "application/vnd.jupyter.widget-view+json": {
       "model_id": "1e053a5a95f64646a380813cdba34440",
       "version_major": 2,
       "version_minor": 0
      },
      "text/plain": [
       "Evaluating:   0%|          | 0/313 [00:00<?, ?it/s]"
      ]
     },
     "metadata": {},
     "output_type": "display_data"
    },
    {
     "data": {
      "application/vnd.jupyter.widget-view+json": {
       "model_id": "f5fdb25073e8439db15f5faa4802279d",
       "version_major": 2,
       "version_minor": 0
      },
      "text/plain": [
       "Evaluating:   0%|          | 0/40 [00:00<?, ?it/s]"
      ]
     },
     "metadata": {},
     "output_type": "display_data"
    },
    {
     "name": "stdout",
     "output_type": "stream",
     "text": [
      "Class  11 base accuracy:  0.9944 0.9938\n"
     ]
    },
    {
     "data": {
      "application/vnd.jupyter.widget-view+json": {
       "model_id": "c1dcb18fba9b456dacd6cfe8985e05bf",
       "version_major": 2,
       "version_minor": 0
      },
      "text/plain": [
       "Evaluating:   0%|          | 0/508 [00:00<?, ?it/s]"
      ]
     },
     "metadata": {},
     "output_type": "display_data"
    },
    {
     "name": "stdout",
     "output_type": "stream",
     "text": [
      "Class  11 complement base accuracy:  0.9921 0.9901\n"
     ]
    },
    {
     "data": {
      "application/vnd.jupyter.widget-view+json": {
       "model_id": "3a511680dac14340b7c603367112b73e",
       "version_major": 2,
       "version_minor": 0
      },
      "text/plain": [
       "Filter:   0%|          | 0/560000 [00:00<?, ? examples/s]"
      ]
     },
     "metadata": {},
     "output_type": "display_data"
    },
    {
     "data": {
      "application/vnd.jupyter.widget-view+json": {
       "model_id": "51b63a331c3e495ca3f11d29936e81f6",
       "version_major": 2,
       "version_minor": 0
      },
      "text/plain": [
       "Filter:   0%|          | 0/70000 [00:00<?, ? examples/s]"
      ]
     },
     "metadata": {},
     "output_type": "display_data"
    },
    {
     "data": {
      "application/vnd.jupyter.widget-view+json": {
       "model_id": "549f968c090944ab96d3893031a88fa6",
       "version_major": 2,
       "version_minor": 0
      },
      "text/plain": [
       "Filter:   0%|          | 0/70000 [00:00<?, ? examples/s]"
      ]
     },
     "metadata": {},
     "output_type": "display_data"
    },
    {
     "data": {
      "application/vnd.jupyter.widget-view+json": {
       "model_id": "6b09ffaff65c4c4f9e1dec022551fbf0",
       "version_major": 2,
       "version_minor": 0
      },
      "text/plain": [
       "Evaluating:   0%|          | 0/313 [00:00<?, ?it/s]"
      ]
     },
     "metadata": {},
     "output_type": "display_data"
    },
    {
     "data": {
      "application/vnd.jupyter.widget-view+json": {
       "model_id": "72bba891988d4dc99f541b77d211923e",
       "version_major": 2,
       "version_minor": 0
      },
      "text/plain": [
       "Evaluating:   0%|          | 0/40 [00:00<?, ?it/s]"
      ]
     },
     "metadata": {},
     "output_type": "display_data"
    },
    {
     "name": "stdout",
     "output_type": "stream",
     "text": [
      "Class  12 base accuracy:  0.9934 0.9928\n"
     ]
    },
    {
     "data": {
      "application/vnd.jupyter.widget-view+json": {
       "model_id": "56cb306d326947b5840cf67b39860ace",
       "version_major": 2,
       "version_minor": 0
      },
      "text/plain": [
       "Evaluating:   0%|          | 0/508 [00:00<?, ?it/s]"
      ]
     },
     "metadata": {},
     "output_type": "display_data"
    },
    {
     "name": "stdout",
     "output_type": "stream",
     "text": [
      "Class  12 complement base accuracy:  0.9921 0.9902\n"
     ]
    },
    {
     "data": {
      "application/vnd.jupyter.widget-view+json": {
       "model_id": "3e3d37cda34f487297a8b6dcd8a9e3ea",
       "version_major": 2,
       "version_minor": 0
      },
      "text/plain": [
       "Filter:   0%|          | 0/560000 [00:00<?, ? examples/s]"
      ]
     },
     "metadata": {},
     "output_type": "display_data"
    },
    {
     "data": {
      "application/vnd.jupyter.widget-view+json": {
       "model_id": "01164b9a032b44d197f6c0f60eebde08",
       "version_major": 2,
       "version_minor": 0
      },
      "text/plain": [
       "Filter:   0%|          | 0/70000 [00:00<?, ? examples/s]"
      ]
     },
     "metadata": {},
     "output_type": "display_data"
    },
    {
     "data": {
      "application/vnd.jupyter.widget-view+json": {
       "model_id": "2359a0e315014a2e9d8377fa8827c732",
       "version_major": 2,
       "version_minor": 0
      },
      "text/plain": [
       "Filter:   0%|          | 0/70000 [00:00<?, ? examples/s]"
      ]
     },
     "metadata": {},
     "output_type": "display_data"
    },
    {
     "data": {
      "application/vnd.jupyter.widget-view+json": {
       "model_id": "0a3e6782f00c4470a83b0cfe379f102b",
       "version_major": 2,
       "version_minor": 0
      },
      "text/plain": [
       "Evaluating:   0%|          | 0/313 [00:00<?, ?it/s]"
      ]
     },
     "metadata": {},
     "output_type": "display_data"
    },
    {
     "data": {
      "application/vnd.jupyter.widget-view+json": {
       "model_id": "6eda7a0f957947699e226ca872f6a415",
       "version_major": 2,
       "version_minor": 0
      },
      "text/plain": [
       "Evaluating:   0%|          | 0/40 [00:00<?, ?it/s]"
      ]
     },
     "metadata": {},
     "output_type": "display_data"
    },
    {
     "name": "stdout",
     "output_type": "stream",
     "text": [
      "Class  13 base accuracy:  0.9936 0.9925\n"
     ]
    },
    {
     "data": {
      "application/vnd.jupyter.widget-view+json": {
       "model_id": "12854ae051804fe19f3719e91454a54c",
       "version_major": 2,
       "version_minor": 0
      },
      "text/plain": [
       "Evaluating:   0%|          | 0/508 [00:00<?, ?it/s]"
      ]
     },
     "metadata": {},
     "output_type": "display_data"
    },
    {
     "name": "stdout",
     "output_type": "stream",
     "text": [
      "Class  13 complement base accuracy:  0.9921 0.9902\n"
     ]
    }
   ],
   "source": [
    "from datasets import load_dataset, concatenate_datasets\n",
    "\n",
    "from sklearn.model_selection import train_test_split\n",
    "from transformers import GPT2Tokenizer, DataCollatorForLanguageModeling\n",
    "import random\n",
    "import numpy as np\n",
    "from utilities import evaluate_gpt2_classification as evaluate_gpt2_classification, mask_range_gpt,compute_masks, reset_gpt, compute_mask_probe, mask_gpt2\n",
    "import torch  \n",
    "from tqdm import tqdm\n",
    "\n",
    "dataset_name = \"fancyzhx/dbpedia_14\"\n",
    "\n",
    "text_tag = \"content\"\n",
    "\n",
    "# Load dataset and tokenizer\n",
    "\n",
    "\n",
    "tables = []\n",
    "layer = 11\n",
    "\n",
    "num_classes = 14\n",
    "\n",
    "# tao = 2.5\n",
    "\n",
    "lab = \"label\"\n",
    "# tao = torch.inf\n",
    "\n",
    "dataset = load_dataset(dataset_name)\n",
    "\n",
    "print(dataset)\n",
    "\n",
    "# print(dataset['train'].features)\n",
    "\n",
    "\n",
    "\n",
    "\n",
    "\n",
    "\n",
    "#######################Filter dataset####################\n",
    "from datasets import DatasetDict, Dataset, Features, ClassLabel, Value\n",
    "import pandas as pd\n",
    "\n",
    "def sample_balanced_dataset(dataset_dict, max_train_per_class=800, max_test_per_class=200):\n",
    "    \"\"\"\n",
    "    Sample a balanced subset while preserving the original feature structure including ClassLabel.\n",
    "    \"\"\"\n",
    "    # Store original features\n",
    "    original_features = dataset_dict['train'].features\n",
    "    \n",
    "    # Convert to pandas for sampling\n",
    "    train_df = dataset_dict['train'].to_pandas()\n",
    "    test_df = dataset_dict['test'].to_pandas()\n",
    "    \n",
    "    # Group by label\n",
    "    train_groups = train_df.groupby('label')\n",
    "    test_groups = test_df.groupby('label')\n",
    "    \n",
    "    sampled_train_dfs = []\n",
    "    sampled_test_dfs = []\n",
    "    \n",
    "    print(\"\\nClass distribution:\")\n",
    "    print(\"\\nLabel | Label Name | Train Samples | Test Samples | Final Train | Final Test\")\n",
    "    print(\"-\" * 85)\n",
    "    \n",
    "    label_names = original_features['label'].names\n",
    "    for idx, label_name in enumerate(label_names):\n",
    "        train_group = train_groups.get_group(idx)\n",
    "        test_group = test_groups.get_group(idx) if idx in test_groups.groups else pd.DataFrame()\n",
    "        \n",
    "        # Sample with replacement if needed\n",
    "        train_replace = len(train_group) < max_train_per_class\n",
    "        test_replace = len(test_group) < max_test_per_class\n",
    "        \n",
    "        sampled_train = train_group.sample(\n",
    "            n=min(len(train_group), max_train_per_class),\n",
    "            replace=train_replace,\n",
    "            random_state=42\n",
    "        )\n",
    "        \n",
    "        if not test_group.empty:\n",
    "            sampled_test = test_group.sample(\n",
    "                n=min(len(test_group), max_test_per_class),\n",
    "                replace=test_replace,\n",
    "                random_state=42\n",
    "            )\n",
    "        else:\n",
    "            sampled_test = pd.DataFrame(columns=test_df.columns)\n",
    "        \n",
    "        sampled_train_dfs.append(sampled_train)\n",
    "        sampled_test_dfs.append(sampled_test)\n",
    "        \n",
    "        print(f\"{idx:5d} | {label_name:10s} | {len(train_group):12d} | \"\n",
    "              f\"{len(test_group):11d} | {len(sampled_train):10d} | {len(sampled_test):9d}\")\n",
    "    \n",
    "    # Concatenate all sampled dataframes\n",
    "    final_train_df = pd.concat(sampled_train_dfs, ignore_index=True)\n",
    "    final_test_df = pd.concat(sampled_test_dfs, ignore_index=True)\n",
    "    \n",
    "    # Convert back to datasets while preserving the original features\n",
    "    final_train_dataset = Dataset.from_pandas(final_train_df, features=original_features)\n",
    "    final_test_dataset = Dataset.from_pandas(final_test_df, features=original_features)\n",
    "    \n",
    "    # Create new DatasetDict\n",
    "    sampled_dataset = DatasetDict({\n",
    "        'train': final_train_dataset,\n",
    "        'test': final_test_dataset\n",
    "    })\n",
    "    \n",
    "    print(\"\\nFinal dataset sizes:\")\n",
    "    print(f\"Train: {len(final_train_dataset)} samples\")\n",
    "    print(f\"Test: {len(final_test_dataset)} samples\")\n",
    "    \n",
    "    # Verify feature structure is preserved\n",
    "    print(\"\\nVerifying feature structure:\")\n",
    "    print(sampled_dataset['train'].features)\n",
    "    \n",
    "    return sampled_dataset\n",
    "\n",
    "# dataset = sample_balanced_dataset(dataset, max_train_per_class=800, max_test_per_class=200)\n",
    "\n",
    "###########################################\n",
    "\n",
    "\n",
    "\n",
    "# Set random seed\n",
    "seed_value = 42  # or any other integer\n",
    "\n",
    "random.seed(seed_value)\n",
    "np.random.seed(seed_value)\n",
    "\n",
    "if torch.cuda.is_available():  # PyTorch-specific\n",
    "    torch.manual_seed(seed_value)\n",
    "    torch.cuda.manual_seed_all(seed_value)\n",
    "\n",
    "import torch\n",
    "\n",
    "torch.autograd.set_detect_anomaly(True)\n",
    "# Load tokenizer\n",
    "tokenizer = GPT2Tokenizer.from_pretrained('gpt2')\n",
    "\n",
    "\n",
    "special_tokens_dict = {}\n",
    "new_tokens = []\n",
    "label2text = dataset['train'].features[lab].names\n",
    "\n",
    "for label in label2text:\n",
    "    # Create special token format (with and without space)\n",
    "    special_token = f'{label}'\n",
    "    \n",
    "    # Check if the label is already a single token in the tokenizer\n",
    "    label_tokens = tokenizer.encode(label, add_special_tokens=False)\n",
    "    is_single_token = len(label_tokens) == 1\n",
    "    \n",
    "    if is_single_token:\n",
    "        print(f\"'{label}' is already a single token (ID: {label_tokens[0]})\")\n",
    "    \n",
    "    # Add both versions to new tokens list\n",
    "    new_tokens.extend([special_token])\n",
    "\n",
    "# Add the tokens to the tokenizer\n",
    "num_added_tokens = tokenizer.add_tokens(new_tokens)\n",
    "print(f\"\\nAdded {num_added_tokens} new tokens to the tokenizer\")\n",
    "\n",
    "special_tokens = {\n",
    "    'pad_token': '<|pad|>',\n",
    "    'sep_token': '<|sep|>',\n",
    "    'eos_token': '<|eos|>'\n",
    "}\n",
    "tokenizer.add_special_tokens(special_tokens)\n",
    "\n",
    "def format_data(examples):\n",
    "    formatted_texts = []\n",
    "    for text, label in zip(examples[text_tag], examples[lab]):\n",
    "        # Convert label to string\n",
    "        \n",
    "        tok_text = tokenizer.encode(text, max_length=400, truncation=True)\n",
    "        text = tokenizer.decode(tok_text)\n",
    "        label_str = dataset['train'].features[lab].int2str(label)\n",
    "        formatted_text = f\"Classify emotion: {text}{tokenizer.sep_token}\"#{label_str}{tokenizer.eos_token}\"\n",
    "        formatted_texts.append(formatted_text)\n",
    "    return {'formatted_text': formatted_texts}\n",
    "\n",
    "def tokenize_and_prepare(examples):\n",
    "\n",
    "    # Tokenize with batch processing\n",
    "    tokenized = tokenizer(\n",
    "        examples['formatted_text'],\n",
    "        padding='max_length',\n",
    "        max_length=408,\n",
    "        truncation=True,\n",
    "        return_tensors=\"pt\"\n",
    "    )\n",
    "    \n",
    "    # Clone input_ids to create labels\n",
    "    labels = tokenized['input_ids'].clone()\n",
    "    \n",
    "    # Find the position of sep_token\n",
    "    sep_token_id = tokenizer.convert_tokens_to_ids(tokenizer.sep_token)\n",
    "    sep_positions = (labels == sep_token_id).nonzero(as_tuple=True)\n",
    "    \n",
    "    # Mask all tokens with -100 except for the token right after sep_token\n",
    "    labels[:] = -100  # Mask all initially\n",
    "    for batch_idx, sep_pos in zip(*sep_positions):\n",
    "        if sep_pos + 1 < labels.size(1):\n",
    "            labels[batch_idx, sep_pos + 1] = tokenized['input_ids'][batch_idx, sep_pos + 1]\n",
    "    \n",
    "    # Set padding tokens to -100\n",
    "    labels[labels == tokenizer.pad_token_id] = -100\n",
    "    \n",
    "    return {\n",
    "        'input_ids': tokenized['input_ids'],\n",
    "        'attention_mask': tokenized['attention_mask'],\n",
    "        'labels': labels\n",
    "    }\n",
    "    \n",
    "dataset = dataset.filter(lambda x: x[lab] != -1)\n",
    "# Process the dataset\n",
    "formatted_dataset = dataset.map(format_data, batched=True)\n",
    "tokenized_dataset = formatted_dataset.map(\n",
    "    tokenize_and_prepare, \n",
    "    batched=True,\n",
    ")\n",
    "\n",
    "from transformers import GPT2LMHeadModel as gt\n",
    "from models.gpt2 import GPT2LMHeadModel\n",
    "# Load pre-trained GPT-2 model\n",
    "model1 = gt.from_pretrained('gpt2')\n",
    "\n",
    "model1.resize_token_embeddings(len(tokenizer))\n",
    "\n",
    "model1.config.m_layer = layer\n",
    "import os\n",
    "\n",
    "base_path = os.path.join(\"model_weights\", dataset_name)\n",
    "if not os.path.exists(base_path):\n",
    "    os.makedirs(base_path)\n",
    "\n",
    "weights_path = os.path.join(base_path, \"weights.pth\")\n",
    "\n",
    "model = GPT2LMHeadModel(model1.config)\n",
    "\n",
    "\n",
    "model.load_state_dict(torch.load(weights_path))\n",
    "\n",
    "\n",
    "\n",
    "\n",
    "from prettytable import PrettyTable\n",
    "import warnings\n",
    "warnings.filterwarnings(\"ignore\", category=UserWarning, module=\"torch.tensor\")\n",
    "\n",
    "batch_size = 2048/4\n",
    "# mask_layer = 5\n",
    "compliment = True\n",
    "results_table = PrettyTable()\n",
    "if(compliment):\n",
    "    results_table.field_names = results_table.field_names = [\"Class\", \"Base Accuracy\", \"Base Confidence\", \"Base Complement Acc\", \"Base Compliment Conf\", \"STD Accuracy\", \"STD Confidence\", \"STD compliment ACC\", \"STD compliment Conf\", \"MAX Accuracy\", \"MAX Confidence\", \"Max compliment acc\", \"Max compliment conf\", \"Total Masked\", \"Intersection\"]#, \"Same as Max\"]#\"MAX Accuracy\", \"MAX Confidence\", \"Max compliment acc\", \"Max compliment conf\"\n",
    "\n",
    "class_labels = []\n",
    "base_accuracies = []\n",
    "base_confidences = []\n",
    "base_comp_acc = []\n",
    "base_comp_conf = []\n",
    "std_masked_counts = []\n",
    "std_accuracies = []\n",
    "std_confidences = []\n",
    "std_comp_acc = []\n",
    "std_comp_conf = []\n",
    "max_masked_counts = []\n",
    "max_accuracies = []\n",
    "max_confidences = []\n",
    "max_comp_acc = []\n",
    "max_comp_conf = []\n",
    "diff_from_max = []\n",
    "total_masked = []\n",
    "\n",
    "#merge test and train set and then shuffle and make splits\n",
    "\n",
    "# First merge and shuffle\n",
    "# tokenized_dataset = concatenate_datasets([tokenized_dataset['train'], tokenized_dataset['test']]).shuffle(seed=42)#.select(range(100))\n",
    "\n",
    "# Get the total length\n",
    "# dataset_length = len(tokenized_dataset)\n",
    "\n",
    "\n",
    "# Calculate split index\n",
    "# split_index = int(dataset_length * 0.2)  # 80% for training\n",
    "\n",
    "# Create the splits using dataset slicing\n",
    "tokenized_dataset1 = tokenized_dataset['test']#.shuffle().select(range(2000))\n",
    "recording_dataset = tokenized_dataset['train']#.shuffle().select(range(2000))\n",
    "\n",
    "    \n",
    "\n",
    "\n",
    "\n",
    "all_fc_vals = []\n",
    "base_accuracies = []\n",
    "base_confidences = []\n",
    "base_comp_acc = []\n",
    "base_comp_conf = []\n",
    "print(\"Recording activations...\")\n",
    "for j in range(0,num_classes):\n",
    "    dataset_recording = recording_dataset.filter(lambda x: x[lab] in [j])\n",
    "    dataset = tokenized_dataset1.filter(lambda x: x[lab] in [j])\n",
    "    dataset_complement = tokenized_dataset1.filter(lambda x: x[lab] not in [j])\n",
    "    fc_vals = evaluate_gpt2_classification(lab, model, dataset_recording, tokenizer)\n",
    "    fc_vals = fc_vals[2]\n",
    "    all_fc_vals.append(np.array(fc_vals))\n",
    "    \n",
    "    \n",
    "    \n",
    "    acc = evaluate_gpt2_classification(lab, model, dataset, tokenizer)\n",
    "    \n",
    "    base_accuracies.append(acc[0])\n",
    "    base_confidences.append(acc[1])\n",
    "    \n",
    "    print(\"Class \",j, \"base accuracy: \", acc[0], acc[1])\n",
    "    \n",
    "    acc = evaluate_gpt2_classification(lab, model, dataset_complement, tokenizer)\n",
    "    \n",
    "    base_comp_acc.append(acc[0])\n",
    "    base_comp_conf.append(acc[1])\n",
    "    \n",
    "    print(\"Class \",j, \"complement base accuracy: \", acc[0], acc[1])\n",
    "    \n",
    "\n"
   ]
  },
  {
   "cell_type": "code",
   "execution_count": 2,
   "metadata": {},
   "outputs": [
    {
     "name": "stdout",
     "output_type": "stream",
     "text": [
      "percentage:  0.05\n",
      "Class  0 base accuracy:  0.9756 0.9691\n",
      "Class  0 complement base accuracy:  0.9935 0.992\n"
     ]
    },
    {
     "data": {
      "application/vnd.jupyter.widget-view+json": {
       "model_id": "0c82fb1b9c0a436bb7017c62ef593254",
       "version_major": 2,
       "version_minor": 0
      },
      "text/plain": [
       "Evaluating:   0%|          | 0/40 [00:00<?, ?it/s]"
      ]
     },
     "metadata": {},
     "output_type": "display_data"
    },
    {
     "name": "stdout",
     "output_type": "stream",
     "text": [
      "accuracy after masking STD:  0.0246 0.0193\n"
     ]
    },
    {
     "data": {
      "application/vnd.jupyter.widget-view+json": {
       "model_id": "c6ec581cd17547728ab95cf2f33694a7",
       "version_major": 2,
       "version_minor": 0
      },
      "text/plain": [
       "Evaluating:   0%|          | 0/508 [00:00<?, ?it/s]"
      ]
     },
     "metadata": {},
     "output_type": "display_data"
    },
    {
     "name": "stdout",
     "output_type": "stream",
     "text": [
      "accuracy after masking STD on complement:  0.9893 0.9794\n",
      "Class  1 base accuracy:  0.9898 0.9868\n",
      "Class  1 complement base accuracy:  0.9924 0.9906\n"
     ]
    },
    {
     "data": {
      "application/vnd.jupyter.widget-view+json": {
       "model_id": "f56e023adeaf4e30b14dafa018f77c7f",
       "version_major": 2,
       "version_minor": 0
      },
      "text/plain": [
       "Evaluating:   0%|          | 0/40 [00:00<?, ?it/s]"
      ]
     },
     "metadata": {},
     "output_type": "display_data"
    },
    {
     "name": "stdout",
     "output_type": "stream",
     "text": [
      "accuracy after masking STD:  0.1866 0.0858\n"
     ]
    },
    {
     "data": {
      "application/vnd.jupyter.widget-view+json": {
       "model_id": "33b71e03471e4768bbf5f2ebd595f944",
       "version_major": 2,
       "version_minor": 0
      },
      "text/plain": [
       "Evaluating:   0%|          | 0/508 [00:00<?, ?it/s]"
      ]
     },
     "metadata": {},
     "output_type": "display_data"
    },
    {
     "name": "stdout",
     "output_type": "stream",
     "text": [
      "accuracy after masking STD on complement:  0.9735 0.9593\n",
      "Class  2 base accuracy:  0.9894 0.9856\n",
      "Class  2 complement base accuracy:  0.9924 0.9907\n"
     ]
    },
    {
     "data": {
      "application/vnd.jupyter.widget-view+json": {
       "model_id": "c5ba0ab135ef4389a607c89d32b2a89f",
       "version_major": 2,
       "version_minor": 0
      },
      "text/plain": [
       "Evaluating:   0%|          | 0/40 [00:00<?, ?it/s]"
      ]
     },
     "metadata": {},
     "output_type": "display_data"
    },
    {
     "name": "stdout",
     "output_type": "stream",
     "text": [
      "accuracy after masking STD:  0.011 0.0084\n"
     ]
    },
    {
     "data": {
      "application/vnd.jupyter.widget-view+json": {
       "model_id": "7609e384a2ce4684ba46626e95bcd433",
       "version_major": 2,
       "version_minor": 0
      },
      "text/plain": [
       "Evaluating:   0%|          | 0/508 [00:00<?, ?it/s]"
      ]
     },
     "metadata": {},
     "output_type": "display_data"
    },
    {
     "name": "stdout",
     "output_type": "stream",
     "text": [
      "accuracy after masking STD on complement:  0.9846 0.9788\n",
      "Class  3 base accuracy:  0.9976 0.9965\n",
      "Class  3 complement base accuracy:  0.9918 0.9899\n"
     ]
    },
    {
     "data": {
      "application/vnd.jupyter.widget-view+json": {
       "model_id": "56bb0b4693014d8d98de788bf425743b",
       "version_major": 2,
       "version_minor": 0
      },
      "text/plain": [
       "Evaluating:   0%|          | 0/40 [00:00<?, ?it/s]"
      ]
     },
     "metadata": {},
     "output_type": "display_data"
    },
    {
     "name": "stdout",
     "output_type": "stream",
     "text": [
      "accuracy after masking STD:  0.0798 0.0487\n"
     ]
    },
    {
     "data": {
      "application/vnd.jupyter.widget-view+json": {
       "model_id": "146c7fccbc414bc6be2cca6f4e8eb4e8",
       "version_major": 2,
       "version_minor": 0
      },
      "text/plain": [
       "Evaluating:   0%|          | 0/508 [00:00<?, ?it/s]"
      ]
     },
     "metadata": {},
     "output_type": "display_data"
    },
    {
     "name": "stdout",
     "output_type": "stream",
     "text": [
      "accuracy after masking STD on complement:  0.9825 0.9623\n",
      "Class  4 base accuracy:  0.9868 0.984\n",
      "Class  4 complement base accuracy:  0.9926 0.9909\n"
     ]
    },
    {
     "data": {
      "application/vnd.jupyter.widget-view+json": {
       "model_id": "62d1a9f95bc640dab6dfc6e29269eaf8",
       "version_major": 2,
       "version_minor": 0
      },
      "text/plain": [
       "Evaluating:   0%|          | 0/40 [00:00<?, ?it/s]"
      ]
     },
     "metadata": {},
     "output_type": "display_data"
    },
    {
     "name": "stdout",
     "output_type": "stream",
     "text": [
      "accuracy after masking STD:  0.0582 0.0407\n"
     ]
    },
    {
     "data": {
      "application/vnd.jupyter.widget-view+json": {
       "model_id": "2d408ef32ad045c3a1c65148033139d1",
       "version_major": 2,
       "version_minor": 0
      },
      "text/plain": [
       "Evaluating:   0%|          | 0/508 [00:00<?, ?it/s]"
      ]
     },
     "metadata": {},
     "output_type": "display_data"
    },
    {
     "name": "stdout",
     "output_type": "stream",
     "text": [
      "accuracy after masking STD on complement:  0.9398 0.9085\n",
      "Class  5 base accuracy:  0.9944 0.994\n",
      "Class  5 complement base accuracy:  0.9921 0.9901\n"
     ]
    },
    {
     "data": {
      "application/vnd.jupyter.widget-view+json": {
       "model_id": "75071547c669455486d1bd5ef63e43ad",
       "version_major": 2,
       "version_minor": 0
      },
      "text/plain": [
       "Evaluating:   0%|          | 0/40 [00:00<?, ?it/s]"
      ]
     },
     "metadata": {},
     "output_type": "display_data"
    },
    {
     "name": "stdout",
     "output_type": "stream",
     "text": [
      "accuracy after masking STD:  0.0544 0.0378\n"
     ]
    },
    {
     "data": {
      "application/vnd.jupyter.widget-view+json": {
       "model_id": "de04e071cb3242aea3d610b1170e22e9",
       "version_major": 2,
       "version_minor": 0
      },
      "text/plain": [
       "Evaluating:   0%|          | 0/508 [00:00<?, ?it/s]"
      ]
     },
     "metadata": {},
     "output_type": "display_data"
    },
    {
     "name": "stdout",
     "output_type": "stream",
     "text": [
      "accuracy after masking STD on complement:  0.9786 0.961\n",
      "Class  6 base accuracy:  0.986 0.9816\n",
      "Class  6 complement base accuracy:  0.9927 0.991\n"
     ]
    },
    {
     "data": {
      "application/vnd.jupyter.widget-view+json": {
       "model_id": "25f43b7d8482479c9bd1a02f5ed8ee5b",
       "version_major": 2,
       "version_minor": 0
      },
      "text/plain": [
       "Evaluating:   0%|          | 0/40 [00:00<?, ?it/s]"
      ]
     },
     "metadata": {},
     "output_type": "display_data"
    },
    {
     "name": "stdout",
     "output_type": "stream",
     "text": [
      "accuracy after masking STD:  0.0164 0.0121\n"
     ]
    },
    {
     "data": {
      "application/vnd.jupyter.widget-view+json": {
       "model_id": "f221f3c909a140fb8f7c450ff8fee42f",
       "version_major": 2,
       "version_minor": 0
      },
      "text/plain": [
       "Evaluating:   0%|          | 0/508 [00:00<?, ?it/s]"
      ]
     },
     "metadata": {},
     "output_type": "display_data"
    },
    {
     "name": "stdout",
     "output_type": "stream",
     "text": [
      "accuracy after masking STD on complement:  0.9854 0.9799\n",
      "Class  7 base accuracy:  0.9964 0.9956\n",
      "Class  7 complement base accuracy:  0.9919 0.99\n"
     ]
    },
    {
     "data": {
      "application/vnd.jupyter.widget-view+json": {
       "model_id": "d424462afe084ce6a938ca62af11216e",
       "version_major": 2,
       "version_minor": 0
      },
      "text/plain": [
       "Evaluating:   0%|          | 0/40 [00:00<?, ?it/s]"
      ]
     },
     "metadata": {},
     "output_type": "display_data"
    },
    {
     "name": "stdout",
     "output_type": "stream",
     "text": [
      "accuracy after masking STD:  0.0498 0.0241\n"
     ]
    },
    {
     "data": {
      "application/vnd.jupyter.widget-view+json": {
       "model_id": "6f60cb2f6bd1443d887c8ba2b95e2bec",
       "version_major": 2,
       "version_minor": 0
      },
      "text/plain": [
       "Evaluating:   0%|          | 0/508 [00:00<?, ?it/s]"
      ]
     },
     "metadata": {},
     "output_type": "display_data"
    },
    {
     "name": "stdout",
     "output_type": "stream",
     "text": [
      "accuracy after masking STD on complement:  0.9716 0.9392\n",
      "Class  8 base accuracy:  0.9992 0.999\n",
      "Class  8 complement base accuracy:  0.9917 0.9897\n"
     ]
    },
    {
     "data": {
      "application/vnd.jupyter.widget-view+json": {
       "model_id": "f4c70156013b4704897c344a44044e1d",
       "version_major": 2,
       "version_minor": 0
      },
      "text/plain": [
       "Evaluating:   0%|          | 0/40 [00:00<?, ?it/s]"
      ]
     },
     "metadata": {},
     "output_type": "display_data"
    },
    {
     "name": "stdout",
     "output_type": "stream",
     "text": [
      "accuracy after masking STD:  0.0942 0.0552\n"
     ]
    },
    {
     "data": {
      "application/vnd.jupyter.widget-view+json": {
       "model_id": "f4c356f32bfe47ffbf6b61f9c030f904",
       "version_major": 2,
       "version_minor": 0
      },
      "text/plain": [
       "Evaluating:   0%|          | 0/508 [00:00<?, ?it/s]"
      ]
     },
     "metadata": {},
     "output_type": "display_data"
    },
    {
     "name": "stdout",
     "output_type": "stream",
     "text": [
      "accuracy after masking STD on complement:  0.9786 0.9476\n",
      "Class  9 base accuracy:  0.9978 0.9979\n",
      "Class  9 complement base accuracy:  0.9918 0.9898\n"
     ]
    },
    {
     "data": {
      "application/vnd.jupyter.widget-view+json": {
       "model_id": "8040dc1be18f4716985d50a782b6a23a",
       "version_major": 2,
       "version_minor": 0
      },
      "text/plain": [
       "Evaluating:   0%|          | 0/40 [00:00<?, ?it/s]"
      ]
     },
     "metadata": {},
     "output_type": "display_data"
    },
    {
     "name": "stdout",
     "output_type": "stream",
     "text": [
      "accuracy after masking STD:  0.0526 0.0379\n"
     ]
    },
    {
     "data": {
      "application/vnd.jupyter.widget-view+json": {
       "model_id": "b77729366b934efabf965009d8b87206",
       "version_major": 2,
       "version_minor": 0
      },
      "text/plain": [
       "Evaluating:   0%|          | 0/508 [00:00<?, ?it/s]"
      ]
     },
     "metadata": {},
     "output_type": "display_data"
    },
    {
     "name": "stdout",
     "output_type": "stream",
     "text": [
      "accuracy after masking STD on complement:  0.98 0.9552\n",
      "Class  10 base accuracy:  0.9968 0.9963\n",
      "Class  10 complement base accuracy:  0.9919 0.9899\n"
     ]
    },
    {
     "data": {
      "application/vnd.jupyter.widget-view+json": {
       "model_id": "080a3dcdeb494c5abfee5ea14dcb3de4",
       "version_major": 2,
       "version_minor": 0
      },
      "text/plain": [
       "Evaluating:   0%|          | 0/40 [00:00<?, ?it/s]"
      ]
     },
     "metadata": {},
     "output_type": "display_data"
    },
    {
     "name": "stdout",
     "output_type": "stream",
     "text": [
      "accuracy after masking STD:  0.1436 0.0816\n"
     ]
    },
    {
     "data": {
      "application/vnd.jupyter.widget-view+json": {
       "model_id": "6ac2dd83a4a440578a71710668ef94ec",
       "version_major": 2,
       "version_minor": 0
      },
      "text/plain": [
       "Evaluating:   0%|          | 0/508 [00:00<?, ?it/s]"
      ]
     },
     "metadata": {},
     "output_type": "display_data"
    },
    {
     "name": "stdout",
     "output_type": "stream",
     "text": [
      "accuracy after masking STD on complement:  0.9885 0.9778\n",
      "Class  11 base accuracy:  0.9944 0.9938\n",
      "Class  11 complement base accuracy:  0.9921 0.9901\n"
     ]
    },
    {
     "data": {
      "application/vnd.jupyter.widget-view+json": {
       "model_id": "93f94c44e711474e8203dc98d2e14350",
       "version_major": 2,
       "version_minor": 0
      },
      "text/plain": [
       "Evaluating:   0%|          | 0/40 [00:00<?, ?it/s]"
      ]
     },
     "metadata": {},
     "output_type": "display_data"
    },
    {
     "name": "stdout",
     "output_type": "stream",
     "text": [
      "accuracy after masking STD:  0.1174 0.0616\n"
     ]
    },
    {
     "data": {
      "application/vnd.jupyter.widget-view+json": {
       "model_id": "d56903f21ee0401b9d5303460523203a",
       "version_major": 2,
       "version_minor": 0
      },
      "text/plain": [
       "Evaluating:   0%|          | 0/508 [00:00<?, ?it/s]"
      ]
     },
     "metadata": {},
     "output_type": "display_data"
    },
    {
     "name": "stdout",
     "output_type": "stream",
     "text": [
      "accuracy after masking STD on complement:  0.9874 0.9723\n",
      "Class  12 base accuracy:  0.9934 0.9928\n",
      "Class  12 complement base accuracy:  0.9921 0.9902\n"
     ]
    },
    {
     "data": {
      "application/vnd.jupyter.widget-view+json": {
       "model_id": "cd7bcfc714ba4e818bc232a77c448be0",
       "version_major": 2,
       "version_minor": 0
      },
      "text/plain": [
       "Evaluating:   0%|          | 0/40 [00:00<?, ?it/s]"
      ]
     },
     "metadata": {},
     "output_type": "display_data"
    },
    {
     "name": "stdout",
     "output_type": "stream",
     "text": [
      "accuracy after masking STD:  0.0302 0.0238\n"
     ]
    },
    {
     "data": {
      "application/vnd.jupyter.widget-view+json": {
       "model_id": "2c0df7a18499457886c5f1060db6df65",
       "version_major": 2,
       "version_minor": 0
      },
      "text/plain": [
       "Evaluating:   0%|          | 0/508 [00:00<?, ?it/s]"
      ]
     },
     "metadata": {},
     "output_type": "display_data"
    },
    {
     "name": "stdout",
     "output_type": "stream",
     "text": [
      "accuracy after masking STD on complement:  0.9722 0.9467\n",
      "Class  13 base accuracy:  0.9936 0.9925\n",
      "Class  13 complement base accuracy:  0.9921 0.9902\n"
     ]
    },
    {
     "data": {
      "application/vnd.jupyter.widget-view+json": {
       "model_id": "94dd1de45ec24c1293765c64f041537d",
       "version_major": 2,
       "version_minor": 0
      },
      "text/plain": [
       "Evaluating:   0%|          | 0/40 [00:00<?, ?it/s]"
      ]
     },
     "metadata": {},
     "output_type": "display_data"
    },
    {
     "name": "stdout",
     "output_type": "stream",
     "text": [
      "accuracy after masking STD:  0.0974 0.0528\n"
     ]
    },
    {
     "data": {
      "application/vnd.jupyter.widget-view+json": {
       "model_id": "6acb421fb8774e83bef9f559c32d2e3f",
       "version_major": 2,
       "version_minor": 0
      },
      "text/plain": [
       "Evaluating:   0%|          | 0/508 [00:00<?, ?it/s]"
      ]
     },
     "metadata": {},
     "output_type": "display_data"
    },
    {
     "name": "stdout",
     "output_type": "stream",
     "text": [
      "accuracy after masking STD on complement:  0.9638 0.9293\n",
      "+----------+---------------+-----------------+---------------------+----------------------+--------------+----------------+--------------------+---------------------+\n",
      "|  Class   | Base Accuracy | Base Confidence | Base Complement Acc | Base Compliment Conf | STD Accuracy | STD Confidence | STD compliment ACC | STD compliment Conf |\n",
      "+----------+---------------+-----------------+---------------------+----------------------+--------------+----------------+--------------------+---------------------+\n",
      "| Class 0  |     0.9756    |      0.9691     |        0.9935       |        0.992         |    0.0246    |     0.0193     |       0.9893       |        0.9794       |\n",
      "| Class 1  |     0.9898    |      0.9868     |        0.9924       |        0.9906        |    0.1866    |     0.0858     |       0.9735       |        0.9593       |\n",
      "| Class 2  |     0.9894    |      0.9856     |        0.9924       |        0.9907        |    0.011     |     0.0084     |       0.9846       |        0.9788       |\n",
      "| Class 3  |     0.9976    |      0.9965     |        0.9918       |        0.9899        |    0.0798    |     0.0487     |       0.9825       |        0.9623       |\n",
      "| Class 4  |     0.9868    |      0.984      |        0.9926       |        0.9909        |    0.0582    |     0.0407     |       0.9398       |        0.9085       |\n",
      "| Class 5  |     0.9944    |      0.994      |        0.9921       |        0.9901        |    0.0544    |     0.0378     |       0.9786       |        0.961        |\n",
      "| Class 6  |     0.986     |      0.9816     |        0.9927       |        0.991         |    0.0164    |     0.0121     |       0.9854       |        0.9799       |\n",
      "| Class 7  |     0.9964    |      0.9956     |        0.9919       |         0.99         |    0.0498    |     0.0241     |       0.9716       |        0.9392       |\n",
      "| Class 8  |     0.9992    |      0.999      |        0.9917       |        0.9897        |    0.0942    |     0.0552     |       0.9786       |        0.9476       |\n",
      "| Class 9  |     0.9978    |      0.9979     |        0.9918       |        0.9898        |    0.0526    |     0.0379     |        0.98        |        0.9552       |\n",
      "| Class 10 |     0.9968    |      0.9963     |        0.9919       |        0.9899        |    0.1436    |     0.0816     |       0.9885       |        0.9778       |\n",
      "| Class 11 |     0.9944    |      0.9938     |        0.9921       |        0.9901        |    0.1174    |     0.0616     |       0.9874       |        0.9723       |\n",
      "| Class 12 |     0.9934    |      0.9928     |        0.9921       |        0.9902        |    0.0302    |     0.0238     |       0.9722       |        0.9467       |\n",
      "| Class 13 |     0.9936    |      0.9925     |        0.9921       |        0.9902        |    0.0974    |     0.0528     |       0.9638       |        0.9293       |\n",
      "+----------+---------------+-----------------+---------------------+----------------------+--------------+----------------+--------------------+---------------------+\n",
      "percentage:  0.01\n",
      "+----------+---------------+-----------------+---------------------+----------------------+--------------+----------------+--------------------+---------------------+\n",
      "|  Class   | Base Accuracy | Base Confidence | Base Complement Acc | Base Compliment Conf | STD Accuracy | STD Confidence | STD compliment ACC | STD compliment Conf |\n",
      "+----------+---------------+-----------------+---------------------+----------------------+--------------+----------------+--------------------+---------------------+\n",
      "| Class 0  |     0.9756    |      0.9691     |        0.9935       |        0.992         |    0.0246    |     0.0193     |       0.9893       |        0.9794       |\n",
      "| Class 1  |     0.9898    |      0.9868     |        0.9924       |        0.9906        |    0.1866    |     0.0858     |       0.9735       |        0.9593       |\n",
      "| Class 2  |     0.9894    |      0.9856     |        0.9924       |        0.9907        |    0.011     |     0.0084     |       0.9846       |        0.9788       |\n",
      "| Class 3  |     0.9976    |      0.9965     |        0.9918       |        0.9899        |    0.0798    |     0.0487     |       0.9825       |        0.9623       |\n",
      "| Class 4  |     0.9868    |      0.984      |        0.9926       |        0.9909        |    0.0582    |     0.0407     |       0.9398       |        0.9085       |\n",
      "| Class 5  |     0.9944    |      0.994      |        0.9921       |        0.9901        |    0.0544    |     0.0378     |       0.9786       |        0.961        |\n",
      "| Class 6  |     0.986     |      0.9816     |        0.9927       |        0.991         |    0.0164    |     0.0121     |       0.9854       |        0.9799       |\n",
      "| Class 7  |     0.9964    |      0.9956     |        0.9919       |         0.99         |    0.0498    |     0.0241     |       0.9716       |        0.9392       |\n",
      "| Class 8  |     0.9992    |      0.999      |        0.9917       |        0.9897        |    0.0942    |     0.0552     |       0.9786       |        0.9476       |\n",
      "| Class 9  |     0.9978    |      0.9979     |        0.9918       |        0.9898        |    0.0526    |     0.0379     |        0.98        |        0.9552       |\n",
      "| Class 10 |     0.9968    |      0.9963     |        0.9919       |        0.9899        |    0.1436    |     0.0816     |       0.9885       |        0.9778       |\n",
      "| Class 11 |     0.9944    |      0.9938     |        0.9921       |        0.9901        |    0.1174    |     0.0616     |       0.9874       |        0.9723       |\n",
      "| Class 12 |     0.9934    |      0.9928     |        0.9921       |        0.9902        |    0.0302    |     0.0238     |       0.9722       |        0.9467       |\n",
      "| Class 13 |     0.9936    |      0.9925     |        0.9921       |        0.9902        |    0.0974    |     0.0528     |       0.9638       |        0.9293       |\n",
      "+----------+---------------+-----------------+---------------------+----------------------+--------------+----------------+--------------------+---------------------+\n"
     ]
    }
   ],
   "source": [
    "per = 0.05\n",
    "tables = []\n",
    "# for i in range(0,20):\n",
    "#     per = 0.02+(i*0.005)\n",
    "print(\"percentage: \", per)\n",
    "\n",
    "# model.transformer.mask_layer.fit_kde(all_fc_vals, threshold=per)\n",
    "\n",
    "model.transformer.mask_layer.fit_histogram(all_fc_vals, threshold=per, num_bins=1000)\n",
    "    \n",
    "    \n",
    "    \n",
    "results_table = PrettyTable()\n",
    "if(compliment):\n",
    "    results_table.field_names = results_table.field_names = [\"Class\", \"Base Accuracy\", \"Base Confidence\", \"Base Complement Acc\", \"Base Compliment Conf\", \"STD Accuracy\", \"STD Confidence\", \"STD compliment ACC\", \"STD compliment Conf\"]\n",
    "\n",
    "class_labels = []\n",
    "std_masked_counts = []\n",
    "std_accuracies = []\n",
    "std_confidences = []\n",
    "std_comp_acc = []\n",
    "std_comp_conf = []\n",
    "max_masked_counts = []\n",
    "max_accuracies = []\n",
    "max_confidences = []\n",
    "max_comp_acc = []\n",
    "max_comp_conf = []\n",
    "diff_from_max = []\n",
    "total_masked = []\n",
    "    \n",
    "\n",
    "for j in range(0,num_classes):\n",
    "    model.transformer.mask_layer.set_class(j)\n",
    "    fc_vals = all_fc_vals[j]\n",
    "    # model = mask_gpt2(model, torch.ones(768).to('cuda'))\n",
    "    dataset = tokenized_dataset1.filter(lambda x: x[lab] in [j])\n",
    "    dataset_recording = recording_dataset.filter(lambda x: x[lab] in [j])\n",
    "    dataset_complement = tokenized_dataset1.filter(lambda x: x[lab] not in [j])\n",
    "    \n",
    "\n",
    "    class_labels.append(f\"Class {j}\")\n",
    "    # acc = evaluate_gpt2_classification(lab, model, dataset, tokenizer)\n",
    "    print(\"Class \",j, \"base accuracy: \", base_accuracies[j], base_confidences[j])\n",
    "    if(compliment):\n",
    "        print(\"Class \",j, \"complement base accuracy: \", base_comp_acc[j], base_comp_conf[j])\n",
    "    acc = evaluate_gpt2_classification(lab, model, dataset, tokenizer) \n",
    "    print(\"accuracy after masking STD: \", acc[0], acc[1])\n",
    "    std_accuracies.append(acc[0])\n",
    "    std_confidences.append(acc[1])\n",
    "    if(compliment):\n",
    "        acc = evaluate_gpt2_classification(lab, model, dataset_complement, tokenizer)\n",
    "        print(\"accuracy after masking STD on complement: \", acc[0], acc[1])\n",
    "        std_comp_acc.append(acc[0])\n",
    "        std_comp_conf.append(acc[1])\n",
    "    if(compliment):\n",
    "        results_table.add_row([\n",
    "            class_labels[j],\n",
    "            base_accuracies[j],\n",
    "            base_confidences[j],\n",
    "            base_comp_acc[j],\n",
    "            base_comp_conf[j],\n",
    "            std_accuracies[j],\n",
    "            std_confidences[j],\n",
    "            std_comp_acc[j],\n",
    "            std_comp_conf[j],\n",
    "        ])            \n",
    "print(results_table)\n",
    "tables.append(results_table)\n",
    "per = 0\n",
    "for table in tables:\n",
    "    per += 0.01\n",
    "    print(\"percentage: \", per)\n",
    "    print(table)"
   ]
  }
 ],
 "metadata": {
  "kernelspec": {
   "display_name": "memit",
   "language": "python",
   "name": "python3"
  },
  "language_info": {
   "codemirror_mode": {
    "name": "ipython",
    "version": 3
   },
   "file_extension": ".py",
   "mimetype": "text/x-python",
   "name": "python",
   "nbconvert_exporter": "python",
   "pygments_lexer": "ipython3",
   "version": "3.9.7"
  }
 },
 "nbformat": 4,
 "nbformat_minor": 2
}
